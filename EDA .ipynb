{
 "cells": [
  {
   "cell_type": "markdown",
   "id": "67b30ef9",
   "metadata": {},
   "source": [
    "# Libraries Required"
   ]
  },
  {
   "cell_type": "code",
   "execution_count": 1,
   "id": "3478efdd",
   "metadata": {},
   "outputs": [],
   "source": [
    "import numpy as np\n",
    "import pandas as pd\n",
    "import matplotlib.pyplot as plt\n",
    "import seaborn as sns"
   ]
  },
  {
   "cell_type": "markdown",
   "id": "0da7a4a8",
   "metadata": {},
   "source": [
    "### Reading The Dataset"
   ]
  },
  {
   "cell_type": "code",
   "execution_count": 2,
   "id": "2ee9693d",
   "metadata": {},
   "outputs": [],
   "source": [
    "df = pd.read_csv('C:\\\\Users\\\\prasa\\\\VsCode\\\\Campus Placement Predictor Webapp Using ML\\\\archive\\\\collegePlace.csv')"
   ]
  },
  {
   "cell_type": "code",
   "execution_count": 3,
   "id": "f88c37b4",
   "metadata": {},
   "outputs": [
    {
     "data": {
      "text/html": [
       "<div>\n",
       "<style scoped>\n",
       "    .dataframe tbody tr th:only-of-type {\n",
       "        vertical-align: middle;\n",
       "    }\n",
       "\n",
       "    .dataframe tbody tr th {\n",
       "        vertical-align: top;\n",
       "    }\n",
       "\n",
       "    .dataframe thead th {\n",
       "        text-align: right;\n",
       "    }\n",
       "</style>\n",
       "<table border=\"1\" class=\"dataframe\">\n",
       "  <thead>\n",
       "    <tr style=\"text-align: right;\">\n",
       "      <th></th>\n",
       "      <th>Age</th>\n",
       "      <th>Gender</th>\n",
       "      <th>Stream</th>\n",
       "      <th>Internships</th>\n",
       "      <th>CGPA</th>\n",
       "      <th>Hostel</th>\n",
       "      <th>HistoryOfBacklogs</th>\n",
       "      <th>PlacedOrNot</th>\n",
       "    </tr>\n",
       "  </thead>\n",
       "  <tbody>\n",
       "    <tr>\n",
       "      <th>0</th>\n",
       "      <td>22</td>\n",
       "      <td>Male</td>\n",
       "      <td>Electronics And Communication</td>\n",
       "      <td>1</td>\n",
       "      <td>8</td>\n",
       "      <td>1</td>\n",
       "      <td>1</td>\n",
       "      <td>1</td>\n",
       "    </tr>\n",
       "    <tr>\n",
       "      <th>1</th>\n",
       "      <td>21</td>\n",
       "      <td>Female</td>\n",
       "      <td>Computer Science</td>\n",
       "      <td>0</td>\n",
       "      <td>7</td>\n",
       "      <td>1</td>\n",
       "      <td>1</td>\n",
       "      <td>1</td>\n",
       "    </tr>\n",
       "    <tr>\n",
       "      <th>2</th>\n",
       "      <td>22</td>\n",
       "      <td>Female</td>\n",
       "      <td>Information Technology</td>\n",
       "      <td>1</td>\n",
       "      <td>6</td>\n",
       "      <td>0</td>\n",
       "      <td>0</td>\n",
       "      <td>1</td>\n",
       "    </tr>\n",
       "    <tr>\n",
       "      <th>3</th>\n",
       "      <td>21</td>\n",
       "      <td>Male</td>\n",
       "      <td>Information Technology</td>\n",
       "      <td>0</td>\n",
       "      <td>8</td>\n",
       "      <td>0</td>\n",
       "      <td>1</td>\n",
       "      <td>1</td>\n",
       "    </tr>\n",
       "    <tr>\n",
       "      <th>4</th>\n",
       "      <td>22</td>\n",
       "      <td>Male</td>\n",
       "      <td>Mechanical</td>\n",
       "      <td>0</td>\n",
       "      <td>8</td>\n",
       "      <td>1</td>\n",
       "      <td>0</td>\n",
       "      <td>1</td>\n",
       "    </tr>\n",
       "    <tr>\n",
       "      <th>...</th>\n",
       "      <td>...</td>\n",
       "      <td>...</td>\n",
       "      <td>...</td>\n",
       "      <td>...</td>\n",
       "      <td>...</td>\n",
       "      <td>...</td>\n",
       "      <td>...</td>\n",
       "      <td>...</td>\n",
       "    </tr>\n",
       "    <tr>\n",
       "      <th>2961</th>\n",
       "      <td>23</td>\n",
       "      <td>Male</td>\n",
       "      <td>Information Technology</td>\n",
       "      <td>0</td>\n",
       "      <td>7</td>\n",
       "      <td>0</td>\n",
       "      <td>0</td>\n",
       "      <td>0</td>\n",
       "    </tr>\n",
       "    <tr>\n",
       "      <th>2962</th>\n",
       "      <td>23</td>\n",
       "      <td>Male</td>\n",
       "      <td>Mechanical</td>\n",
       "      <td>1</td>\n",
       "      <td>7</td>\n",
       "      <td>1</td>\n",
       "      <td>0</td>\n",
       "      <td>0</td>\n",
       "    </tr>\n",
       "    <tr>\n",
       "      <th>2963</th>\n",
       "      <td>22</td>\n",
       "      <td>Male</td>\n",
       "      <td>Information Technology</td>\n",
       "      <td>1</td>\n",
       "      <td>7</td>\n",
       "      <td>0</td>\n",
       "      <td>0</td>\n",
       "      <td>0</td>\n",
       "    </tr>\n",
       "    <tr>\n",
       "      <th>2964</th>\n",
       "      <td>22</td>\n",
       "      <td>Male</td>\n",
       "      <td>Computer Science</td>\n",
       "      <td>1</td>\n",
       "      <td>7</td>\n",
       "      <td>0</td>\n",
       "      <td>0</td>\n",
       "      <td>0</td>\n",
       "    </tr>\n",
       "    <tr>\n",
       "      <th>2965</th>\n",
       "      <td>23</td>\n",
       "      <td>Male</td>\n",
       "      <td>Civil</td>\n",
       "      <td>0</td>\n",
       "      <td>8</td>\n",
       "      <td>0</td>\n",
       "      <td>0</td>\n",
       "      <td>1</td>\n",
       "    </tr>\n",
       "  </tbody>\n",
       "</table>\n",
       "<p>2966 rows × 8 columns</p>\n",
       "</div>"
      ],
      "text/plain": [
       "      Age  Gender                         Stream  Internships  CGPA  Hostel  \\\n",
       "0      22    Male  Electronics And Communication            1     8       1   \n",
       "1      21  Female               Computer Science            0     7       1   \n",
       "2      22  Female         Information Technology            1     6       0   \n",
       "3      21    Male         Information Technology            0     8       0   \n",
       "4      22    Male                     Mechanical            0     8       1   \n",
       "...   ...     ...                            ...          ...   ...     ...   \n",
       "2961   23    Male         Information Technology            0     7       0   \n",
       "2962   23    Male                     Mechanical            1     7       1   \n",
       "2963   22    Male         Information Technology            1     7       0   \n",
       "2964   22    Male               Computer Science            1     7       0   \n",
       "2965   23    Male                          Civil            0     8       0   \n",
       "\n",
       "      HistoryOfBacklogs  PlacedOrNot  \n",
       "0                     1            1  \n",
       "1                     1            1  \n",
       "2                     0            1  \n",
       "3                     1            1  \n",
       "4                     0            1  \n",
       "...                 ...          ...  \n",
       "2961                  0            0  \n",
       "2962                  0            0  \n",
       "2963                  0            0  \n",
       "2964                  0            0  \n",
       "2965                  0            1  \n",
       "\n",
       "[2966 rows x 8 columns]"
      ]
     },
     "execution_count": 3,
     "metadata": {},
     "output_type": "execute_result"
    }
   ],
   "source": [
    "df"
   ]
  },
  {
   "cell_type": "markdown",
   "id": "18a3d3e8",
   "metadata": {},
   "source": [
    "###  The Shape Of Data"
   ]
  },
  {
   "cell_type": "code",
   "execution_count": 4,
   "id": "9548c517",
   "metadata": {},
   "outputs": [
    {
     "data": {
      "text/plain": [
       "(2966, 8)"
      ]
     },
     "execution_count": 4,
     "metadata": {},
     "output_type": "execute_result"
    }
   ],
   "source": [
    "df.shape"
   ]
  },
  {
   "cell_type": "code",
   "execution_count": 5,
   "id": "e28c8b4b",
   "metadata": {},
   "outputs": [
    {
     "name": "stdout",
     "output_type": "stream",
     "text": [
      "Number Of Rows :  2966\n",
      "Number Of Columns :  8\n"
     ]
    }
   ],
   "source": [
    "print('Number Of Rows : ',df.shape[0])\n",
    "print('Number Of Columns : ',df.shape[1])"
   ]
  },
  {
   "cell_type": "markdown",
   "id": "299e2efb",
   "metadata": {},
   "source": [
    "### The First 5 Rows Of Dataset"
   ]
  },
  {
   "cell_type": "code",
   "execution_count": 6,
   "id": "db7a0cc0",
   "metadata": {},
   "outputs": [
    {
     "data": {
      "text/html": [
       "<div>\n",
       "<style scoped>\n",
       "    .dataframe tbody tr th:only-of-type {\n",
       "        vertical-align: middle;\n",
       "    }\n",
       "\n",
       "    .dataframe tbody tr th {\n",
       "        vertical-align: top;\n",
       "    }\n",
       "\n",
       "    .dataframe thead th {\n",
       "        text-align: right;\n",
       "    }\n",
       "</style>\n",
       "<table border=\"1\" class=\"dataframe\">\n",
       "  <thead>\n",
       "    <tr style=\"text-align: right;\">\n",
       "      <th></th>\n",
       "      <th>Age</th>\n",
       "      <th>Gender</th>\n",
       "      <th>Stream</th>\n",
       "      <th>Internships</th>\n",
       "      <th>CGPA</th>\n",
       "      <th>Hostel</th>\n",
       "      <th>HistoryOfBacklogs</th>\n",
       "      <th>PlacedOrNot</th>\n",
       "    </tr>\n",
       "  </thead>\n",
       "  <tbody>\n",
       "    <tr>\n",
       "      <th>0</th>\n",
       "      <td>22</td>\n",
       "      <td>Male</td>\n",
       "      <td>Electronics And Communication</td>\n",
       "      <td>1</td>\n",
       "      <td>8</td>\n",
       "      <td>1</td>\n",
       "      <td>1</td>\n",
       "      <td>1</td>\n",
       "    </tr>\n",
       "    <tr>\n",
       "      <th>1</th>\n",
       "      <td>21</td>\n",
       "      <td>Female</td>\n",
       "      <td>Computer Science</td>\n",
       "      <td>0</td>\n",
       "      <td>7</td>\n",
       "      <td>1</td>\n",
       "      <td>1</td>\n",
       "      <td>1</td>\n",
       "    </tr>\n",
       "    <tr>\n",
       "      <th>2</th>\n",
       "      <td>22</td>\n",
       "      <td>Female</td>\n",
       "      <td>Information Technology</td>\n",
       "      <td>1</td>\n",
       "      <td>6</td>\n",
       "      <td>0</td>\n",
       "      <td>0</td>\n",
       "      <td>1</td>\n",
       "    </tr>\n",
       "    <tr>\n",
       "      <th>3</th>\n",
       "      <td>21</td>\n",
       "      <td>Male</td>\n",
       "      <td>Information Technology</td>\n",
       "      <td>0</td>\n",
       "      <td>8</td>\n",
       "      <td>0</td>\n",
       "      <td>1</td>\n",
       "      <td>1</td>\n",
       "    </tr>\n",
       "    <tr>\n",
       "      <th>4</th>\n",
       "      <td>22</td>\n",
       "      <td>Male</td>\n",
       "      <td>Mechanical</td>\n",
       "      <td>0</td>\n",
       "      <td>8</td>\n",
       "      <td>1</td>\n",
       "      <td>0</td>\n",
       "      <td>1</td>\n",
       "    </tr>\n",
       "  </tbody>\n",
       "</table>\n",
       "</div>"
      ],
      "text/plain": [
       "   Age  Gender                         Stream  Internships  CGPA  Hostel  \\\n",
       "0   22    Male  Electronics And Communication            1     8       1   \n",
       "1   21  Female               Computer Science            0     7       1   \n",
       "2   22  Female         Information Technology            1     6       0   \n",
       "3   21    Male         Information Technology            0     8       0   \n",
       "4   22    Male                     Mechanical            0     8       1   \n",
       "\n",
       "   HistoryOfBacklogs  PlacedOrNot  \n",
       "0                  1            1  \n",
       "1                  1            1  \n",
       "2                  0            1  \n",
       "3                  1            1  \n",
       "4                  0            1  "
      ]
     },
     "execution_count": 6,
     "metadata": {},
     "output_type": "execute_result"
    }
   ],
   "source": [
    "df.head()"
   ]
  },
  {
   "cell_type": "markdown",
   "id": "d1b8e0a2",
   "metadata": {},
   "source": [
    "### The Last 5 Rows Of Dataset"
   ]
  },
  {
   "cell_type": "code",
   "execution_count": 7,
   "id": "725546e9",
   "metadata": {},
   "outputs": [
    {
     "data": {
      "text/html": [
       "<div>\n",
       "<style scoped>\n",
       "    .dataframe tbody tr th:only-of-type {\n",
       "        vertical-align: middle;\n",
       "    }\n",
       "\n",
       "    .dataframe tbody tr th {\n",
       "        vertical-align: top;\n",
       "    }\n",
       "\n",
       "    .dataframe thead th {\n",
       "        text-align: right;\n",
       "    }\n",
       "</style>\n",
       "<table border=\"1\" class=\"dataframe\">\n",
       "  <thead>\n",
       "    <tr style=\"text-align: right;\">\n",
       "      <th></th>\n",
       "      <th>Age</th>\n",
       "      <th>Gender</th>\n",
       "      <th>Stream</th>\n",
       "      <th>Internships</th>\n",
       "      <th>CGPA</th>\n",
       "      <th>Hostel</th>\n",
       "      <th>HistoryOfBacklogs</th>\n",
       "      <th>PlacedOrNot</th>\n",
       "    </tr>\n",
       "  </thead>\n",
       "  <tbody>\n",
       "    <tr>\n",
       "      <th>2961</th>\n",
       "      <td>23</td>\n",
       "      <td>Male</td>\n",
       "      <td>Information Technology</td>\n",
       "      <td>0</td>\n",
       "      <td>7</td>\n",
       "      <td>0</td>\n",
       "      <td>0</td>\n",
       "      <td>0</td>\n",
       "    </tr>\n",
       "    <tr>\n",
       "      <th>2962</th>\n",
       "      <td>23</td>\n",
       "      <td>Male</td>\n",
       "      <td>Mechanical</td>\n",
       "      <td>1</td>\n",
       "      <td>7</td>\n",
       "      <td>1</td>\n",
       "      <td>0</td>\n",
       "      <td>0</td>\n",
       "    </tr>\n",
       "    <tr>\n",
       "      <th>2963</th>\n",
       "      <td>22</td>\n",
       "      <td>Male</td>\n",
       "      <td>Information Technology</td>\n",
       "      <td>1</td>\n",
       "      <td>7</td>\n",
       "      <td>0</td>\n",
       "      <td>0</td>\n",
       "      <td>0</td>\n",
       "    </tr>\n",
       "    <tr>\n",
       "      <th>2964</th>\n",
       "      <td>22</td>\n",
       "      <td>Male</td>\n",
       "      <td>Computer Science</td>\n",
       "      <td>1</td>\n",
       "      <td>7</td>\n",
       "      <td>0</td>\n",
       "      <td>0</td>\n",
       "      <td>0</td>\n",
       "    </tr>\n",
       "    <tr>\n",
       "      <th>2965</th>\n",
       "      <td>23</td>\n",
       "      <td>Male</td>\n",
       "      <td>Civil</td>\n",
       "      <td>0</td>\n",
       "      <td>8</td>\n",
       "      <td>0</td>\n",
       "      <td>0</td>\n",
       "      <td>1</td>\n",
       "    </tr>\n",
       "  </tbody>\n",
       "</table>\n",
       "</div>"
      ],
      "text/plain": [
       "      Age Gender                  Stream  Internships  CGPA  Hostel  \\\n",
       "2961   23   Male  Information Technology            0     7       0   \n",
       "2962   23   Male              Mechanical            1     7       1   \n",
       "2963   22   Male  Information Technology            1     7       0   \n",
       "2964   22   Male        Computer Science            1     7       0   \n",
       "2965   23   Male                   Civil            0     8       0   \n",
       "\n",
       "      HistoryOfBacklogs  PlacedOrNot  \n",
       "2961                  0            0  \n",
       "2962                  0            0  \n",
       "2963                  0            0  \n",
       "2964                  0            0  \n",
       "2965                  0            1  "
      ]
     },
     "execution_count": 7,
     "metadata": {},
     "output_type": "execute_result"
    }
   ],
   "source": [
    "df.tail()"
   ]
  },
  {
   "cell_type": "markdown",
   "id": "4e2812a8",
   "metadata": {},
   "source": [
    "### 5 Rows Of The Dataset At Random"
   ]
  },
  {
   "cell_type": "code",
   "execution_count": 8,
   "id": "492e2db3",
   "metadata": {},
   "outputs": [
    {
     "data": {
      "text/html": [
       "<div>\n",
       "<style scoped>\n",
       "    .dataframe tbody tr th:only-of-type {\n",
       "        vertical-align: middle;\n",
       "    }\n",
       "\n",
       "    .dataframe tbody tr th {\n",
       "        vertical-align: top;\n",
       "    }\n",
       "\n",
       "    .dataframe thead th {\n",
       "        text-align: right;\n",
       "    }\n",
       "</style>\n",
       "<table border=\"1\" class=\"dataframe\">\n",
       "  <thead>\n",
       "    <tr style=\"text-align: right;\">\n",
       "      <th></th>\n",
       "      <th>Age</th>\n",
       "      <th>Gender</th>\n",
       "      <th>Stream</th>\n",
       "      <th>Internships</th>\n",
       "      <th>CGPA</th>\n",
       "      <th>Hostel</th>\n",
       "      <th>HistoryOfBacklogs</th>\n",
       "      <th>PlacedOrNot</th>\n",
       "    </tr>\n",
       "  </thead>\n",
       "  <tbody>\n",
       "    <tr>\n",
       "      <th>846</th>\n",
       "      <td>22</td>\n",
       "      <td>Male</td>\n",
       "      <td>Electrical</td>\n",
       "      <td>1</td>\n",
       "      <td>6</td>\n",
       "      <td>0</td>\n",
       "      <td>0</td>\n",
       "      <td>0</td>\n",
       "    </tr>\n",
       "    <tr>\n",
       "      <th>97</th>\n",
       "      <td>22</td>\n",
       "      <td>Male</td>\n",
       "      <td>Information Technology</td>\n",
       "      <td>0</td>\n",
       "      <td>8</td>\n",
       "      <td>0</td>\n",
       "      <td>0</td>\n",
       "      <td>1</td>\n",
       "    </tr>\n",
       "    <tr>\n",
       "      <th>2547</th>\n",
       "      <td>20</td>\n",
       "      <td>Male</td>\n",
       "      <td>Information Technology</td>\n",
       "      <td>0</td>\n",
       "      <td>6</td>\n",
       "      <td>0</td>\n",
       "      <td>0</td>\n",
       "      <td>0</td>\n",
       "    </tr>\n",
       "    <tr>\n",
       "      <th>551</th>\n",
       "      <td>22</td>\n",
       "      <td>Male</td>\n",
       "      <td>Information Technology</td>\n",
       "      <td>0</td>\n",
       "      <td>8</td>\n",
       "      <td>0</td>\n",
       "      <td>1</td>\n",
       "      <td>1</td>\n",
       "    </tr>\n",
       "    <tr>\n",
       "      <th>974</th>\n",
       "      <td>21</td>\n",
       "      <td>Male</td>\n",
       "      <td>Mechanical</td>\n",
       "      <td>1</td>\n",
       "      <td>6</td>\n",
       "      <td>1</td>\n",
       "      <td>0</td>\n",
       "      <td>0</td>\n",
       "    </tr>\n",
       "  </tbody>\n",
       "</table>\n",
       "</div>"
      ],
      "text/plain": [
       "      Age Gender                  Stream  Internships  CGPA  Hostel  \\\n",
       "846    22   Male              Electrical            1     6       0   \n",
       "97     22   Male  Information Technology            0     8       0   \n",
       "2547   20   Male  Information Technology            0     6       0   \n",
       "551    22   Male  Information Technology            0     8       0   \n",
       "974    21   Male              Mechanical            1     6       1   \n",
       "\n",
       "      HistoryOfBacklogs  PlacedOrNot  \n",
       "846                   0            0  \n",
       "97                    0            1  \n",
       "2547                  0            0  \n",
       "551                   1            1  \n",
       "974                   0            0  "
      ]
     },
     "execution_count": 8,
     "metadata": {},
     "output_type": "execute_result"
    }
   ],
   "source": [
    "df.sample(5)"
   ]
  },
  {
   "cell_type": "markdown",
   "id": "8ab76b79",
   "metadata": {},
   "source": [
    "### The Datatype Of Columns That Are In The Dataset"
   ]
  },
  {
   "cell_type": "code",
   "execution_count": 9,
   "id": "099b2b63",
   "metadata": {},
   "outputs": [
    {
     "data": {
      "text/plain": [
       "Age                   int64\n",
       "Gender               object\n",
       "Stream               object\n",
       "Internships           int64\n",
       "CGPA                  int64\n",
       "Hostel                int64\n",
       "HistoryOfBacklogs     int64\n",
       "PlacedOrNot           int64\n",
       "dtype: object"
      ]
     },
     "execution_count": 9,
     "metadata": {},
     "output_type": "execute_result"
    }
   ],
   "source": [
    "df.dtypes"
   ]
  },
  {
   "cell_type": "markdown",
   "id": "d1c8e90c",
   "metadata": {},
   "source": [
    "### The Detailed Information Of The Features In Dataset "
   ]
  },
  {
   "cell_type": "code",
   "execution_count": 10,
   "id": "6901ae4f",
   "metadata": {
    "scrolled": true
   },
   "outputs": [
    {
     "name": "stdout",
     "output_type": "stream",
     "text": [
      "<class 'pandas.core.frame.DataFrame'>\n",
      "RangeIndex: 2966 entries, 0 to 2965\n",
      "Data columns (total 8 columns):\n",
      " #   Column             Non-Null Count  Dtype \n",
      "---  ------             --------------  ----- \n",
      " 0   Age                2966 non-null   int64 \n",
      " 1   Gender             2966 non-null   object\n",
      " 2   Stream             2966 non-null   object\n",
      " 3   Internships        2966 non-null   int64 \n",
      " 4   CGPA               2966 non-null   int64 \n",
      " 5   Hostel             2966 non-null   int64 \n",
      " 6   HistoryOfBacklogs  2966 non-null   int64 \n",
      " 7   PlacedOrNot        2966 non-null   int64 \n",
      "dtypes: int64(6), object(2)\n",
      "memory usage: 185.5+ KB\n"
     ]
    }
   ],
   "source": [
    "df.info()"
   ]
  },
  {
   "cell_type": "code",
   "execution_count": 11,
   "id": "b3684b27",
   "metadata": {},
   "outputs": [
    {
     "data": {
      "text/html": [
       "<div>\n",
       "<style scoped>\n",
       "    .dataframe tbody tr th:only-of-type {\n",
       "        vertical-align: middle;\n",
       "    }\n",
       "\n",
       "    .dataframe tbody tr th {\n",
       "        vertical-align: top;\n",
       "    }\n",
       "\n",
       "    .dataframe thead th {\n",
       "        text-align: right;\n",
       "    }\n",
       "</style>\n",
       "<table border=\"1\" class=\"dataframe\">\n",
       "  <thead>\n",
       "    <tr style=\"text-align: right;\">\n",
       "      <th></th>\n",
       "      <th>Age</th>\n",
       "      <th>Gender</th>\n",
       "      <th>Stream</th>\n",
       "      <th>Internships</th>\n",
       "      <th>CGPA</th>\n",
       "      <th>Hostel</th>\n",
       "      <th>HistoryOfBacklogs</th>\n",
       "      <th>PlacedOrNot</th>\n",
       "    </tr>\n",
       "  </thead>\n",
       "  <tbody>\n",
       "    <tr>\n",
       "      <th>0</th>\n",
       "      <td>False</td>\n",
       "      <td>False</td>\n",
       "      <td>False</td>\n",
       "      <td>False</td>\n",
       "      <td>False</td>\n",
       "      <td>False</td>\n",
       "      <td>False</td>\n",
       "      <td>False</td>\n",
       "    </tr>\n",
       "    <tr>\n",
       "      <th>1</th>\n",
       "      <td>False</td>\n",
       "      <td>False</td>\n",
       "      <td>False</td>\n",
       "      <td>False</td>\n",
       "      <td>False</td>\n",
       "      <td>False</td>\n",
       "      <td>False</td>\n",
       "      <td>False</td>\n",
       "    </tr>\n",
       "    <tr>\n",
       "      <th>2</th>\n",
       "      <td>False</td>\n",
       "      <td>False</td>\n",
       "      <td>False</td>\n",
       "      <td>False</td>\n",
       "      <td>False</td>\n",
       "      <td>False</td>\n",
       "      <td>False</td>\n",
       "      <td>False</td>\n",
       "    </tr>\n",
       "    <tr>\n",
       "      <th>3</th>\n",
       "      <td>False</td>\n",
       "      <td>False</td>\n",
       "      <td>False</td>\n",
       "      <td>False</td>\n",
       "      <td>False</td>\n",
       "      <td>False</td>\n",
       "      <td>False</td>\n",
       "      <td>False</td>\n",
       "    </tr>\n",
       "    <tr>\n",
       "      <th>4</th>\n",
       "      <td>False</td>\n",
       "      <td>False</td>\n",
       "      <td>False</td>\n",
       "      <td>False</td>\n",
       "      <td>False</td>\n",
       "      <td>False</td>\n",
       "      <td>False</td>\n",
       "      <td>False</td>\n",
       "    </tr>\n",
       "    <tr>\n",
       "      <th>...</th>\n",
       "      <td>...</td>\n",
       "      <td>...</td>\n",
       "      <td>...</td>\n",
       "      <td>...</td>\n",
       "      <td>...</td>\n",
       "      <td>...</td>\n",
       "      <td>...</td>\n",
       "      <td>...</td>\n",
       "    </tr>\n",
       "    <tr>\n",
       "      <th>2961</th>\n",
       "      <td>False</td>\n",
       "      <td>False</td>\n",
       "      <td>False</td>\n",
       "      <td>False</td>\n",
       "      <td>False</td>\n",
       "      <td>False</td>\n",
       "      <td>False</td>\n",
       "      <td>False</td>\n",
       "    </tr>\n",
       "    <tr>\n",
       "      <th>2962</th>\n",
       "      <td>False</td>\n",
       "      <td>False</td>\n",
       "      <td>False</td>\n",
       "      <td>False</td>\n",
       "      <td>False</td>\n",
       "      <td>False</td>\n",
       "      <td>False</td>\n",
       "      <td>False</td>\n",
       "    </tr>\n",
       "    <tr>\n",
       "      <th>2963</th>\n",
       "      <td>False</td>\n",
       "      <td>False</td>\n",
       "      <td>False</td>\n",
       "      <td>False</td>\n",
       "      <td>False</td>\n",
       "      <td>False</td>\n",
       "      <td>False</td>\n",
       "      <td>False</td>\n",
       "    </tr>\n",
       "    <tr>\n",
       "      <th>2964</th>\n",
       "      <td>False</td>\n",
       "      <td>False</td>\n",
       "      <td>False</td>\n",
       "      <td>False</td>\n",
       "      <td>False</td>\n",
       "      <td>False</td>\n",
       "      <td>False</td>\n",
       "      <td>False</td>\n",
       "    </tr>\n",
       "    <tr>\n",
       "      <th>2965</th>\n",
       "      <td>False</td>\n",
       "      <td>False</td>\n",
       "      <td>False</td>\n",
       "      <td>False</td>\n",
       "      <td>False</td>\n",
       "      <td>False</td>\n",
       "      <td>False</td>\n",
       "      <td>False</td>\n",
       "    </tr>\n",
       "  </tbody>\n",
       "</table>\n",
       "<p>2966 rows × 8 columns</p>\n",
       "</div>"
      ],
      "text/plain": [
       "        Age  Gender  Stream  Internships   CGPA  Hostel  HistoryOfBacklogs  \\\n",
       "0     False   False   False        False  False   False              False   \n",
       "1     False   False   False        False  False   False              False   \n",
       "2     False   False   False        False  False   False              False   \n",
       "3     False   False   False        False  False   False              False   \n",
       "4     False   False   False        False  False   False              False   \n",
       "...     ...     ...     ...          ...    ...     ...                ...   \n",
       "2961  False   False   False        False  False   False              False   \n",
       "2962  False   False   False        False  False   False              False   \n",
       "2963  False   False   False        False  False   False              False   \n",
       "2964  False   False   False        False  False   False              False   \n",
       "2965  False   False   False        False  False   False              False   \n",
       "\n",
       "      PlacedOrNot  \n",
       "0           False  \n",
       "1           False  \n",
       "2           False  \n",
       "3           False  \n",
       "4           False  \n",
       "...           ...  \n",
       "2961        False  \n",
       "2962        False  \n",
       "2963        False  \n",
       "2964        False  \n",
       "2965        False  \n",
       "\n",
       "[2966 rows x 8 columns]"
      ]
     },
     "execution_count": 11,
     "metadata": {},
     "output_type": "execute_result"
    }
   ],
   "source": [
    "df.isnull()"
   ]
  },
  {
   "cell_type": "code",
   "execution_count": 12,
   "id": "5fd2b80b",
   "metadata": {},
   "outputs": [
    {
     "data": {
      "text/plain": [
       "Age                  0\n",
       "Gender               0\n",
       "Stream               0\n",
       "Internships          0\n",
       "CGPA                 0\n",
       "Hostel               0\n",
       "HistoryOfBacklogs    0\n",
       "PlacedOrNot          0\n",
       "dtype: int64"
      ]
     },
     "execution_count": 12,
     "metadata": {},
     "output_type": "execute_result"
    }
   ],
   "source": [
    "df.isnull().sum()"
   ]
  },
  {
   "cell_type": "markdown",
   "id": "1c8bfafc",
   "metadata": {},
   "source": [
    "### Overall Statistics About The Dataset"
   ]
  },
  {
   "cell_type": "code",
   "execution_count": 13,
   "id": "14f55831",
   "metadata": {
    "scrolled": true
   },
   "outputs": [
    {
     "data": {
      "text/html": [
       "<div>\n",
       "<style scoped>\n",
       "    .dataframe tbody tr th:only-of-type {\n",
       "        vertical-align: middle;\n",
       "    }\n",
       "\n",
       "    .dataframe tbody tr th {\n",
       "        vertical-align: top;\n",
       "    }\n",
       "\n",
       "    .dataframe thead th {\n",
       "        text-align: right;\n",
       "    }\n",
       "</style>\n",
       "<table border=\"1\" class=\"dataframe\">\n",
       "  <thead>\n",
       "    <tr style=\"text-align: right;\">\n",
       "      <th></th>\n",
       "      <th>Age</th>\n",
       "      <th>Internships</th>\n",
       "      <th>CGPA</th>\n",
       "      <th>Hostel</th>\n",
       "      <th>HistoryOfBacklogs</th>\n",
       "      <th>PlacedOrNot</th>\n",
       "    </tr>\n",
       "  </thead>\n",
       "  <tbody>\n",
       "    <tr>\n",
       "      <th>count</th>\n",
       "      <td>2966.000000</td>\n",
       "      <td>2966.000000</td>\n",
       "      <td>2966.000000</td>\n",
       "      <td>2966.000000</td>\n",
       "      <td>2966.000000</td>\n",
       "      <td>2966.000000</td>\n",
       "    </tr>\n",
       "    <tr>\n",
       "      <th>mean</th>\n",
       "      <td>21.485840</td>\n",
       "      <td>0.703641</td>\n",
       "      <td>7.073837</td>\n",
       "      <td>0.269049</td>\n",
       "      <td>0.192178</td>\n",
       "      <td>0.552596</td>\n",
       "    </tr>\n",
       "    <tr>\n",
       "      <th>std</th>\n",
       "      <td>1.324933</td>\n",
       "      <td>0.740197</td>\n",
       "      <td>0.967748</td>\n",
       "      <td>0.443540</td>\n",
       "      <td>0.394079</td>\n",
       "      <td>0.497310</td>\n",
       "    </tr>\n",
       "    <tr>\n",
       "      <th>min</th>\n",
       "      <td>19.000000</td>\n",
       "      <td>0.000000</td>\n",
       "      <td>5.000000</td>\n",
       "      <td>0.000000</td>\n",
       "      <td>0.000000</td>\n",
       "      <td>0.000000</td>\n",
       "    </tr>\n",
       "    <tr>\n",
       "      <th>25%</th>\n",
       "      <td>21.000000</td>\n",
       "      <td>0.000000</td>\n",
       "      <td>6.000000</td>\n",
       "      <td>0.000000</td>\n",
       "      <td>0.000000</td>\n",
       "      <td>0.000000</td>\n",
       "    </tr>\n",
       "    <tr>\n",
       "      <th>50%</th>\n",
       "      <td>21.000000</td>\n",
       "      <td>1.000000</td>\n",
       "      <td>7.000000</td>\n",
       "      <td>0.000000</td>\n",
       "      <td>0.000000</td>\n",
       "      <td>1.000000</td>\n",
       "    </tr>\n",
       "    <tr>\n",
       "      <th>75%</th>\n",
       "      <td>22.000000</td>\n",
       "      <td>1.000000</td>\n",
       "      <td>8.000000</td>\n",
       "      <td>1.000000</td>\n",
       "      <td>0.000000</td>\n",
       "      <td>1.000000</td>\n",
       "    </tr>\n",
       "    <tr>\n",
       "      <th>max</th>\n",
       "      <td>30.000000</td>\n",
       "      <td>3.000000</td>\n",
       "      <td>9.000000</td>\n",
       "      <td>1.000000</td>\n",
       "      <td>1.000000</td>\n",
       "      <td>1.000000</td>\n",
       "    </tr>\n",
       "  </tbody>\n",
       "</table>\n",
       "</div>"
      ],
      "text/plain": [
       "               Age  Internships         CGPA       Hostel  HistoryOfBacklogs  \\\n",
       "count  2966.000000  2966.000000  2966.000000  2966.000000        2966.000000   \n",
       "mean     21.485840     0.703641     7.073837     0.269049           0.192178   \n",
       "std       1.324933     0.740197     0.967748     0.443540           0.394079   \n",
       "min      19.000000     0.000000     5.000000     0.000000           0.000000   \n",
       "25%      21.000000     0.000000     6.000000     0.000000           0.000000   \n",
       "50%      21.000000     1.000000     7.000000     0.000000           0.000000   \n",
       "75%      22.000000     1.000000     8.000000     1.000000           0.000000   \n",
       "max      30.000000     3.000000     9.000000     1.000000           1.000000   \n",
       "\n",
       "       PlacedOrNot  \n",
       "count  2966.000000  \n",
       "mean      0.552596  \n",
       "std       0.497310  \n",
       "min       0.000000  \n",
       "25%       0.000000  \n",
       "50%       1.000000  \n",
       "75%       1.000000  \n",
       "max       1.000000  "
      ]
     },
     "execution_count": 13,
     "metadata": {},
     "output_type": "execute_result"
    }
   ],
   "source": [
    "df.describe()"
   ]
  },
  {
   "cell_type": "code",
   "execution_count": 14,
   "id": "47c0f038",
   "metadata": {},
   "outputs": [
    {
     "data": {
      "text/plain": [
       "array([[<AxesSubplot:title={'center':'Age'}>,\n",
       "        <AxesSubplot:title={'center':'Internships'}>],\n",
       "       [<AxesSubplot:title={'center':'CGPA'}>,\n",
       "        <AxesSubplot:title={'center':'Hostel'}>],\n",
       "       [<AxesSubplot:title={'center':'HistoryOfBacklogs'}>,\n",
       "        <AxesSubplot:title={'center':'PlacedOrNot'}>]], dtype=object)"
      ]
     },
     "execution_count": 14,
     "metadata": {},
     "output_type": "execute_result"
    },
    {
     "data": {
      "image/png": "[encoded data removed]",
      "text/plain": [
       "<Figure size 1080x1080 with 6 Axes>"
      ]
     },
     "metadata": {
      "needs_background": "light"
     },
     "output_type": "display_data"
    }
   ],
   "source": [
    "df.hist(figsize = (15 , 15))"
   ]
  },
  {
   "cell_type": "markdown",
   "id": "7ce8218f",
   "metadata": {},
   "source": [
    "### Exploratory Data Analysis (EDA)"
   ]
  },
  {
   "cell_type": "code",
   "execution_count": 15,
   "id": "609b80bd",
   "metadata": {},
   "outputs": [
    {
     "data": {
      "text/plain": [
       "Index(['Age', 'Gender', 'Stream', 'Internships', 'CGPA', 'Hostel',\n",
       "       'HistoryOfBacklogs', 'PlacedOrNot'],\n",
       "      dtype='object')"
      ]
     },
     "execution_count": 15,
     "metadata": {},
     "output_type": "execute_result"
    }
   ],
   "source": [
    "df.columns"
   ]
  },
  {
   "cell_type": "code",
   "execution_count": 16,
   "id": "45b092fe",
   "metadata": {},
   "outputs": [
    {
     "data": {
      "text/plain": [
       "array([22, 21, 23, 24, 28, 30, 25, 26, 20, 19, 29], dtype=int64)"
      ]
     },
     "execution_count": 16,
     "metadata": {},
     "output_type": "execute_result"
    }
   ],
   "source": [
    "df['Age'].unique()"
   ]
  },
  {
   "cell_type": "code",
   "execution_count": 17,
   "id": "723fe8e9",
   "metadata": {},
   "outputs": [
    {
     "data": {
      "text/plain": [
       "array(['Male', 'Female'], dtype=object)"
      ]
     },
     "execution_count": 17,
     "metadata": {},
     "output_type": "execute_result"
    }
   ],
   "source": [
    "df['Gender'].unique()"
   ]
  },
  {
   "cell_type": "code",
   "execution_count": 18,
   "id": "5fb117b8",
   "metadata": {
    "scrolled": true
   },
   "outputs": [
    {
     "data": {
      "text/plain": [
       "array(['Electronics And Communication', 'Computer Science',\n",
       "       'Information Technology', 'Mechanical', 'Electrical', 'Civil'],\n",
       "      dtype=object)"
      ]
     },
     "execution_count": 18,
     "metadata": {},
     "output_type": "execute_result"
    }
   ],
   "source": [
    "df['Stream'].unique()"
   ]
  },
  {
   "cell_type": "code",
   "execution_count": 19,
   "id": "38dd397f",
   "metadata": {},
   "outputs": [
    {
     "data": {
      "text/plain": [
       "array([1, 0, 2, 3], dtype=int64)"
      ]
     },
     "execution_count": 19,
     "metadata": {},
     "output_type": "execute_result"
    }
   ],
   "source": [
    "df['Internships'].unique()"
   ]
  },
  {
   "cell_type": "code",
   "execution_count": 20,
   "id": "8b98f654",
   "metadata": {},
   "outputs": [
    {
     "data": {
      "text/plain": [
       "array([8, 7, 6, 9, 5], dtype=int64)"
      ]
     },
     "execution_count": 20,
     "metadata": {},
     "output_type": "execute_result"
    }
   ],
   "source": [
    "df['CGPA'].unique()"
   ]
  },
  {
   "cell_type": "code",
   "execution_count": 21,
   "id": "d16401ab",
   "metadata": {},
   "outputs": [
    {
     "data": {
      "text/plain": [
       "array([1, 0], dtype=int64)"
      ]
     },
     "execution_count": 21,
     "metadata": {},
     "output_type": "execute_result"
    }
   ],
   "source": [
    "df['Hostel'].unique()"
   ]
  },
  {
   "cell_type": "code",
   "execution_count": 22,
   "id": "2e5711ba",
   "metadata": {},
   "outputs": [
    {
     "data": {
      "text/plain": [
       "array([1, 0], dtype=int64)"
      ]
     },
     "execution_count": 22,
     "metadata": {},
     "output_type": "execute_result"
    }
   ],
   "source": [
    "df['HistoryOfBacklogs'].unique()"
   ]
  },
  {
   "cell_type": "code",
   "execution_count": 23,
   "id": "bd6e09df",
   "metadata": {},
   "outputs": [
    {
     "data": {
      "text/plain": [
       "array([1, 0], dtype=int64)"
      ]
     },
     "execution_count": 23,
     "metadata": {},
     "output_type": "execute_result"
    }
   ],
   "source": [
    "df['PlacedOrNot'].unique()"
   ]
  },
  {
   "cell_type": "markdown",
   "id": "204a71b3",
   "metadata": {},
   "source": [
    "### How Many Students Got Placed ?"
   ]
  },
  {
   "cell_type": "code",
   "execution_count": 24,
   "id": "4e747d10",
   "metadata": {},
   "outputs": [
    {
     "data": {
      "text/plain": [
       "1    1639\n",
       "0    1327\n",
       "Name: PlacedOrNot, dtype: int64"
      ]
     },
     "execution_count": 24,
     "metadata": {},
     "output_type": "execute_result"
    }
   ],
   "source": [
    "df['PlacedOrNot'].value_counts()"
   ]
  },
  {
   "cell_type": "code",
   "execution_count": 25,
   "id": "2980d82a",
   "metadata": {
    "scrolled": true
   },
   "outputs": [
    {
     "name": "stdout",
     "output_type": "stream",
     "text": [
      "The Number Of Students Placed :  1639\n",
      "The Number Of Students Not Placed :  1327\n"
     ]
    }
   ],
   "source": [
    "print(\"The Number Of Students Placed : \", df['PlacedOrNot'].value_counts()[1])\n",
    "print(\"The Number Of Students Not Placed : \", df['PlacedOrNot'].value_counts()[0])"
   ]
  },
  {
   "cell_type": "code",
   "execution_count": 26,
   "id": "46864af6",
   "metadata": {},
   "outputs": [
    {
     "data": {
      "image/png": "[encoded data removed]",
      "text/plain": [
       "<Figure size 720x360 with 1 Axes>"
      ]
     },
     "metadata": {},
     "output_type": "display_data"
    }
   ],
   "source": [
    "plt.figure(figsize = (10,5))\n",
    "plt.pie(df['PlacedOrNot'].value_counts(), labels =['Placed','NotPlaced'], autopct = '%.1f%%',explode = [0.2 , 0] , shadow = True ,startangle = 90 )\n",
    "plt.title(\"Placed Or Not\")\n",
    "plt.show()"
   ]
  },
  {
   "cell_type": "markdown",
   "id": "429f6db1",
   "metadata": {},
   "source": [
    "### Maximum And Minimum Age Of Placed Person"
   ]
  },
  {
   "cell_type": "code",
   "execution_count": 27,
   "id": "9691a5f6",
   "metadata": {},
   "outputs": [
    {
     "name": "stdout",
     "output_type": "stream",
     "text": [
      "Max Age Of Placed Person :  30\n",
      "Min Age Of Placed Person :  19\n"
     ]
    }
   ],
   "source": [
    "Max = df[(df['Age'] == df['Age'].max()) & (df['PlacedOrNot'] == 1)]['Age'].values[0]\n",
    "print(\"Max Age Of Placed Person : \", Max)\n",
    "\n",
    "Min = df[(df['Age'] == df['Age'].min()) & (df['PlacedOrNot'] == 0)]['Age'].values[0]\n",
    "print(\"Min Age Of Placed Person : \", Min)"
   ]
  },
  {
   "cell_type": "code",
   "execution_count": 28,
   "id": "b55d36b0",
   "metadata": {},
   "outputs": [
    {
     "data": {
      "image/png": "[encoded data removed]",
      "text/plain": [
       "<Figure size 720x360 with 1 Axes>"
      ]
     },
     "metadata": {
      "needs_background": "light"
     },
     "output_type": "display_data"
    }
   ],
   "source": [
    "plt.figure(figsize=(10,5))\n",
    "sns.countplot(x='Age', data = df, palette = 'hls') \n",
    "plt.show()"
   ]
  },
  {
   "cell_type": "markdown",
   "id": "7b6d8565",
   "metadata": {},
   "source": [
    "### Male Students Who Got Placed "
   ]
  },
  {
   "cell_type": "code",
   "execution_count": 29,
   "id": "35d6f894",
   "metadata": {},
   "outputs": [
    {
     "name": "stdout",
     "output_type": "stream",
     "text": [
      "Total Number Of Male Student :  2475\n"
     ]
    }
   ],
   "source": [
    "M = df[df['Gender'] == 'Male']['Gender'].count()\n",
    "\n",
    "print(\"Total Number Of Male Student : \",M)"
   ]
  },
  {
   "cell_type": "code",
   "execution_count": 30,
   "id": "10d63891",
   "metadata": {
    "scrolled": false
   },
   "outputs": [
    {
     "name": "stdout",
     "output_type": "stream",
     "text": [
      "Total Number Of Male Student Who Got Placed :  1364\n",
      "Number Of Male Student Who Are Not Placed :  1111\n"
     ]
    }
   ],
   "source": [
    "M_P = df[(df['Gender'] == 'Male') & (df['PlacedOrNot'] == 1)]['PlacedOrNot'].count()\n",
    "\n",
    "print(\"Total Number Of Male Student Who Got Placed : \",M_P)\n",
    "print(\"Number Of Male Student Who Are Not Placed : \", M - M_P)"
   ]
  },
  {
   "cell_type": "code",
   "execution_count": 31,
   "id": "5d0d6ec0",
   "metadata": {
    "scrolled": true
   },
   "outputs": [
    {
     "data": {
      "image/png": "[encoded data removed]",
      "text/plain": [
       "<Figure size 720x360 with 1 Axes>"
      ]
     },
     "metadata": {
      "needs_background": "light"
     },
     "output_type": "display_data"
    }
   ],
   "source": [
    "plt.figure(figsize = (10,5))\n",
    "sns.countplot(x='Gender', data=df)\n",
    "plt.show()"
   ]
  },
  {
   "cell_type": "markdown",
   "id": "8e3c09ca",
   "metadata": {},
   "source": [
    "### Female Students Who Got Placed"
   ]
  },
  {
   "cell_type": "code",
   "execution_count": 32,
   "id": "67c9fba5",
   "metadata": {},
   "outputs": [
    {
     "name": "stdout",
     "output_type": "stream",
     "text": [
      "Total Number Of Female Student :  491\n"
     ]
    }
   ],
   "source": [
    "F = df[df['Gender'] == 'Female']['Gender'].count()\n",
    "\n",
    "print(\"Total Number Of Female Student : \",F)"
   ]
  },
  {
   "cell_type": "code",
   "execution_count": 33,
   "id": "26ef98f4",
   "metadata": {},
   "outputs": [
    {
     "name": "stdout",
     "output_type": "stream",
     "text": [
      "Total Number Of Female Student Who Got Placed :  275\n",
      "Number Of Female Student Who Are Not Placed :  216\n"
     ]
    }
   ],
   "source": [
    "M_F = df[(df['Gender'] == 'Female') & (df['PlacedOrNot'] == 1)]['PlacedOrNot'].count()\n",
    "\n",
    "print(\"Total Number Of Female Student Who Got Placed : \",M_F)\n",
    "print(\"Number Of Female Student Who Are Not Placed : \", F - M_F)"
   ]
  },
  {
   "cell_type": "markdown",
   "id": "fe0a1376",
   "metadata": {},
   "source": [
    "### Data Regarding Students In Various Streams"
   ]
  },
  {
   "cell_type": "code",
   "execution_count": 34,
   "id": "01c799c7",
   "metadata": {},
   "outputs": [
    {
     "data": {
      "text/plain": [
       "array(['Electronics And Communication', 'Computer Science',\n",
       "       'Information Technology', 'Mechanical', 'Electrical', 'Civil'],\n",
       "      dtype=object)"
      ]
     },
     "execution_count": 34,
     "metadata": {},
     "output_type": "execute_result"
    }
   ],
   "source": [
    "df['Stream'].unique()"
   ]
  },
  {
   "cell_type": "markdown",
   "id": "27fc84d6",
   "metadata": {},
   "source": [
    "#### 1.Data Regarding Electronics And Communication Student"
   ]
  },
  {
   "cell_type": "code",
   "execution_count": 35,
   "id": "d54f8328",
   "metadata": {},
   "outputs": [
    {
     "name": "stdout",
     "output_type": "stream",
     "text": [
      "Total Number Of Students In Electronics And Communication :  424\n"
     ]
    }
   ],
   "source": [
    "ec = df[df['Stream'] == 'Electronics And Communication'].shape[0]\n",
    "\n",
    "print(\"Total Number Of Students In Electronics And Communication : \", ec)"
   ]
  },
  {
   "cell_type": "code",
   "execution_count": 36,
   "id": "bb2a88e3",
   "metadata": {},
   "outputs": [
    {
     "name": "stdout",
     "output_type": "stream",
     "text": [
      "Electronics And Communication Students Who Got Placement :  251\n"
     ]
    }
   ],
   "source": [
    "placed = df[(df['Stream'] == 'Electronics And Communication') & (df['PlacedOrNot'] == 1)].shape[0]\n",
    "\n",
    "print(\"Electronics And Communication Students Who Got Placement : \" , placed)"
   ]
  },
  {
   "cell_type": "code",
   "execution_count": 37,
   "id": "71ae81ca",
   "metadata": {},
   "outputs": [
    {
     "name": "stdout",
     "output_type": "stream",
     "text": [
      "Electronics And Communication Students Who Are Not Placed :  173\n"
     ]
    }
   ],
   "source": [
    "n_placed = df[(df['Stream'] == 'Electronics And Communication') & (df['PlacedOrNot'] == 0)].shape[0]\n",
    "\n",
    "print(\"Electronics And Communication Students Who Are Not Placed : \" , n_placed)"
   ]
  },
  {
   "cell_type": "markdown",
   "id": "54808db4",
   "metadata": {},
   "source": [
    "#### 2.Data Regarding Computer Science Student"
   ]
  },
  {
   "cell_type": "code",
   "execution_count": 38,
   "id": "f8943225",
   "metadata": {},
   "outputs": [
    {
     "name": "stdout",
     "output_type": "stream",
     "text": [
      "Total Number Of Students In Computer Science :  776\n"
     ]
    }
   ],
   "source": [
    "cs = df[df['Stream'] == 'Computer Science'].shape[0]\n",
    "\n",
    "print(\"Total Number Of Students In Computer Science : \", cs)"
   ]
  },
  {
   "cell_type": "code",
   "execution_count": 39,
   "id": "426b5c56",
   "metadata": {},
   "outputs": [
    {
     "name": "stdout",
     "output_type": "stream",
     "text": [
      "Computer Science Students Who Got Placement :  452\n"
     ]
    }
   ],
   "source": [
    "placed = df[(df['Stream'] == 'Computer Science') & (df['PlacedOrNot'] == 1)].shape[0]\n",
    "\n",
    "print(\"Computer Science Students Who Got Placement : \" , placed)"
   ]
  },
  {
   "cell_type": "code",
   "execution_count": 40,
   "id": "2bf4db63",
   "metadata": {},
   "outputs": [
    {
     "name": "stdout",
     "output_type": "stream",
     "text": [
      "Computer Science Students Who Are Not Placed :  324\n"
     ]
    }
   ],
   "source": [
    "n_placed = df[(df['Stream'] == 'Computer Science') & (df['PlacedOrNot'] == 0)].shape[0]\n",
    "\n",
    "print(\"Computer Science Students Who Are Not Placed : \" , n_placed)"
   ]
  },
  {
   "cell_type": "markdown",
   "id": "6391ab36",
   "metadata": {},
   "source": [
    "#### 3.Data Regarding Information Technology Student"
   ]
  },
  {
   "cell_type": "code",
   "execution_count": 41,
   "id": "35267348",
   "metadata": {},
   "outputs": [
    {
     "name": "stdout",
     "output_type": "stream",
     "text": [
      "Total Number Of Students In Information Technology :  691\n"
     ]
    }
   ],
   "source": [
    "it = df[df['Stream'] == 'Information Technology'].shape[0]\n",
    "\n",
    "print(\"Total Number Of Students In Information Technology : \",it)"
   ]
  },
  {
   "cell_type": "code",
   "execution_count": 42,
   "id": "0b764c60",
   "metadata": {},
   "outputs": [
    {
     "name": "stdout",
     "output_type": "stream",
     "text": [
      "Information Technology Students Who Got Placement :  409\n"
     ]
    }
   ],
   "source": [
    "placed = df[(df['Stream'] == 'Information Technology') & (df['PlacedOrNot'] == 1)].shape[0]\n",
    "\n",
    "print(\"Information Technology Students Who Got Placement : \" , placed)"
   ]
  },
  {
   "cell_type": "code",
   "execution_count": 43,
   "id": "65a4f545",
   "metadata": {},
   "outputs": [
    {
     "name": "stdout",
     "output_type": "stream",
     "text": [
      "Information Technology Students Who Are Not Placed :  282\n"
     ]
    }
   ],
   "source": [
    "n_placed = df[(df['Stream'] == 'Information Technology') & (df['PlacedOrNot'] == 0)].shape[0]\n",
    "\n",
    "print(\"Information Technology Students Who Are Not Placed : \" , n_placed)"
   ]
  },
  {
   "cell_type": "markdown",
   "id": "932c7166",
   "metadata": {},
   "source": [
    "#### 4.Data Regarding Mechanical Student"
   ]
  },
  {
   "cell_type": "code",
   "execution_count": 44,
   "id": "82165179",
   "metadata": {},
   "outputs": [
    {
     "name": "stdout",
     "output_type": "stream",
     "text": [
      "Total Number Of Students In Mechanical :  424\n"
     ]
    }
   ],
   "source": [
    "mc = df[df['Stream'] == 'Mechanical'].shape[0]\n",
    "\n",
    "print(\"Total Number Of Students In Mechanical : \",mc)"
   ]
  },
  {
   "cell_type": "code",
   "execution_count": 45,
   "id": "4c231eb0",
   "metadata": {},
   "outputs": [
    {
     "name": "stdout",
     "output_type": "stream",
     "text": [
      "Mechanical Students Who Got Placement :  200\n"
     ]
    }
   ],
   "source": [
    "placed = df[(df['Stream'] == 'Mechanical') & (df['PlacedOrNot'] == 1)].shape[0]\n",
    "\n",
    "print(\"Mechanical Students Who Got Placement : \" , placed)"
   ]
  },
  {
   "cell_type": "code",
   "execution_count": 46,
   "id": "32e433dd",
   "metadata": {
    "scrolled": false
   },
   "outputs": [
    {
     "name": "stdout",
     "output_type": "stream",
     "text": [
      "Mechanical Students Who Are Not Placed :  224\n"
     ]
    }
   ],
   "source": [
    "n_placed = df[(df['Stream'] == 'Mechanical') & (df['PlacedOrNot'] == 0)].shape[0]\n",
    "\n",
    "print(\"Mechanical Students Who Are Not Placed : \" , n_placed)"
   ]
  },
  {
   "cell_type": "markdown",
   "id": "c1a91253",
   "metadata": {},
   "source": [
    "#### 5.Data Regarding Electrical Student"
   ]
  },
  {
   "cell_type": "code",
   "execution_count": 47,
   "id": "94f0f3df",
   "metadata": {},
   "outputs": [
    {
     "name": "stdout",
     "output_type": "stream",
     "text": [
      "Total Number Of Students In Electrical :  334\n"
     ]
    }
   ],
   "source": [
    "el = df[df['Stream'] == 'Electrical'].shape[0]\n",
    "\n",
    "print(\"Total Number Of Students In Electrical : \",el)"
   ]
  },
  {
   "cell_type": "code",
   "execution_count": 48,
   "id": "e5500f8a",
   "metadata": {},
   "outputs": [
    {
     "name": "stdout",
     "output_type": "stream",
     "text": [
      "Electrical Students Who Got Placement :  181\n"
     ]
    }
   ],
   "source": [
    "placed = df[(df['Stream'] == 'Electrical') & (df['PlacedOrNot'] == 1)].shape[0]\n",
    "\n",
    "print(\"Electrical Students Who Got Placement : \" , placed)"
   ]
  },
  {
   "cell_type": "code",
   "execution_count": 49,
   "id": "551d150f",
   "metadata": {
    "scrolled": true
   },
   "outputs": [
    {
     "name": "stdout",
     "output_type": "stream",
     "text": [
      "Electrical Students Who Are Not Placed :  153\n"
     ]
    }
   ],
   "source": [
    "n_placed = df[(df['Stream'] == 'Electrical') & (df['PlacedOrNot'] == 0)].shape[0]\n",
    "\n",
    "print(\"Electrical Students Who Are Not Placed : \" , n_placed)"
   ]
  },
  {
   "cell_type": "markdown",
   "id": "32357d5a",
   "metadata": {},
   "source": [
    "#### 6.Data Regarding Civil Student"
   ]
  },
  {
   "cell_type": "code",
   "execution_count": 50,
   "id": "6e670c67",
   "metadata": {},
   "outputs": [
    {
     "name": "stdout",
     "output_type": "stream",
     "text": [
      "Total Number Of Students In Civil :  317\n"
     ]
    }
   ],
   "source": [
    "cv = df[df['Stream'] == 'Civil'].shape[0]\n",
    "\n",
    "print(\"Total Number Of Students In Civil : \",cv)"
   ]
  },
  {
   "cell_type": "code",
   "execution_count": 51,
   "id": "417e9622",
   "metadata": {},
   "outputs": [
    {
     "name": "stdout",
     "output_type": "stream",
     "text": [
      "Civil Students Who Got Placement :  146\n"
     ]
    }
   ],
   "source": [
    "placed = df[(df['Stream'] == 'Civil') & (df['PlacedOrNot'] == 1)].shape[0]\n",
    "\n",
    "print(\"Civil Students Who Got Placement : \" , placed)"
   ]
  },
  {
   "cell_type": "code",
   "execution_count": 52,
   "id": "5245d24e",
   "metadata": {
    "scrolled": true
   },
   "outputs": [
    {
     "name": "stdout",
     "output_type": "stream",
     "text": [
      "Civil Students Who Are Not Placed :  171\n"
     ]
    }
   ],
   "source": [
    "n_placed = df[(df['Stream'] == 'Civil') & (df['PlacedOrNot'] == 0)].shape[0]\n",
    "\n",
    "print(\"Civil Students Who Are Not Placed : \" , n_placed)"
   ]
  },
  {
   "cell_type": "code",
   "execution_count": 53,
   "id": "6f7baa53",
   "metadata": {},
   "outputs": [
    {
     "data": {
      "text/plain": [
       "2966"
      ]
     },
     "execution_count": 53,
     "metadata": {},
     "output_type": "execute_result"
    }
   ],
   "source": [
    "cv + ec + it + el + cs + mc"
   ]
  },
  {
   "cell_type": "code",
   "execution_count": 54,
   "id": "e2a7c660",
   "metadata": {
    "scrolled": false
   },
   "outputs": [
    {
     "data": {
      "image/png": "[encoded data removed]",
      "text/plain": [
       "<Figure size 432x288 with 1 Axes>"
      ]
     },
     "metadata": {
      "needs_background": "light"
     },
     "output_type": "display_data"
    },
    {
     "data": {
      "text/plain": [
       "<Figure size 720x360 with 0 Axes>"
      ]
     },
     "metadata": {},
     "output_type": "display_data"
    }
   ],
   "source": [
    "fig = df ['Stream'].value_counts().plot.bar()\n",
    "plt.figure(figsize = (10,5))\n",
    "fig.set_title('Stream')\n",
    "plt.show()"
   ]
  },
  {
   "cell_type": "code",
   "execution_count": 55,
   "id": "a06ec157",
   "metadata": {},
   "outputs": [
    {
     "data": {
      "image/png": "[encoded data removed]",
      "text/plain": [
       "<Figure size 720x720 with 1 Axes>"
      ]
     },
     "metadata": {},
     "output_type": "display_data"
    }
   ],
   "source": [
    "plt.figure(figsize = (10,10))\n",
    "plt.pie(df['Stream'].value_counts(), labels = df['Stream'].value_counts().index, autopct = '%.1f%%', explode = [0.1,0.1,0.1,0.1,0.1,0.1] , shadow = True)\n",
    "plt.show()"
   ]
  },
  {
   "cell_type": "code",
   "execution_count": 56,
   "id": "ca3ad1a9",
   "metadata": {},
   "outputs": [
    {
     "data": {
      "image/png": "[encoded data removed]",
      "text/plain": [
       "<Figure size 720x360 with 1 Axes>"
      ]
     },
     "metadata": {
      "needs_background": "light"
     },
     "output_type": "display_data"
    }
   ],
   "source": [
    "plt.figure(figsize = (10,5))\n",
    "sns.barplot(data=df, x=\"Stream\", y=\"PlacedOrNot\",hue =\"Gender\").set_xticklabels(labels = df['Stream'].unique(),rotation = 90)\n",
    "plt.show()"
   ]
  },
  {
   "cell_type": "markdown",
   "id": "093dbda9",
   "metadata": {},
   "source": [
    "### Maximum And Minimum Internships Done By Placed Student"
   ]
  },
  {
   "cell_type": "code",
   "execution_count": 57,
   "id": "51ff07f4",
   "metadata": {},
   "outputs": [
    {
     "name": "stdout",
     "output_type": "stream",
     "text": [
      "Max Internships Done By The Placed Student :  3\n",
      "No. Of Student Who Did Max Internships And Are Placed :  41\n"
     ]
    }
   ],
   "source": [
    "Max_In = df[(df['Internships'] == df['Internships'].max()) \n",
    "          & (df['PlacedOrNot'] == 1)]['Internships'].values[0]\n",
    "\n",
    "print(\"Max Internships Done By The Placed Student : \", Max_In)\n",
    "\n",
    "Max_In_Pl = df[(df['Internships'] == df['Internships'].max()) \n",
    "             & (df['PlacedOrNot'] == 1)]['Internships'].value_counts().values[0]\n",
    "\n",
    "print(\"No. Of Student Who Did Max Internships And Are Placed : \" , Max_In_Pl)"
   ]
  },
  {
   "cell_type": "code",
   "execution_count": 58,
   "id": "7c382361",
   "metadata": {},
   "outputs": [
    {
     "name": "stdout",
     "output_type": "stream",
     "text": [
      "Min Internships Done By The Placed Student :  0\n",
      "No. Of Student Who Did Min Internships And Are Placed :  654\n"
     ]
    }
   ],
   "source": [
    "Min_In = df[(df['Internships'] == df['Internships'].min()) \n",
    "          & (df['PlacedOrNot'] == 1)]['Internships'].values[0]\n",
    "\n",
    "print(\"Min Internships Done By The Placed Student : \", Min_In)\n",
    "\n",
    "Min_In_Pl = df[(df['Internships'] == df['Internships'].min()) \n",
    "             & (df['PlacedOrNot'] == 1)]['Internships'].value_counts().values[0]\n",
    "\n",
    "print(\"No. Of Student Who Did Min Internships And Are Placed : \" , Min_In_Pl)"
   ]
  },
  {
   "cell_type": "code",
   "execution_count": 59,
   "id": "4b4dba4a",
   "metadata": {},
   "outputs": [
    {
     "data": {
      "image/png": "[encoded data removed]",
      "text/plain": [
       "<Figure size 720x360 with 1 Axes>"
      ]
     },
     "metadata": {
      "needs_background": "light"
     },
     "output_type": "display_data"
    }
   ],
   "source": [
    "plt.figure(figsize=(10,5))\n",
    "sns.barplot(x = df.Internships, y = df.PlacedOrNot) \n",
    "plt.show()"
   ]
  },
  {
   "cell_type": "markdown",
   "id": "ddda31c1",
   "metadata": {},
   "source": [
    "### Maximum And Minimum CGPA Obtained By Placed Student"
   ]
  },
  {
   "cell_type": "code",
   "execution_count": 60,
   "id": "27092393",
   "metadata": {},
   "outputs": [
    {
     "name": "stdout",
     "output_type": "stream",
     "text": [
      "Max CGPA Obtained By The Placed Student :  9\n",
      "No. Of Student Who Has Max CGPA And Are Placed :  165\n"
     ]
    }
   ],
   "source": [
    "Max_C = df[(df['CGPA'] == df['CGPA'].max()) \n",
    "          & (df['PlacedOrNot'] == 1)]['CGPA'].values[0]\n",
    "\n",
    "print(\"Max CGPA Obtained By The Placed Student : \", Max_C)\n",
    "\n",
    "Max_C_Pl = df[(df['CGPA'] == df['CGPA'].max()) \n",
    "             & (df['PlacedOrNot'] == 1)]['CGPA'].value_counts().values[0]\n",
    "\n",
    "print(\"No. Of Student Who Has Max CGPA And Are Placed : \" , Max_C_Pl)"
   ]
  },
  {
   "cell_type": "code",
   "execution_count": 61,
   "id": "7349dbdc",
   "metadata": {},
   "outputs": [
    {
     "name": "stdout",
     "output_type": "stream",
     "text": [
      "Min CGPA Obtained By The Placed Student :  5\n",
      "No. Of Student Who Has Min CGPA And Are Placed :  7\n"
     ]
    }
   ],
   "source": [
    "Min_C = df[(df['CGPA'] == df['CGPA'].min()) \n",
    "          & (df['PlacedOrNot'] == 1)]['CGPA'].values[0]\n",
    "\n",
    "print(\"Min CGPA Obtained By The Placed Student : \", Min_C)\n",
    "\n",
    "Min_C_Pl = df[(df['CGPA'] == df['CGPA'].min()) \n",
    "             & (df['PlacedOrNot'] == 1)]['CGPA'].value_counts().values[0]\n",
    "\n",
    "print(\"No. Of Student Who Has Min CGPA And Are Placed : \" , Min_C_Pl)"
   ]
  },
  {
   "cell_type": "code",
   "execution_count": 62,
   "id": "3b723a43",
   "metadata": {},
   "outputs": [
    {
     "data": {
      "image/png": "[encoded data removed]",
      "text/plain": [
       "<Figure size 720x360 with 1 Axes>"
      ]
     },
     "metadata": {
      "needs_background": "light"
     },
     "output_type": "display_data"
    }
   ],
   "source": [
    "plt.figure(figsize=(10,5))\n",
    "sns.countplot(x='CGPA', data = df, palette = 'hls') \n",
    "plt.show()"
   ]
  },
  {
   "cell_type": "code",
   "execution_count": 63,
   "id": "dceab4ad",
   "metadata": {},
   "outputs": [
    {
     "data": {
      "image/png": "[encoded data removed]",
      "text/plain": [
       "<Figure size 720x360 with 1 Axes>"
      ]
     },
     "metadata": {
      "needs_background": "light"
     },
     "output_type": "display_data"
    }
   ],
   "source": [
    "plt.figure(figsize=(10,5))\n",
    "sns.barplot(x = df.CGPA, y = df.PlacedOrNot) \n",
    "plt.show()"
   ]
  },
  {
   "cell_type": "code",
   "execution_count": 64,
   "id": "23242c00",
   "metadata": {},
   "outputs": [
    {
     "data": {
      "image/png": "[encoded data removed]",
      "text/plain": [
       "<Figure size 720x720 with 1 Axes>"
      ]
     },
     "metadata": {},
     "output_type": "display_data"
    }
   ],
   "source": [
    "plt.figure(figsize = (10,10))\n",
    "plt.pie(df['CGPA'].value_counts(),labels = df['CGPA'].value_counts().index,autopct = '%.1f%%',explode =[0.1,0.1,0.1,0.1,0.1],shadow = True)\n",
    "plt.show()"
   ]
  },
  {
   "cell_type": "markdown",
   "id": "7f0dabcf",
   "metadata": {},
   "source": [
    "### Number Of Student Who Live In Hostel And Got Placed"
   ]
  },
  {
   "cell_type": "code",
   "execution_count": 65,
   "id": "01fae72f",
   "metadata": {},
   "outputs": [
    {
     "name": "stdout",
     "output_type": "stream",
     "text": [
      "Number Of Student Who Live In Hostel :  798\n",
      "Number Of Student Who Don't Live In Hostel 2168\n"
     ]
    }
   ],
   "source": [
    "H = df[df['Hostel'] == 1].shape[0]\n",
    "\n",
    "print(\"Number Of Student Who Live In Hostel : \", H)\n",
    "print(\"Number Of Student Who Don't Live In Hostel\" , df[df['Hostel'] == 0].shape[0])"
   ]
  },
  {
   "cell_type": "code",
   "execution_count": 66,
   "id": "c32e7403",
   "metadata": {},
   "outputs": [
    {
     "name": "stdout",
     "output_type": "stream",
     "text": [
      "Number Of Student Who Live In Hostel And Got Placed :  416\n"
     ]
    }
   ],
   "source": [
    "H_P = df[(df['Hostel'] == 1) & df['PlacedOrNot'] == 1].shape[0]\n",
    "\n",
    "print(\"Number Of Student Who Live In Hostel And Got Placed : \", H_P)"
   ]
  },
  {
   "cell_type": "code",
   "execution_count": 67,
   "id": "345407ec",
   "metadata": {},
   "outputs": [
    {
     "name": "stdout",
     "output_type": "stream",
     "text": [
      "Number Of Student Who Live In Hostel And Not Placed :  382\n"
     ]
    }
   ],
   "source": [
    "H_NP = df[(df['Hostel'] == 1) & (df['PlacedOrNot'] == 0)].shape[0]\n",
    "\n",
    "print(\"Number Of Student Who Live In Hostel And Not Placed : \", H_NP)"
   ]
  },
  {
   "cell_type": "code",
   "execution_count": 68,
   "id": "ded9781f",
   "metadata": {
    "scrolled": false
   },
   "outputs": [
    {
     "data": {
      "image/png": "[encoded data removed]",
      "text/plain": [
       "<Figure size 432x288 with 1 Axes>"
      ]
     },
     "metadata": {
      "needs_background": "light"
     },
     "output_type": "display_data"
    }
   ],
   "source": [
    "sns.barplot(x = df.Hostel, y = df.PlacedOrNot) \n",
    "plt.show()"
   ]
  },
  {
   "cell_type": "markdown",
   "id": "a4358024",
   "metadata": {},
   "source": [
    "### Number Of Student Who Don't Live In Hostel And Got Placed"
   ]
  },
  {
   "cell_type": "code",
   "execution_count": 69,
   "id": "e28aa8d8",
   "metadata": {},
   "outputs": [
    {
     "name": "stdout",
     "output_type": "stream",
     "text": [
      "Number Of Students Who Don't Live In Hostel :  2168\n"
     ]
    }
   ],
   "source": [
    "NH = df[df['Hostel'] == 0].shape[0]\n",
    "\n",
    "print(\"Number Of Students Who Don't Live In Hostel : \",NH)"
   ]
  },
  {
   "cell_type": "code",
   "execution_count": 70,
   "id": "897e5108",
   "metadata": {},
   "outputs": [
    {
     "name": "stdout",
     "output_type": "stream",
     "text": [
      "Number Of Student Who Don't Live In Hostel And Got Placed :  1223\n"
     ]
    }
   ],
   "source": [
    "NH_P = df[(df['Hostel'] == 0) & (df['PlacedOrNot'] == 1)].shape[0]\n",
    "\n",
    "print(\"Number Of Student Who Don't Live In Hostel And Got Placed : \",NH_P)"
   ]
  },
  {
   "cell_type": "code",
   "execution_count": 71,
   "id": "e9382fef",
   "metadata": {},
   "outputs": [
    {
     "name": "stdout",
     "output_type": "stream",
     "text": [
      "Number Of Student Who Don't Live In Hostel And Not Placed :  945\n"
     ]
    }
   ],
   "source": [
    "NH_NP = df[(df['Hostel'] == 0) & (df['PlacedOrNot'] == 0)].shape[0]\n",
    "\n",
    "print(\"Number Of Student Who Don't Live In Hostel And Not Placed : \",NH_NP)"
   ]
  },
  {
   "cell_type": "markdown",
   "id": "c663babd",
   "metadata": {},
   "source": [
    "### Number Of Student Who Had History Of Backlogs And Still Got Placed"
   ]
  },
  {
   "cell_type": "code",
   "execution_count": 72,
   "id": "aca42621",
   "metadata": {},
   "outputs": [
    {
     "name": "stdout",
     "output_type": "stream",
     "text": [
      "Number Of Students Who Had Backlogs :  570\n",
      "Number Of Students Who Had No Backlogs :  2396\n"
     ]
    }
   ],
   "source": [
    "B = df[df['HistoryOfBacklogs'] == 1].shape[0]\n",
    "\n",
    "print(\"Number Of Students Who Had Backlogs : \", B)\n",
    "print(\"Number Of Students Who Had No Backlogs : \", df[df['HistoryOfBacklogs'] == 0].shape[0])"
   ]
  },
  {
   "cell_type": "code",
   "execution_count": 73,
   "id": "7ce5e97d",
   "metadata": {},
   "outputs": [
    {
     "name": "stdout",
     "output_type": "stream",
     "text": [
      "Number Of Students Who Had Backlogs And Got Placed :  302\n"
     ]
    }
   ],
   "source": [
    "B_P = df[(df['HistoryOfBacklogs'] == 1) & (df['PlacedOrNot'] == 1)].shape[0]\n",
    "\n",
    "print(\"Number Of Students Who Had Backlogs And Got Placed : \",B_P)"
   ]
  },
  {
   "cell_type": "code",
   "execution_count": 74,
   "id": "79d28f7c",
   "metadata": {},
   "outputs": [
    {
     "name": "stdout",
     "output_type": "stream",
     "text": [
      "Number Of Students Who Had Backlogs And Didn't Get Placed :  268\n"
     ]
    }
   ],
   "source": [
    "B_NP = df[(df['HistoryOfBacklogs'] == 1) & (df['PlacedOrNot'] == 0)].shape[0]\n",
    "\n",
    "print(\"Number Of Students Who Had Backlogs And Didn't Get Placed : \",B_NP)"
   ]
  },
  {
   "cell_type": "code",
   "execution_count": 75,
   "id": "e3ca1ffa",
   "metadata": {},
   "outputs": [
    {
     "data": {
      "image/png": "[encoded data removed]",
      "text/plain": [
       "<Figure size 432x288 with 1 Axes>"
      ]
     },
     "metadata": {
      "needs_background": "light"
     },
     "output_type": "display_data"
    }
   ],
   "source": [
    "sns.barplot(x = df.HistoryOfBacklogs, y = df.PlacedOrNot) \n",
    "plt.show()"
   ]
  },
  {
   "cell_type": "markdown",
   "id": "e8fea95d",
   "metadata": {},
   "source": [
    "### Number Of Student Who Didn't Had History Of  Backlogs And Got Placed"
   ]
  },
  {
   "cell_type": "code",
   "execution_count": 76,
   "id": "4575b411",
   "metadata": {},
   "outputs": [
    {
     "name": "stdout",
     "output_type": "stream",
     "text": [
      "Number Of Student Who Had No Backlogs :  2396\n"
     ]
    }
   ],
   "source": [
    "NB = df[df['HistoryOfBacklogs'] == 0].shape[0]\n",
    "\n",
    "print(\"Number Of Student Who Had No Backlogs : \",NB)"
   ]
  },
  {
   "cell_type": "code",
   "execution_count": 77,
   "id": "85c62425",
   "metadata": {
    "scrolled": true
   },
   "outputs": [
    {
     "name": "stdout",
     "output_type": "stream",
     "text": [
      "Number Of Student Who Had No Backlogs And Got Placed :  1337\n"
     ]
    }
   ],
   "source": [
    "NB_P = df[(df['HistoryOfBacklogs'] == 0) & (df['PlacedOrNot'] == 1)].shape[0]\n",
    "\n",
    "print(\"Number Of Student Who Had No Backlogs And Got Placed : \",NB_P)"
   ]
  },
  {
   "cell_type": "code",
   "execution_count": 78,
   "id": "5a2d2c9b",
   "metadata": {
    "scrolled": true
   },
   "outputs": [
    {
     "name": "stdout",
     "output_type": "stream",
     "text": [
      "Number Of Student Who Had No Backlogs And Not Placed :  1059\n"
     ]
    }
   ],
   "source": [
    "NB_NP = df[(df['HistoryOfBacklogs'] == 0) & (df['PlacedOrNot'] == 0)].shape[0]\n",
    "\n",
    "print(\"Number Of Student Who Had No Backlogs And Not Placed : \",NB_NP)"
   ]
  },
  {
   "cell_type": "markdown",
   "id": "dca91001",
   "metadata": {},
   "source": [
    "# <span style = \"color:Brown;\"><h1>Observations</h1></span>\n",
    "\n",
    "<hr>\n",
    "\n",
    "##  <span style = \"color:green;\">The Number Of Students Placed :  1639</span>\n",
    "## <span style = \"color:red;\">The Number Of Students Not Placed :  1327</span>\n",
    "<hr>\n",
    "\n",
    "## `Max Age Of Placed Person : 30`\n",
    "## `Min Age Of Placed Person : 19`\n",
    "\n",
    "<hr>\n",
    "\n",
    "## `Total Number Of Male Student` :  <span style = \"color:green;\">2475</span>\n",
    "### <span style = \"color:blue;\">Total Number Of Male Student Who Got Placed :  1364</span>\n",
    "### <span style = \"color:red;\">Number Of Male Student Who Are Not Placed :  1111</span>\n",
    "<hr>\n",
    "\n",
    "## `Total Number Of Female Student` :  <span style = \"color:green;\">491</span>\n",
    "### <span style = \"color:blue;\">Total Number Of Female Student Who Got Placed :  275</span>\n",
    "### <span style = \"color:red;\">Number Of Female Student Who Are Not Placed :  216</span>\n",
    "<hr>\n",
    "\n",
    "## `Total Number Of Students In Electronics And Communication ` :  <span style = \"color:green;\">424</span>\n",
    "### <span style = \"color:blue;\">Electronics And Communication Students Who Got Placement :  251</span>\n",
    "### <span style = \"color:red;\">Electronics And Communication Students Who Are Not Placed : 173</span>\n",
    "<hr>\n",
    "\n",
    "## `Total Number Of Students In Computer Science `  :  <span style = \"color:green;\">776</span>\n",
    "### <span style = \"color:blue;\">Computer Science Students Who Got Placement :  452</span>\n",
    "### <span style = \"color:red;\">Computer Science Students Who Are Not Placed :  324</span>\n",
    "<hr>\n",
    "\n",
    "## `Total Number Of Students In Information Technology` :  <span style = \"color:green;\">691</span>\n",
    "### <span style = \"color:blue;\">Information Technology Students Who Got Placement :  409</span>\n",
    "### <span style = \"color:red;\">Information Technology Students Who Are Not Placed :  282</span>\n",
    "<hr>\n",
    "\n",
    "## `Total Number Of Students In Mechanical` :  <span style = \"color:green;\">424</span>\n",
    "### <span style = \"color:blue;\">Mechanical Students Who Got Placement :  200</span>\n",
    "### <span style = \"color:red;\">Mechanical Students Who Are Not Placed :  224</span>\n",
    "<hr>\n",
    "\n",
    "## `Total Number Of Students In Electrical` :  <span style = \"color:green;\">334</span>\n",
    "### <span style = \"color:blue;\">Electrical Students Who Got Placement :  181</span>\n",
    "### <span style = \"color:red;\">Electrical Students Who Are Not Placed : 153</span>\n",
    "<hr>\n",
    "\n",
    "## `Total Number Of Students In Civil` :  <span style = \"color:green;\">317</span>\n",
    "### <span style = \"color:blue;\">Civil Students Who Got Placement :  146</span>\n",
    "### <span style = \"color:red;\">Civil Students Who Are Not Placed : 171</span>\n",
    "<hr>\n",
    "\n",
    "## `Max Internships Done By The Placed Student` :  <span style = \"color:green;\">3</span>\n",
    "### <span style = \"color:blue;\">No. Of Student Who Did Max Internships And Are Placed :  41</span>\n",
    "<hr>\n",
    "\n",
    "## `Min Internships Done By The Placed Student` :  <span style = \"color:red;\">0</span>\n",
    "### <span style = \"color:blue;\">No. Of Student Who Did Min Internships And Are Placed :  654</span>\n",
    "<hr>\n",
    "\n",
    "\n",
    "## `Max CGPA Obtained By The Placed Student` :  <span style = \"color:green;\">9</span>\n",
    "### <span style = \"color:blue;\">No. Of Student Who Has Max CGPA And Are Placed :  165</span>\n",
    "<hr>\n",
    "\n",
    "## `Min CGPA Obtained By The Placed Student` :  <span style = \"color:red;\">5</span>\n",
    "###  <span style = \"color:blue;\">No. Of Student Who Has Min CGPA And Are Placed :  7</span>\n",
    "<hr>\n",
    "\n",
    "## `Number Of Student Who Live In Hostel` :  <span style = \"color:green;\">798</span>\n",
    "### <span style = \"color:blue;\">Number Of Student Who Live In Hostel And Got Placed :  416</span>\n",
    "### <span style = \"color:red;\">Number Of Student Who Live In Hostel And Not Placed :  382</span>\n",
    "<hr>\n",
    "\n",
    "## `Number Of Students Who Don't Live In Hostel` :  <span style = \"color:green;\">2168</span>\n",
    "### <span style = \"color:blue;\">Number Of Student Who Don't Live In Hostel And Got Placed :  1223</span>\n",
    "### <span style = \"color:red;\">Number Of Student Who Don't Live In Hostel And Not Placed :  945</span>\n",
    "<hr>\n",
    "\n",
    "## `Number Of Students Who Had Backlogs` :  <span style = \"color:red;\">570</span>\n",
    "### <span style = \"color:blue;\">Number Of Students Who Had Backlogs And Got Placed :  302</span>\n",
    "### <span style = \"color:red;\">Number Of Students Who Had Backlogs And Didn't Get Placed :  268</span>\n",
    "<hr>\n",
    "\n",
    "## `Number Of Student Who Had No Backlogs` :  <span style = \"color:green;\">2396</span>\n",
    "### <span style = \"color:blue;\">Number Of Student Who Had No Backlogs And Got Placed :  1337</span>\n",
    "### <span style = \"color:red;\">Number Of Student Who Had No Backlogs And Not Placed :  1059</span>\n"
   ]
  },
  {
   "cell_type": "code",
   "execution_count": null,
   "id": "3fc963f1",
   "metadata": {},
   "outputs": [],
   "source": []
  }
 ],
 "metadata": {
  "kernelspec": {
   "display_name": "Python 3 (ipykernel)",
   "language": "python",
   "name": "python3"
  },
  "language_info": {
   "codemirror_mode": {
    "name": "ipython",
    "version": 3
   },
   "file_extension": ".py",
   "mimetype": "text/x-python",
   "name": "python",
   "nbconvert_exporter": "python",
   "pygments_lexer": "ipython3",
   "version": "3.9.7"
  }
 },
 "nbformat": 4,
 "nbformat_minor": 5
}
