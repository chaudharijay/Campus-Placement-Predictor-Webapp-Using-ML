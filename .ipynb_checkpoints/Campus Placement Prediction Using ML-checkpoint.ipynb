{
 "cells": [
  {
   "cell_type": "markdown",
   "id": "002fc9a2",
   "metadata": {},
   "source": [
    "### Import Required Libraries"
   ]
  },
  {
   "cell_type": "code",
   "execution_count": 1,
   "id": "6e200fe1",
   "metadata": {},
   "outputs": [],
   "source": [
    "import numpy as np\n",
    "import pandas as pd\n",
    "import matplotlib.pyplot as plt\n",
    "import seaborn as sns\n",
    "\n",
    "from sklearn.model_selection import train_test_split\n",
    "\n",
    "from sklearn.linear_model import LogisticRegression\n",
    "from sklearn.svm import SVC\n",
    "from sklearn.neighbors import KNeighborsClassifier\n",
    "from sklearn.tree import DecisionTreeClassifier\n",
    "from sklearn.ensemble import RandomForestClassifier\n",
    "from sklearn.ensemble import GradientBoostingClassifier\n",
    "\n",
    "from sklearn.metrics import accuracy_score\n",
    "from sklearn.metrics import precision_score\n",
    "from sklearn.metrics import recall_score\n",
    "from sklearn.metrics import f1_score\n",
    "\n",
    "import pickle"
   ]
  },
  {
   "cell_type": "code",
   "execution_count": 2,
   "id": "157df842",
   "metadata": {},
   "outputs": [],
   "source": [
    "import warnings\n",
    "\n",
    "warnings.filterwarnings('ignore')"
   ]
  },
  {
   "cell_type": "markdown",
   "id": "0da7a4a8",
   "metadata": {},
   "source": [
    "### Reading The Dataset"
   ]
  },
  {
   "cell_type": "code",
   "execution_count": 3,
   "id": "2ee9693d",
   "metadata": {},
   "outputs": [],
   "source": [
    "df = pd.read_csv('C:\\\\Users\\\\prasa\\\\VsCode\\\\Campus Placement Predictor Webapp Using ML\\\\archive\\\\collegePlace.csv')"
   ]
  },
  {
   "cell_type": "markdown",
   "id": "18a3d3e8",
   "metadata": {},
   "source": [
    "###  The Shape Of Data"
   ]
  },
  {
   "cell_type": "code",
   "execution_count": 4,
   "id": "9548c517",
   "metadata": {},
   "outputs": [
    {
     "data": {
      "text/plain": [
       "(2966, 8)"
      ]
     },
     "execution_count": 4,
     "metadata": {},
     "output_type": "execute_result"
    }
   ],
   "source": [
    "df.shape"
   ]
  },
  {
   "cell_type": "code",
   "execution_count": 5,
   "id": "e28c8b4b",
   "metadata": {},
   "outputs": [
    {
     "name": "stdout",
     "output_type": "stream",
     "text": [
      "Number Of Rows :  2966\n",
      "Number Of Columns :  8\n"
     ]
    }
   ],
   "source": [
    "print('Number Of Rows : ',df.shape[0])\n",
    "print('Number Of Columns : ',df.shape[1])"
   ]
  },
  {
   "cell_type": "markdown",
   "id": "299e2efb",
   "metadata": {},
   "source": [
    "### The First 5 Rows Of Dataset"
   ]
  },
  {
   "cell_type": "code",
   "execution_count": 6,
   "id": "db7a0cc0",
   "metadata": {},
   "outputs": [
    {
     "data": {
      "text/html": [
       "<div>\n",
       "<style scoped>\n",
       "    .dataframe tbody tr th:only-of-type {\n",
       "        vertical-align: middle;\n",
       "    }\n",
       "\n",
       "    .dataframe tbody tr th {\n",
       "        vertical-align: top;\n",
       "    }\n",
       "\n",
       "    .dataframe thead th {\n",
       "        text-align: right;\n",
       "    }\n",
       "</style>\n",
       "<table border=\"1\" class=\"dataframe\">\n",
       "  <thead>\n",
       "    <tr style=\"text-align: right;\">\n",
       "      <th></th>\n",
       "      <th>Age</th>\n",
       "      <th>Gender</th>\n",
       "      <th>Stream</th>\n",
       "      <th>Internships</th>\n",
       "      <th>CGPA</th>\n",
       "      <th>Hostel</th>\n",
       "      <th>HistoryOfBacklogs</th>\n",
       "      <th>PlacedOrNot</th>\n",
       "    </tr>\n",
       "  </thead>\n",
       "  <tbody>\n",
       "    <tr>\n",
       "      <th>0</th>\n",
       "      <td>22</td>\n",
       "      <td>Male</td>\n",
       "      <td>Electronics And Communication</td>\n",
       "      <td>1</td>\n",
       "      <td>8</td>\n",
       "      <td>1</td>\n",
       "      <td>1</td>\n",
       "      <td>1</td>\n",
       "    </tr>\n",
       "    <tr>\n",
       "      <th>1</th>\n",
       "      <td>21</td>\n",
       "      <td>Female</td>\n",
       "      <td>Computer Science</td>\n",
       "      <td>0</td>\n",
       "      <td>7</td>\n",
       "      <td>1</td>\n",
       "      <td>1</td>\n",
       "      <td>1</td>\n",
       "    </tr>\n",
       "    <tr>\n",
       "      <th>2</th>\n",
       "      <td>22</td>\n",
       "      <td>Female</td>\n",
       "      <td>Information Technology</td>\n",
       "      <td>1</td>\n",
       "      <td>6</td>\n",
       "      <td>0</td>\n",
       "      <td>0</td>\n",
       "      <td>1</td>\n",
       "    </tr>\n",
       "    <tr>\n",
       "      <th>3</th>\n",
       "      <td>21</td>\n",
       "      <td>Male</td>\n",
       "      <td>Information Technology</td>\n",
       "      <td>0</td>\n",
       "      <td>8</td>\n",
       "      <td>0</td>\n",
       "      <td>1</td>\n",
       "      <td>1</td>\n",
       "    </tr>\n",
       "    <tr>\n",
       "      <th>4</th>\n",
       "      <td>22</td>\n",
       "      <td>Male</td>\n",
       "      <td>Mechanical</td>\n",
       "      <td>0</td>\n",
       "      <td>8</td>\n",
       "      <td>1</td>\n",
       "      <td>0</td>\n",
       "      <td>1</td>\n",
       "    </tr>\n",
       "  </tbody>\n",
       "</table>\n",
       "</div>"
      ],
      "text/plain": [
       "   Age  Gender                         Stream  Internships  CGPA  Hostel  \\\n",
       "0   22    Male  Electronics And Communication            1     8       1   \n",
       "1   21  Female               Computer Science            0     7       1   \n",
       "2   22  Female         Information Technology            1     6       0   \n",
       "3   21    Male         Information Technology            0     8       0   \n",
       "4   22    Male                     Mechanical            0     8       1   \n",
       "\n",
       "   HistoryOfBacklogs  PlacedOrNot  \n",
       "0                  1            1  \n",
       "1                  1            1  \n",
       "2                  0            1  \n",
       "3                  1            1  \n",
       "4                  0            1  "
      ]
     },
     "execution_count": 6,
     "metadata": {},
     "output_type": "execute_result"
    }
   ],
   "source": [
    "df.head()"
   ]
  },
  {
   "cell_type": "markdown",
   "id": "d1b8e0a2",
   "metadata": {},
   "source": [
    "### The Last 5 Rows Of Dataset"
   ]
  },
  {
   "cell_type": "code",
   "execution_count": 7,
   "id": "725546e9",
   "metadata": {},
   "outputs": [
    {
     "data": {
      "text/html": [
       "<div>\n",
       "<style scoped>\n",
       "    .dataframe tbody tr th:only-of-type {\n",
       "        vertical-align: middle;\n",
       "    }\n",
       "\n",
       "    .dataframe tbody tr th {\n",
       "        vertical-align: top;\n",
       "    }\n",
       "\n",
       "    .dataframe thead th {\n",
       "        text-align: right;\n",
       "    }\n",
       "</style>\n",
       "<table border=\"1\" class=\"dataframe\">\n",
       "  <thead>\n",
       "    <tr style=\"text-align: right;\">\n",
       "      <th></th>\n",
       "      <th>Age</th>\n",
       "      <th>Gender</th>\n",
       "      <th>Stream</th>\n",
       "      <th>Internships</th>\n",
       "      <th>CGPA</th>\n",
       "      <th>Hostel</th>\n",
       "      <th>HistoryOfBacklogs</th>\n",
       "      <th>PlacedOrNot</th>\n",
       "    </tr>\n",
       "  </thead>\n",
       "  <tbody>\n",
       "    <tr>\n",
       "      <th>2961</th>\n",
       "      <td>23</td>\n",
       "      <td>Male</td>\n",
       "      <td>Information Technology</td>\n",
       "      <td>0</td>\n",
       "      <td>7</td>\n",
       "      <td>0</td>\n",
       "      <td>0</td>\n",
       "      <td>0</td>\n",
       "    </tr>\n",
       "    <tr>\n",
       "      <th>2962</th>\n",
       "      <td>23</td>\n",
       "      <td>Male</td>\n",
       "      <td>Mechanical</td>\n",
       "      <td>1</td>\n",
       "      <td>7</td>\n",
       "      <td>1</td>\n",
       "      <td>0</td>\n",
       "      <td>0</td>\n",
       "    </tr>\n",
       "    <tr>\n",
       "      <th>2963</th>\n",
       "      <td>22</td>\n",
       "      <td>Male</td>\n",
       "      <td>Information Technology</td>\n",
       "      <td>1</td>\n",
       "      <td>7</td>\n",
       "      <td>0</td>\n",
       "      <td>0</td>\n",
       "      <td>0</td>\n",
       "    </tr>\n",
       "    <tr>\n",
       "      <th>2964</th>\n",
       "      <td>22</td>\n",
       "      <td>Male</td>\n",
       "      <td>Computer Science</td>\n",
       "      <td>1</td>\n",
       "      <td>7</td>\n",
       "      <td>0</td>\n",
       "      <td>0</td>\n",
       "      <td>0</td>\n",
       "    </tr>\n",
       "    <tr>\n",
       "      <th>2965</th>\n",
       "      <td>23</td>\n",
       "      <td>Male</td>\n",
       "      <td>Civil</td>\n",
       "      <td>0</td>\n",
       "      <td>8</td>\n",
       "      <td>0</td>\n",
       "      <td>0</td>\n",
       "      <td>1</td>\n",
       "    </tr>\n",
       "  </tbody>\n",
       "</table>\n",
       "</div>"
      ],
      "text/plain": [
       "      Age Gender                  Stream  Internships  CGPA  Hostel  \\\n",
       "2961   23   Male  Information Technology            0     7       0   \n",
       "2962   23   Male              Mechanical            1     7       1   \n",
       "2963   22   Male  Information Technology            1     7       0   \n",
       "2964   22   Male        Computer Science            1     7       0   \n",
       "2965   23   Male                   Civil            0     8       0   \n",
       "\n",
       "      HistoryOfBacklogs  PlacedOrNot  \n",
       "2961                  0            0  \n",
       "2962                  0            0  \n",
       "2963                  0            0  \n",
       "2964                  0            0  \n",
       "2965                  0            1  "
      ]
     },
     "execution_count": 7,
     "metadata": {},
     "output_type": "execute_result"
    }
   ],
   "source": [
    "df.tail()"
   ]
  },
  {
   "cell_type": "markdown",
   "id": "4e2812a8",
   "metadata": {},
   "source": [
    "### 5 Rows Of The Dataset At Random"
   ]
  },
  {
   "cell_type": "code",
   "execution_count": 8,
   "id": "492e2db3",
   "metadata": {},
   "outputs": [
    {
     "data": {
      "text/html": [
       "<div>\n",
       "<style scoped>\n",
       "    .dataframe tbody tr th:only-of-type {\n",
       "        vertical-align: middle;\n",
       "    }\n",
       "\n",
       "    .dataframe tbody tr th {\n",
       "        vertical-align: top;\n",
       "    }\n",
       "\n",
       "    .dataframe thead th {\n",
       "        text-align: right;\n",
       "    }\n",
       "</style>\n",
       "<table border=\"1\" class=\"dataframe\">\n",
       "  <thead>\n",
       "    <tr style=\"text-align: right;\">\n",
       "      <th></th>\n",
       "      <th>Age</th>\n",
       "      <th>Gender</th>\n",
       "      <th>Stream</th>\n",
       "      <th>Internships</th>\n",
       "      <th>CGPA</th>\n",
       "      <th>Hostel</th>\n",
       "      <th>HistoryOfBacklogs</th>\n",
       "      <th>PlacedOrNot</th>\n",
       "    </tr>\n",
       "  </thead>\n",
       "  <tbody>\n",
       "    <tr>\n",
       "      <th>1886</th>\n",
       "      <td>24</td>\n",
       "      <td>Male</td>\n",
       "      <td>Electronics And Communication</td>\n",
       "      <td>0</td>\n",
       "      <td>6</td>\n",
       "      <td>0</td>\n",
       "      <td>0</td>\n",
       "      <td>1</td>\n",
       "    </tr>\n",
       "    <tr>\n",
       "      <th>2758</th>\n",
       "      <td>21</td>\n",
       "      <td>Male</td>\n",
       "      <td>Civil</td>\n",
       "      <td>0</td>\n",
       "      <td>8</td>\n",
       "      <td>0</td>\n",
       "      <td>0</td>\n",
       "      <td>1</td>\n",
       "    </tr>\n",
       "    <tr>\n",
       "      <th>1986</th>\n",
       "      <td>19</td>\n",
       "      <td>Male</td>\n",
       "      <td>Electronics And Communication</td>\n",
       "      <td>0</td>\n",
       "      <td>8</td>\n",
       "      <td>0</td>\n",
       "      <td>0</td>\n",
       "      <td>1</td>\n",
       "    </tr>\n",
       "    <tr>\n",
       "      <th>1798</th>\n",
       "      <td>22</td>\n",
       "      <td>Male</td>\n",
       "      <td>Computer Science</td>\n",
       "      <td>0</td>\n",
       "      <td>6</td>\n",
       "      <td>0</td>\n",
       "      <td>1</td>\n",
       "      <td>0</td>\n",
       "    </tr>\n",
       "    <tr>\n",
       "      <th>1322</th>\n",
       "      <td>24</td>\n",
       "      <td>Male</td>\n",
       "      <td>Electrical</td>\n",
       "      <td>1</td>\n",
       "      <td>7</td>\n",
       "      <td>0</td>\n",
       "      <td>0</td>\n",
       "      <td>1</td>\n",
       "    </tr>\n",
       "  </tbody>\n",
       "</table>\n",
       "</div>"
      ],
      "text/plain": [
       "      Age Gender                         Stream  Internships  CGPA  Hostel  \\\n",
       "1886   24   Male  Electronics And Communication            0     6       0   \n",
       "2758   21   Male                          Civil            0     8       0   \n",
       "1986   19   Male  Electronics And Communication            0     8       0   \n",
       "1798   22   Male               Computer Science            0     6       0   \n",
       "1322   24   Male                     Electrical            1     7       0   \n",
       "\n",
       "      HistoryOfBacklogs  PlacedOrNot  \n",
       "1886                  0            1  \n",
       "2758                  0            1  \n",
       "1986                  0            1  \n",
       "1798                  1            0  \n",
       "1322                  0            1  "
      ]
     },
     "execution_count": 8,
     "metadata": {},
     "output_type": "execute_result"
    }
   ],
   "source": [
    "df.sample(5)"
   ]
  },
  {
   "cell_type": "markdown",
   "id": "8ab76b79",
   "metadata": {},
   "source": [
    "### The Datatype Of Columns That Are In The Dataset"
   ]
  },
  {
   "cell_type": "code",
   "execution_count": 9,
   "id": "099b2b63",
   "metadata": {},
   "outputs": [
    {
     "data": {
      "text/plain": [
       "Age                   int64\n",
       "Gender               object\n",
       "Stream               object\n",
       "Internships           int64\n",
       "CGPA                  int64\n",
       "Hostel                int64\n",
       "HistoryOfBacklogs     int64\n",
       "PlacedOrNot           int64\n",
       "dtype: object"
      ]
     },
     "execution_count": 9,
     "metadata": {},
     "output_type": "execute_result"
    }
   ],
   "source": [
    "df.dtypes"
   ]
  },
  {
   "cell_type": "markdown",
   "id": "d1c8e90c",
   "metadata": {},
   "source": [
    "### The Detailed Information Of The Features In Dataset "
   ]
  },
  {
   "cell_type": "code",
   "execution_count": 10,
   "id": "6901ae4f",
   "metadata": {
    "scrolled": true
   },
   "outputs": [
    {
     "name": "stdout",
     "output_type": "stream",
     "text": [
      "<class 'pandas.core.frame.DataFrame'>\n",
      "RangeIndex: 2966 entries, 0 to 2965\n",
      "Data columns (total 8 columns):\n",
      " #   Column             Non-Null Count  Dtype \n",
      "---  ------             --------------  ----- \n",
      " 0   Age                2966 non-null   int64 \n",
      " 1   Gender             2966 non-null   object\n",
      " 2   Stream             2966 non-null   object\n",
      " 3   Internships        2966 non-null   int64 \n",
      " 4   CGPA               2966 non-null   int64 \n",
      " 5   Hostel             2966 non-null   int64 \n",
      " 6   HistoryOfBacklogs  2966 non-null   int64 \n",
      " 7   PlacedOrNot        2966 non-null   int64 \n",
      "dtypes: int64(6), object(2)\n",
      "memory usage: 185.5+ KB\n"
     ]
    }
   ],
   "source": [
    "df.info()"
   ]
  },
  {
   "cell_type": "code",
   "execution_count": 11,
   "id": "b3684b27",
   "metadata": {},
   "outputs": [
    {
     "data": {
      "text/html": [
       "<div>\n",
       "<style scoped>\n",
       "    .dataframe tbody tr th:only-of-type {\n",
       "        vertical-align: middle;\n",
       "    }\n",
       "\n",
       "    .dataframe tbody tr th {\n",
       "        vertical-align: top;\n",
       "    }\n",
       "\n",
       "    .dataframe thead th {\n",
       "        text-align: right;\n",
       "    }\n",
       "</style>\n",
       "<table border=\"1\" class=\"dataframe\">\n",
       "  <thead>\n",
       "    <tr style=\"text-align: right;\">\n",
       "      <th></th>\n",
       "      <th>Age</th>\n",
       "      <th>Gender</th>\n",
       "      <th>Stream</th>\n",
       "      <th>Internships</th>\n",
       "      <th>CGPA</th>\n",
       "      <th>Hostel</th>\n",
       "      <th>HistoryOfBacklogs</th>\n",
       "      <th>PlacedOrNot</th>\n",
       "    </tr>\n",
       "  </thead>\n",
       "  <tbody>\n",
       "    <tr>\n",
       "      <th>0</th>\n",
       "      <td>False</td>\n",
       "      <td>False</td>\n",
       "      <td>False</td>\n",
       "      <td>False</td>\n",
       "      <td>False</td>\n",
       "      <td>False</td>\n",
       "      <td>False</td>\n",
       "      <td>False</td>\n",
       "    </tr>\n",
       "    <tr>\n",
       "      <th>1</th>\n",
       "      <td>False</td>\n",
       "      <td>False</td>\n",
       "      <td>False</td>\n",
       "      <td>False</td>\n",
       "      <td>False</td>\n",
       "      <td>False</td>\n",
       "      <td>False</td>\n",
       "      <td>False</td>\n",
       "    </tr>\n",
       "    <tr>\n",
       "      <th>2</th>\n",
       "      <td>False</td>\n",
       "      <td>False</td>\n",
       "      <td>False</td>\n",
       "      <td>False</td>\n",
       "      <td>False</td>\n",
       "      <td>False</td>\n",
       "      <td>False</td>\n",
       "      <td>False</td>\n",
       "    </tr>\n",
       "    <tr>\n",
       "      <th>3</th>\n",
       "      <td>False</td>\n",
       "      <td>False</td>\n",
       "      <td>False</td>\n",
       "      <td>False</td>\n",
       "      <td>False</td>\n",
       "      <td>False</td>\n",
       "      <td>False</td>\n",
       "      <td>False</td>\n",
       "    </tr>\n",
       "    <tr>\n",
       "      <th>4</th>\n",
       "      <td>False</td>\n",
       "      <td>False</td>\n",
       "      <td>False</td>\n",
       "      <td>False</td>\n",
       "      <td>False</td>\n",
       "      <td>False</td>\n",
       "      <td>False</td>\n",
       "      <td>False</td>\n",
       "    </tr>\n",
       "    <tr>\n",
       "      <th>...</th>\n",
       "      <td>...</td>\n",
       "      <td>...</td>\n",
       "      <td>...</td>\n",
       "      <td>...</td>\n",
       "      <td>...</td>\n",
       "      <td>...</td>\n",
       "      <td>...</td>\n",
       "      <td>...</td>\n",
       "    </tr>\n",
       "    <tr>\n",
       "      <th>2961</th>\n",
       "      <td>False</td>\n",
       "      <td>False</td>\n",
       "      <td>False</td>\n",
       "      <td>False</td>\n",
       "      <td>False</td>\n",
       "      <td>False</td>\n",
       "      <td>False</td>\n",
       "      <td>False</td>\n",
       "    </tr>\n",
       "    <tr>\n",
       "      <th>2962</th>\n",
       "      <td>False</td>\n",
       "      <td>False</td>\n",
       "      <td>False</td>\n",
       "      <td>False</td>\n",
       "      <td>False</td>\n",
       "      <td>False</td>\n",
       "      <td>False</td>\n",
       "      <td>False</td>\n",
       "    </tr>\n",
       "    <tr>\n",
       "      <th>2963</th>\n",
       "      <td>False</td>\n",
       "      <td>False</td>\n",
       "      <td>False</td>\n",
       "      <td>False</td>\n",
       "      <td>False</td>\n",
       "      <td>False</td>\n",
       "      <td>False</td>\n",
       "      <td>False</td>\n",
       "    </tr>\n",
       "    <tr>\n",
       "      <th>2964</th>\n",
       "      <td>False</td>\n",
       "      <td>False</td>\n",
       "      <td>False</td>\n",
       "      <td>False</td>\n",
       "      <td>False</td>\n",
       "      <td>False</td>\n",
       "      <td>False</td>\n",
       "      <td>False</td>\n",
       "    </tr>\n",
       "    <tr>\n",
       "      <th>2965</th>\n",
       "      <td>False</td>\n",
       "      <td>False</td>\n",
       "      <td>False</td>\n",
       "      <td>False</td>\n",
       "      <td>False</td>\n",
       "      <td>False</td>\n",
       "      <td>False</td>\n",
       "      <td>False</td>\n",
       "    </tr>\n",
       "  </tbody>\n",
       "</table>\n",
       "<p>2966 rows × 8 columns</p>\n",
       "</div>"
      ],
      "text/plain": [
       "        Age  Gender  Stream  Internships   CGPA  Hostel  HistoryOfBacklogs  \\\n",
       "0     False   False   False        False  False   False              False   \n",
       "1     False   False   False        False  False   False              False   \n",
       "2     False   False   False        False  False   False              False   \n",
       "3     False   False   False        False  False   False              False   \n",
       "4     False   False   False        False  False   False              False   \n",
       "...     ...     ...     ...          ...    ...     ...                ...   \n",
       "2961  False   False   False        False  False   False              False   \n",
       "2962  False   False   False        False  False   False              False   \n",
       "2963  False   False   False        False  False   False              False   \n",
       "2964  False   False   False        False  False   False              False   \n",
       "2965  False   False   False        False  False   False              False   \n",
       "\n",
       "      PlacedOrNot  \n",
       "0           False  \n",
       "1           False  \n",
       "2           False  \n",
       "3           False  \n",
       "4           False  \n",
       "...           ...  \n",
       "2961        False  \n",
       "2962        False  \n",
       "2963        False  \n",
       "2964        False  \n",
       "2965        False  \n",
       "\n",
       "[2966 rows x 8 columns]"
      ]
     },
     "execution_count": 11,
     "metadata": {},
     "output_type": "execute_result"
    }
   ],
   "source": [
    "df.isnull()"
   ]
  },
  {
   "cell_type": "code",
   "execution_count": 12,
   "id": "5fd2b80b",
   "metadata": {},
   "outputs": [
    {
     "data": {
      "text/plain": [
       "Age                  0\n",
       "Gender               0\n",
       "Stream               0\n",
       "Internships          0\n",
       "CGPA                 0\n",
       "Hostel               0\n",
       "HistoryOfBacklogs    0\n",
       "PlacedOrNot          0\n",
       "dtype: int64"
      ]
     },
     "execution_count": 12,
     "metadata": {},
     "output_type": "execute_result"
    }
   ],
   "source": [
    "df.isnull().sum()"
   ]
  },
  {
   "cell_type": "markdown",
   "id": "1c8bfafc",
   "metadata": {},
   "source": [
    "### Overall Statistics About The Dataset"
   ]
  },
  {
   "cell_type": "code",
   "execution_count": 13,
   "id": "14f55831",
   "metadata": {},
   "outputs": [
    {
     "data": {
      "text/html": [
       "<div>\n",
       "<style scoped>\n",
       "    .dataframe tbody tr th:only-of-type {\n",
       "        vertical-align: middle;\n",
       "    }\n",
       "\n",
       "    .dataframe tbody tr th {\n",
       "        vertical-align: top;\n",
       "    }\n",
       "\n",
       "    .dataframe thead th {\n",
       "        text-align: right;\n",
       "    }\n",
       "</style>\n",
       "<table border=\"1\" class=\"dataframe\">\n",
       "  <thead>\n",
       "    <tr style=\"text-align: right;\">\n",
       "      <th></th>\n",
       "      <th>Age</th>\n",
       "      <th>Internships</th>\n",
       "      <th>CGPA</th>\n",
       "      <th>Hostel</th>\n",
       "      <th>HistoryOfBacklogs</th>\n",
       "      <th>PlacedOrNot</th>\n",
       "    </tr>\n",
       "  </thead>\n",
       "  <tbody>\n",
       "    <tr>\n",
       "      <th>count</th>\n",
       "      <td>2966.000000</td>\n",
       "      <td>2966.000000</td>\n",
       "      <td>2966.000000</td>\n",
       "      <td>2966.000000</td>\n",
       "      <td>2966.000000</td>\n",
       "      <td>2966.000000</td>\n",
       "    </tr>\n",
       "    <tr>\n",
       "      <th>mean</th>\n",
       "      <td>21.485840</td>\n",
       "      <td>0.703641</td>\n",
       "      <td>7.073837</td>\n",
       "      <td>0.269049</td>\n",
       "      <td>0.192178</td>\n",
       "      <td>0.552596</td>\n",
       "    </tr>\n",
       "    <tr>\n",
       "      <th>std</th>\n",
       "      <td>1.324933</td>\n",
       "      <td>0.740197</td>\n",
       "      <td>0.967748</td>\n",
       "      <td>0.443540</td>\n",
       "      <td>0.394079</td>\n",
       "      <td>0.497310</td>\n",
       "    </tr>\n",
       "    <tr>\n",
       "      <th>min</th>\n",
       "      <td>19.000000</td>\n",
       "      <td>0.000000</td>\n",
       "      <td>5.000000</td>\n",
       "      <td>0.000000</td>\n",
       "      <td>0.000000</td>\n",
       "      <td>0.000000</td>\n",
       "    </tr>\n",
       "    <tr>\n",
       "      <th>25%</th>\n",
       "      <td>21.000000</td>\n",
       "      <td>0.000000</td>\n",
       "      <td>6.000000</td>\n",
       "      <td>0.000000</td>\n",
       "      <td>0.000000</td>\n",
       "      <td>0.000000</td>\n",
       "    </tr>\n",
       "    <tr>\n",
       "      <th>50%</th>\n",
       "      <td>21.000000</td>\n",
       "      <td>1.000000</td>\n",
       "      <td>7.000000</td>\n",
       "      <td>0.000000</td>\n",
       "      <td>0.000000</td>\n",
       "      <td>1.000000</td>\n",
       "    </tr>\n",
       "    <tr>\n",
       "      <th>75%</th>\n",
       "      <td>22.000000</td>\n",
       "      <td>1.000000</td>\n",
       "      <td>8.000000</td>\n",
       "      <td>1.000000</td>\n",
       "      <td>0.000000</td>\n",
       "      <td>1.000000</td>\n",
       "    </tr>\n",
       "    <tr>\n",
       "      <th>max</th>\n",
       "      <td>30.000000</td>\n",
       "      <td>3.000000</td>\n",
       "      <td>9.000000</td>\n",
       "      <td>1.000000</td>\n",
       "      <td>1.000000</td>\n",
       "      <td>1.000000</td>\n",
       "    </tr>\n",
       "  </tbody>\n",
       "</table>\n",
       "</div>"
      ],
      "text/plain": [
       "               Age  Internships         CGPA       Hostel  HistoryOfBacklogs  \\\n",
       "count  2966.000000  2966.000000  2966.000000  2966.000000        2966.000000   \n",
       "mean     21.485840     0.703641     7.073837     0.269049           0.192178   \n",
       "std       1.324933     0.740197     0.967748     0.443540           0.394079   \n",
       "min      19.000000     0.000000     5.000000     0.000000           0.000000   \n",
       "25%      21.000000     0.000000     6.000000     0.000000           0.000000   \n",
       "50%      21.000000     1.000000     7.000000     0.000000           0.000000   \n",
       "75%      22.000000     1.000000     8.000000     1.000000           0.000000   \n",
       "max      30.000000     3.000000     9.000000     1.000000           1.000000   \n",
       "\n",
       "       PlacedOrNot  \n",
       "count  2966.000000  \n",
       "mean      0.552596  \n",
       "std       0.497310  \n",
       "min       0.000000  \n",
       "25%       0.000000  \n",
       "50%       1.000000  \n",
       "75%       1.000000  \n",
       "max       1.000000  "
      ]
     },
     "execution_count": 13,
     "metadata": {},
     "output_type": "execute_result"
    }
   ],
   "source": [
    "df.describe()"
   ]
  },
  {
   "cell_type": "markdown",
   "id": "7ce8218f",
   "metadata": {},
   "source": [
    "### Exploratory Data Analysis (EDA)"
   ]
  },
  {
   "cell_type": "code",
   "execution_count": 14,
   "id": "609b80bd",
   "metadata": {},
   "outputs": [
    {
     "data": {
      "text/plain": [
       "Index(['Age', 'Gender', 'Stream', 'Internships', 'CGPA', 'Hostel',\n",
       "       'HistoryOfBacklogs', 'PlacedOrNot'],\n",
       "      dtype='object')"
      ]
     },
     "execution_count": 14,
     "metadata": {},
     "output_type": "execute_result"
    }
   ],
   "source": [
    "df.columns"
   ]
  },
  {
   "cell_type": "code",
   "execution_count": 15,
   "id": "45b092fe",
   "metadata": {},
   "outputs": [
    {
     "data": {
      "text/plain": [
       "array([22, 21, 23, 24, 28, 30, 25, 26, 20, 19, 29], dtype=int64)"
      ]
     },
     "execution_count": 15,
     "metadata": {},
     "output_type": "execute_result"
    }
   ],
   "source": [
    "df['Age'].unique()"
   ]
  },
  {
   "cell_type": "code",
   "execution_count": 16,
   "id": "723fe8e9",
   "metadata": {},
   "outputs": [
    {
     "data": {
      "text/plain": [
       "array(['Male', 'Female'], dtype=object)"
      ]
     },
     "execution_count": 16,
     "metadata": {},
     "output_type": "execute_result"
    }
   ],
   "source": [
    "df['Gender'].unique()"
   ]
  },
  {
   "cell_type": "code",
   "execution_count": 17,
   "id": "5fb117b8",
   "metadata": {
    "scrolled": true
   },
   "outputs": [
    {
     "data": {
      "text/plain": [
       "array(['Electronics And Communication', 'Computer Science',\n",
       "       'Information Technology', 'Mechanical', 'Electrical', 'Civil'],\n",
       "      dtype=object)"
      ]
     },
     "execution_count": 17,
     "metadata": {},
     "output_type": "execute_result"
    }
   ],
   "source": [
    "df['Stream'].unique()"
   ]
  },
  {
   "cell_type": "code",
   "execution_count": 18,
   "id": "38dd397f",
   "metadata": {},
   "outputs": [
    {
     "data": {
      "text/plain": [
       "array([1, 0, 2, 3], dtype=int64)"
      ]
     },
     "execution_count": 18,
     "metadata": {},
     "output_type": "execute_result"
    }
   ],
   "source": [
    "df['Internships'].unique()"
   ]
  },
  {
   "cell_type": "code",
   "execution_count": 19,
   "id": "8b98f654",
   "metadata": {},
   "outputs": [
    {
     "data": {
      "text/plain": [
       "array([8, 7, 6, 9, 5], dtype=int64)"
      ]
     },
     "execution_count": 19,
     "metadata": {},
     "output_type": "execute_result"
    }
   ],
   "source": [
    "df['CGPA'].unique()"
   ]
  },
  {
   "cell_type": "code",
   "execution_count": 20,
   "id": "d16401ab",
   "metadata": {},
   "outputs": [
    {
     "data": {
      "text/plain": [
       "array([1, 0], dtype=int64)"
      ]
     },
     "execution_count": 20,
     "metadata": {},
     "output_type": "execute_result"
    }
   ],
   "source": [
    "df['Hostel'].unique()"
   ]
  },
  {
   "cell_type": "code",
   "execution_count": 21,
   "id": "2e5711ba",
   "metadata": {},
   "outputs": [
    {
     "data": {
      "text/plain": [
       "array([1, 0], dtype=int64)"
      ]
     },
     "execution_count": 21,
     "metadata": {},
     "output_type": "execute_result"
    }
   ],
   "source": [
    "df['HistoryOfBacklogs'].unique()"
   ]
  },
  {
   "cell_type": "code",
   "execution_count": 22,
   "id": "bd6e09df",
   "metadata": {},
   "outputs": [
    {
     "data": {
      "text/plain": [
       "array([1, 0], dtype=int64)"
      ]
     },
     "execution_count": 22,
     "metadata": {},
     "output_type": "execute_result"
    }
   ],
   "source": [
    "df['PlacedOrNot'].unique()"
   ]
  },
  {
   "cell_type": "markdown",
   "id": "204a71b3",
   "metadata": {},
   "source": [
    "### How Many Students Got Placed ?"
   ]
  },
  {
   "cell_type": "code",
   "execution_count": 23,
   "id": "4e747d10",
   "metadata": {},
   "outputs": [
    {
     "data": {
      "text/plain": [
       "1    1639\n",
       "0    1327\n",
       "Name: PlacedOrNot, dtype: int64"
      ]
     },
     "execution_count": 23,
     "metadata": {},
     "output_type": "execute_result"
    }
   ],
   "source": [
    "df['PlacedOrNot'].value_counts()"
   ]
  },
  {
   "cell_type": "code",
   "execution_count": 24,
   "id": "2980d82a",
   "metadata": {
    "scrolled": true
   },
   "outputs": [
    {
     "name": "stdout",
     "output_type": "stream",
     "text": [
      "The Number Of Students Placed :  1639\n",
      "The Number Of Students Not Placed :  1327\n"
     ]
    }
   ],
   "source": [
    "print(\"The Number Of Students Placed : \", df['PlacedOrNot'].value_counts()[1])\n",
    "print(\"The Number Of Students Not Placed : \", df['PlacedOrNot'].value_counts()[0])"
   ]
  },
  {
   "cell_type": "code",
   "execution_count": 25,
   "id": "46864af6",
   "metadata": {},
   "outputs": [
    {
     "data": {
      "image/png": "[encoded data removed]",
      "text/plain": [
       "<Figure size 720x360 with 1 Axes>"
      ]
     },
     "metadata": {},
     "output_type": "display_data"
    }
   ],
   "source": [
    "plt.figure(figsize = (10,5))\n",
    "plt.pie(df['PlacedOrNot'].value_counts(), labels =['Placed','NotPlaced'], autopct = '%.1f%%',explode = [0.2 , 0] , shadow = True ,startangle = 90 )\n",
    "plt.title(\"Placed Or Not\")\n",
    "plt.show()"
   ]
  },
  {
   "cell_type": "markdown",
   "id": "429f6db1",
   "metadata": {},
   "source": [
    "### Maximum And Minimum Age Of Placed Person"
   ]
  },
  {
   "cell_type": "code",
   "execution_count": 26,
   "id": "9691a5f6",
   "metadata": {},
   "outputs": [
    {
     "name": "stdout",
     "output_type": "stream",
     "text": [
      "Max Age Of Placed Person :  30\n",
      "Min Age Of Placed Person :  19\n"
     ]
    }
   ],
   "source": [
    "Max = df[(df['Age'] == df['Age'].max()) & (df['PlacedOrNot'] == 1)]['Age'].values[0]\n",
    "print(\"Max Age Of Placed Person : \", Max)\n",
    "\n",
    "Min = df[(df['Age'] == df['Age'].min()) & (df['PlacedOrNot'] == 0)]['Age'].values[0]\n",
    "print(\"Min Age Of Placed Person : \", Min)"
   ]
  },
  {
   "cell_type": "code",
   "execution_count": 27,
   "id": "b55d36b0",
   "metadata": {},
   "outputs": [
    {
     "data": {
      "image/png": "[encoded data removed]",
      "text/plain": [
       "<Figure size 720x360 with 1 Axes>"
      ]
     },
     "metadata": {
      "needs_background": "light"
     },
     "output_type": "display_data"
    }
   ],
   "source": [
    "plt.figure(figsize=(10,5))\n",
    "sns.countplot(x='Age', data = df, palette = 'hls') \n",
    "plt.show()"
   ]
  },
  {
   "cell_type": "markdown",
   "id": "7b6d8565",
   "metadata": {},
   "source": [
    "### Male Students Who Got Placed "
   ]
  },
  {
   "cell_type": "code",
   "execution_count": 28,
   "id": "35d6f894",
   "metadata": {},
   "outputs": [
    {
     "name": "stdout",
     "output_type": "stream",
     "text": [
      "Total Number Of Male Student :  2475\n"
     ]
    }
   ],
   "source": [
    "M = df[df['Gender'] == 'Male']['Gender'].count()\n",
    "\n",
    "print(\"Total Number Of Male Student : \",M)"
   ]
  },
  {
   "cell_type": "code",
   "execution_count": 29,
   "id": "10d63891",
   "metadata": {
    "scrolled": false
   },
   "outputs": [
    {
     "name": "stdout",
     "output_type": "stream",
     "text": [
      "Total Number Of Male Student Who Got Placed :  1364\n",
      "Number Of Male Student Who Are Not Placed :  1111\n"
     ]
    }
   ],
   "source": [
    "M_P = df[(df['Gender'] == 'Male') & (df['PlacedOrNot'] == 1)]['PlacedOrNot'].count()\n",
    "\n",
    "print(\"Total Number Of Male Student Who Got Placed : \",M_P)\n",
    "print(\"Number Of Male Student Who Are Not Placed : \", M - M_P)"
   ]
  },
  {
   "cell_type": "code",
   "execution_count": 30,
   "id": "5d0d6ec0",
   "metadata": {
    "scrolled": true
   },
   "outputs": [
    {
     "data": {
      "image/png": "[encoded data removed]",
      "text/plain": [
       "<Figure size 720x360 with 1 Axes>"
      ]
     },
     "metadata": {
      "needs_background": "light"
     },
     "output_type": "display_data"
    }
   ],
   "source": [
    "plt.figure(figsize = (10,5))\n",
    "sns.countplot(x='Gender', data=df)\n",
    "plt.show()"
   ]
  },
  {
   "cell_type": "markdown",
   "id": "8e3c09ca",
   "metadata": {},
   "source": [
    "### Female Students Who Got Placed"
   ]
  },
  {
   "cell_type": "code",
   "execution_count": 31,
   "id": "67c9fba5",
   "metadata": {},
   "outputs": [
    {
     "name": "stdout",
     "output_type": "stream",
     "text": [
      "Total Number Of Female Student :  491\n"
     ]
    }
   ],
   "source": [
    "F = df[df['Gender'] == 'Female']['Gender'].count()\n",
    "\n",
    "print(\"Total Number Of Female Student : \",F)"
   ]
  },
  {
   "cell_type": "code",
   "execution_count": 32,
   "id": "26ef98f4",
   "metadata": {},
   "outputs": [
    {
     "name": "stdout",
     "output_type": "stream",
     "text": [
      "Total Number Of Female Student Who Got Placed :  275\n",
      "Number Of Female Student Who Are Not Placed :  216\n"
     ]
    }
   ],
   "source": [
    "M_F = df[(df['Gender'] == 'Female') & (df['PlacedOrNot'] == 1)]['PlacedOrNot'].count()\n",
    "\n",
    "print(\"Total Number Of Female Student Who Got Placed : \",M_F)\n",
    "print(\"Number Of Female Student Who Are Not Placed : \", F - M_F)"
   ]
  },
  {
   "cell_type": "markdown",
   "id": "fe0a1376",
   "metadata": {},
   "source": [
    "### Data Regarding Students In Various Streams"
   ]
  },
  {
   "cell_type": "code",
   "execution_count": 33,
   "id": "01c799c7",
   "metadata": {},
   "outputs": [
    {
     "data": {
      "text/plain": [
       "array(['Electronics And Communication', 'Computer Science',\n",
       "       'Information Technology', 'Mechanical', 'Electrical', 'Civil'],\n",
       "      dtype=object)"
      ]
     },
     "execution_count": 33,
     "metadata": {},
     "output_type": "execute_result"
    }
   ],
   "source": [
    "df['Stream'].unique()"
   ]
  },
  {
   "cell_type": "markdown",
   "id": "27fc84d6",
   "metadata": {},
   "source": [
    "#### 1.Data Regarding Electronics And Communication Student"
   ]
  },
  {
   "cell_type": "code",
   "execution_count": 34,
   "id": "d54f8328",
   "metadata": {},
   "outputs": [
    {
     "name": "stdout",
     "output_type": "stream",
     "text": [
      "Total Number Of Students In Electronics And Communication :  424\n"
     ]
    }
   ],
   "source": [
    "ec = df[df['Stream'] == 'Electronics And Communication'].shape[0]\n",
    "\n",
    "print(\"Total Number Of Students In Electronics And Communication : \", ec)"
   ]
  },
  {
   "cell_type": "code",
   "execution_count": 35,
   "id": "bb2a88e3",
   "metadata": {},
   "outputs": [
    {
     "name": "stdout",
     "output_type": "stream",
     "text": [
      "Electronics And Communication Students Who Got Placement :  251\n"
     ]
    }
   ],
   "source": [
    "placed = df[(df['Stream'] == 'Electronics And Communication') & (df['PlacedOrNot'] == 1)].shape[0]\n",
    "\n",
    "print(\"Electronics And Communication Students Who Got Placement : \" , placed)"
   ]
  },
  {
   "cell_type": "code",
   "execution_count": 36,
   "id": "71ae81ca",
   "metadata": {},
   "outputs": [
    {
     "name": "stdout",
     "output_type": "stream",
     "text": [
      "Electronics And Communication Students Who Are Not Placed :  173\n"
     ]
    }
   ],
   "source": [
    "n_placed = df[(df['Stream'] == 'Electronics And Communication') & (df['PlacedOrNot'] == 0)].shape[0]\n",
    "\n",
    "print(\"Electronics And Communication Students Who Are Not Placed : \" , n_placed)"
   ]
  },
  {
   "cell_type": "markdown",
   "id": "54808db4",
   "metadata": {},
   "source": [
    "#### 2.Data Regarding Computer Science Student"
   ]
  },
  {
   "cell_type": "code",
   "execution_count": 37,
   "id": "f8943225",
   "metadata": {},
   "outputs": [
    {
     "name": "stdout",
     "output_type": "stream",
     "text": [
      "Total Number Of Students In Computer Science :  776\n"
     ]
    }
   ],
   "source": [
    "cs = df[df['Stream'] == 'Computer Science'].shape[0]\n",
    "\n",
    "print(\"Total Number Of Students In Computer Science : \", cs)"
   ]
  },
  {
   "cell_type": "code",
   "execution_count": 38,
   "id": "426b5c56",
   "metadata": {},
   "outputs": [
    {
     "name": "stdout",
     "output_type": "stream",
     "text": [
      "Computer Science Students Who Got Placement :  452\n"
     ]
    }
   ],
   "source": [
    "placed = df[(df['Stream'] == 'Computer Science') & (df['PlacedOrNot'] == 1)].shape[0]\n",
    "\n",
    "print(\"Computer Science Students Who Got Placement : \" , placed)"
   ]
  },
  {
   "cell_type": "code",
   "execution_count": 39,
   "id": "2bf4db63",
   "metadata": {},
   "outputs": [
    {
     "name": "stdout",
     "output_type": "stream",
     "text": [
      "Computer Science Students Who Are Not Placed :  324\n"
     ]
    }
   ],
   "source": [
    "n_placed = df[(df['Stream'] == 'Computer Science') & (df['PlacedOrNot'] == 0)].shape[0]\n",
    "\n",
    "print(\"Computer Science Students Who Are Not Placed : \" , n_placed)"
   ]
  },
  {
   "cell_type": "markdown",
   "id": "6391ab36",
   "metadata": {},
   "source": [
    "#### 3.Data Regarding Information Technology Student"
   ]
  },
  {
   "cell_type": "code",
   "execution_count": 40,
   "id": "35267348",
   "metadata": {},
   "outputs": [
    {
     "name": "stdout",
     "output_type": "stream",
     "text": [
      "Total Number Of Students In Information Technology :  691\n"
     ]
    }
   ],
   "source": [
    "it = df[df['Stream'] == 'Information Technology'].shape[0]\n",
    "\n",
    "print(\"Total Number Of Students In Information Technology : \",it)"
   ]
  },
  {
   "cell_type": "code",
   "execution_count": 41,
   "id": "0b764c60",
   "metadata": {},
   "outputs": [
    {
     "name": "stdout",
     "output_type": "stream",
     "text": [
      "Information Technology Students Who Got Placement :  409\n"
     ]
    }
   ],
   "source": [
    "placed = df[(df['Stream'] == 'Information Technology') & (df['PlacedOrNot'] == 1)].shape[0]\n",
    "\n",
    "print(\"Information Technology Students Who Got Placement : \" , placed)"
   ]
  },
  {
   "cell_type": "code",
   "execution_count": 42,
   "id": "65a4f545",
   "metadata": {},
   "outputs": [
    {
     "name": "stdout",
     "output_type": "stream",
     "text": [
      "Information Technology Students Who Are Not Placed :  282\n"
     ]
    }
   ],
   "source": [
    "n_placed = df[(df['Stream'] == 'Information Technology') & (df['PlacedOrNot'] == 0)].shape[0]\n",
    "\n",
    "print(\"Information Technology Students Who Are Not Placed : \" , n_placed)"
   ]
  },
  {
   "cell_type": "markdown",
   "id": "932c7166",
   "metadata": {},
   "source": [
    "#### 4.Data Regarding Mechanical Student"
   ]
  },
  {
   "cell_type": "code",
   "execution_count": 43,
   "id": "82165179",
   "metadata": {},
   "outputs": [
    {
     "name": "stdout",
     "output_type": "stream",
     "text": [
      "Total Number Of Students In Mechanical :  424\n"
     ]
    }
   ],
   "source": [
    "mc = df[df['Stream'] == 'Mechanical'].shape[0]\n",
    "\n",
    "print(\"Total Number Of Students In Mechanical : \",mc)"
   ]
  },
  {
   "cell_type": "code",
   "execution_count": 44,
   "id": "4c231eb0",
   "metadata": {},
   "outputs": [
    {
     "name": "stdout",
     "output_type": "stream",
     "text": [
      "Mechanical Students Who Got Placement :  200\n"
     ]
    }
   ],
   "source": [
    "placed = df[(df['Stream'] == 'Mechanical') & (df['PlacedOrNot'] == 1)].shape[0]\n",
    "\n",
    "print(\"Mechanical Students Who Got Placement : \" , placed)"
   ]
  },
  {
   "cell_type": "code",
   "execution_count": 45,
   "id": "32e433dd",
   "metadata": {
    "scrolled": false
   },
   "outputs": [
    {
     "name": "stdout",
     "output_type": "stream",
     "text": [
      "Mechanical Students Who Are Not Placed :  224\n"
     ]
    }
   ],
   "source": [
    "n_placed = df[(df['Stream'] == 'Mechanical') & (df['PlacedOrNot'] == 0)].shape[0]\n",
    "\n",
    "print(\"Mechanical Students Who Are Not Placed : \" , n_placed)"
   ]
  },
  {
   "cell_type": "markdown",
   "id": "c1a91253",
   "metadata": {},
   "source": [
    "#### 5.Data Regarding Electrical Student"
   ]
  },
  {
   "cell_type": "code",
   "execution_count": 46,
   "id": "94f0f3df",
   "metadata": {},
   "outputs": [
    {
     "name": "stdout",
     "output_type": "stream",
     "text": [
      "Total Number Of Students In Electrical :  334\n"
     ]
    }
   ],
   "source": [
    "el = df[df['Stream'] == 'Electrical'].shape[0]\n",
    "\n",
    "print(\"Total Number Of Students In Electrical : \",el)"
   ]
  },
  {
   "cell_type": "code",
   "execution_count": 47,
   "id": "e5500f8a",
   "metadata": {},
   "outputs": [
    {
     "name": "stdout",
     "output_type": "stream",
     "text": [
      "Electrical Students Who Got Placement :  181\n"
     ]
    }
   ],
   "source": [
    "placed = df[(df['Stream'] == 'Electrical') & (df['PlacedOrNot'] == 1)].shape[0]\n",
    "\n",
    "print(\"Electrical Students Who Got Placement : \" , placed)"
   ]
  },
  {
   "cell_type": "code",
   "execution_count": 48,
   "id": "551d150f",
   "metadata": {
    "scrolled": true
   },
   "outputs": [
    {
     "name": "stdout",
     "output_type": "stream",
     "text": [
      "Electrical Students Who Are Not Placed :  153\n"
     ]
    }
   ],
   "source": [
    "n_placed = df[(df['Stream'] == 'Electrical') & (df['PlacedOrNot'] == 0)].shape[0]\n",
    "\n",
    "print(\"Electrical Students Who Are Not Placed : \" , n_placed)"
   ]
  },
  {
   "cell_type": "markdown",
   "id": "32357d5a",
   "metadata": {},
   "source": [
    "#### 6.Data Regarding Civil Student"
   ]
  },
  {
   "cell_type": "code",
   "execution_count": 49,
   "id": "6e670c67",
   "metadata": {},
   "outputs": [
    {
     "name": "stdout",
     "output_type": "stream",
     "text": [
      "Total Number Of Students In Civil :  317\n"
     ]
    }
   ],
   "source": [
    "cv = df[df['Stream'] == 'Civil'].shape[0]\n",
    "\n",
    "print(\"Total Number Of Students In Civil : \",cv)"
   ]
  },
  {
   "cell_type": "code",
   "execution_count": 50,
   "id": "417e9622",
   "metadata": {},
   "outputs": [
    {
     "name": "stdout",
     "output_type": "stream",
     "text": [
      "Civil Students Who Got Placement :  146\n"
     ]
    }
   ],
   "source": [
    "placed = df[(df['Stream'] == 'Civil') & (df['PlacedOrNot'] == 1)].shape[0]\n",
    "\n",
    "print(\"Civil Students Who Got Placement : \" , placed)"
   ]
  },
  {
   "cell_type": "code",
   "execution_count": 51,
   "id": "5245d24e",
   "metadata": {
    "scrolled": true
   },
   "outputs": [
    {
     "name": "stdout",
     "output_type": "stream",
     "text": [
      "Civil Students Who Are Not Placed :  171\n"
     ]
    }
   ],
   "source": [
    "n_placed = df[(df['Stream'] == 'Civil') & (df['PlacedOrNot'] == 0)].shape[0]\n",
    "\n",
    "print(\"Civil Students Who Are Not Placed : \" , n_placed)"
   ]
  },
  {
   "cell_type": "code",
   "execution_count": 52,
   "id": "6f7baa53",
   "metadata": {},
   "outputs": [
    {
     "data": {
      "text/plain": [
       "2966"
      ]
     },
     "execution_count": 52,
     "metadata": {},
     "output_type": "execute_result"
    }
   ],
   "source": [
    "cv + ec + it + el + cs + mc"
   ]
  },
  {
   "cell_type": "code",
   "execution_count": 53,
   "id": "e2a7c660",
   "metadata": {
    "scrolled": false
   },
   "outputs": [
    {
     "data": {
      "image/png": "[encoded data removed]",
      "text/plain": [
       "<Figure size 432x288 with 1 Axes>"
      ]
     },
     "metadata": {
      "needs_background": "light"
     },
     "output_type": "display_data"
    },
    {
     "data": {
      "text/plain": [
       "<Figure size 720x360 with 0 Axes>"
      ]
     },
     "metadata": {},
     "output_type": "display_data"
    }
   ],
   "source": [
    "fig = df ['Stream'].value_counts().plot.bar()\n",
    "plt.figure(figsize = (10,5))\n",
    "fig.set_title('Stream')\n",
    "plt.show()"
   ]
  },
  {
   "cell_type": "code",
   "execution_count": 54,
   "id": "a06ec157",
   "metadata": {},
   "outputs": [
    {
     "data": {
      "image/png": "[encoded data removed]",
      "text/plain": [
       "<Figure size 720x720 with 1 Axes>"
      ]
     },
     "metadata": {},
     "output_type": "display_data"
    }
   ],
   "source": [
    "plt.figure(figsize = (10,10))\n",
    "plt.pie(df['Stream'].value_counts(), labels = df['Stream'].value_counts().index, autopct = '%.1f%%', explode = [0.1,0.1,0.1,0.1,0.1,0.1] , shadow = True)\n",
    "plt.show()"
   ]
  },
  {
   "cell_type": "code",
   "execution_count": 55,
   "id": "ca3ad1a9",
   "metadata": {},
   "outputs": [
    {
     "data": {
      "image/png": "[encoded data removed]",
      "text/plain": [
       "<Figure size 720x360 with 1 Axes>"
      ]
     },
     "metadata": {
      "needs_background": "light"
     },
     "output_type": "display_data"
    }
   ],
   "source": [
    "plt.figure(figsize = (10,5))\n",
    "sns.barplot(data=df, x=\"Stream\", y=\"PlacedOrNot\",hue =\"Gender\").set_xticklabels(labels = df['Stream'].unique(),rotation = 90)\n",
    "plt.show()"
   ]
  },
  {
   "cell_type": "markdown",
   "id": "093dbda9",
   "metadata": {},
   "source": [
    "### Maximum And Minimum Internships Done By Placed Student"
   ]
  },
  {
   "cell_type": "code",
   "execution_count": 56,
   "id": "51ff07f4",
   "metadata": {},
   "outputs": [
    {
     "name": "stdout",
     "output_type": "stream",
     "text": [
      "Max Internships Done By The Placed Student :  3\n",
      "No. Of Student Who Did Max Internships And Are Placed :  41\n"
     ]
    }
   ],
   "source": [
    "Max_In = df[(df['Internships'] == df['Internships'].max()) \n",
    "          & (df['PlacedOrNot'] == 1)]['Internships'].values[0]\n",
    "\n",
    "print(\"Max Internships Done By The Placed Student : \", Max_In)\n",
    "\n",
    "Max_In_Pl = df[(df['Internships'] == df['Internships'].max()) \n",
    "             & (df['PlacedOrNot'] == 1)]['Internships'].value_counts().values[0]\n",
    "\n",
    "print(\"No. Of Student Who Did Max Internships And Are Placed : \" , Max_In_Pl)"
   ]
  },
  {
   "cell_type": "code",
   "execution_count": 57,
   "id": "7c382361",
   "metadata": {},
   "outputs": [
    {
     "name": "stdout",
     "output_type": "stream",
     "text": [
      "Min Internships Done By The Placed Student :  0\n",
      "No. Of Student Who Did Min Internships And Are Placed :  654\n"
     ]
    }
   ],
   "source": [
    "Min_In = df[(df['Internships'] == df['Internships'].min()) \n",
    "          & (df['PlacedOrNot'] == 1)]['Internships'].values[0]\n",
    "\n",
    "print(\"Min Internships Done By The Placed Student : \", Min_In)\n",
    "\n",
    "Min_In_Pl = df[(df['Internships'] == df['Internships'].min()) \n",
    "             & (df['PlacedOrNot'] == 1)]['Internships'].value_counts().values[0]\n",
    "\n",
    "print(\"No. Of Student Who Did Min Internships And Are Placed : \" , Min_In_Pl)"
   ]
  },
  {
   "cell_type": "code",
   "execution_count": 58,
   "id": "4b4dba4a",
   "metadata": {},
   "outputs": [
    {
     "data": {
      "image/png": "[encoded data removed]",
      "text/plain": [
       "<Figure size 720x360 with 1 Axes>"
      ]
     },
     "metadata": {
      "needs_background": "light"
     },
     "output_type": "display_data"
    }
   ],
   "source": [
    "plt.figure(figsize=(10,5))\n",
    "sns.barplot(x = df.Internships, y = df.PlacedOrNot) \n",
    "plt.show()"
   ]
  },
  {
   "cell_type": "markdown",
   "id": "ddda31c1",
   "metadata": {},
   "source": [
    "### Maximum And Minimum CGPA Obtained By Placed Student"
   ]
  },
  {
   "cell_type": "code",
   "execution_count": 59,
   "id": "27092393",
   "metadata": {},
   "outputs": [
    {
     "name": "stdout",
     "output_type": "stream",
     "text": [
      "Max CGPA Obtained By The Placed Student :  9\n",
      "No. Of Student Who Has Max CGPA And Are Placed :  165\n"
     ]
    }
   ],
   "source": [
    "Max_C = df[(df['CGPA'] == df['CGPA'].max()) \n",
    "          & (df['PlacedOrNot'] == 1)]['CGPA'].values[0]\n",
    "\n",
    "print(\"Max CGPA Obtained By The Placed Student : \", Max_C)\n",
    "\n",
    "Max_C_Pl = df[(df['CGPA'] == df['CGPA'].max()) \n",
    "             & (df['PlacedOrNot'] == 1)]['CGPA'].value_counts().values[0]\n",
    "\n",
    "print(\"No. Of Student Who Has Max CGPA And Are Placed : \" , Max_C_Pl)"
   ]
  },
  {
   "cell_type": "code",
   "execution_count": 60,
   "id": "7349dbdc",
   "metadata": {},
   "outputs": [
    {
     "name": "stdout",
     "output_type": "stream",
     "text": [
      "Min CGPA Obtained By The Placed Student :  5\n",
      "No. Of Student Who Has Min CGPA And Are Placed :  7\n"
     ]
    }
   ],
   "source": [
    "Min_C = df[(df['CGPA'] == df['CGPA'].min()) \n",
    "          & (df['PlacedOrNot'] == 1)]['CGPA'].values[0]\n",
    "\n",
    "print(\"Min CGPA Obtained By The Placed Student : \", Min_C)\n",
    "\n",
    "Min_C_Pl = df[(df['CGPA'] == df['CGPA'].min()) \n",
    "             & (df['PlacedOrNot'] == 1)]['CGPA'].value_counts().values[0]\n",
    "\n",
    "print(\"No. Of Student Who Has Min CGPA And Are Placed : \" , Min_C_Pl)"
   ]
  },
  {
   "cell_type": "code",
   "execution_count": 61,
   "id": "3b723a43",
   "metadata": {},
   "outputs": [
    {
     "data": {
      "image/png": "[encoded data removed]",
      "text/plain": [
       "<Figure size 720x360 with 1 Axes>"
      ]
     },
     "metadata": {
      "needs_background": "light"
     },
     "output_type": "display_data"
    }
   ],
   "source": [
    "plt.figure(figsize=(10,5))\n",
    "sns.countplot(x='CGPA', data = df, palette = 'hls') \n",
    "plt.show()"
   ]
  },
  {
   "cell_type": "code",
   "execution_count": 62,
   "id": "dceab4ad",
   "metadata": {},
   "outputs": [
    {
     "data": {
      "image/png": "[encoded data removed]",
      "text/plain": [
       "<Figure size 720x360 with 1 Axes>"
      ]
     },
     "metadata": {
      "needs_background": "light"
     },
     "output_type": "display_data"
    }
   ],
   "source": [
    "plt.figure(figsize=(10,5))\n",
    "sns.barplot(x = df.CGPA, y = df.PlacedOrNot) \n",
    "plt.show()"
   ]
  },
  {
   "cell_type": "code",
   "execution_count": 63,
   "id": "23242c00",
   "metadata": {},
   "outputs": [
    {
     "data": {
      "image/png": "[encoded data removed]",
      "text/plain": [
       "<Figure size 720x720 with 1 Axes>"
      ]
     },
     "metadata": {},
     "output_type": "display_data"
    }
   ],
   "source": [
    "plt.figure(figsize = (10,10))\n",
    "plt.pie(df['CGPA'].value_counts(),labels = df['CGPA'].value_counts().index,autopct = '%.1f%%',explode =[0.1,0.1,0.1,0.1,0.1],shadow = True)\n",
    "plt.show()"
   ]
  },
  {
   "cell_type": "markdown",
   "id": "7f0dabcf",
   "metadata": {},
   "source": [
    "### Number Of Student Who Live In Hostel And Got Placed"
   ]
  },
  {
   "cell_type": "code",
   "execution_count": 64,
   "id": "01fae72f",
   "metadata": {},
   "outputs": [
    {
     "name": "stdout",
     "output_type": "stream",
     "text": [
      "Number Of Student Who Live In Hostel :  798\n",
      "Number Of Student Who Don't Live In Hostel 2168\n"
     ]
    }
   ],
   "source": [
    "H = df[df['Hostel'] == 1].shape[0]\n",
    "\n",
    "print(\"Number Of Student Who Live In Hostel : \", H)\n",
    "print(\"Number Of Student Who Don't Live In Hostel\" , df[df['Hostel'] == 0].shape[0])"
   ]
  },
  {
   "cell_type": "code",
   "execution_count": 65,
   "id": "c32e7403",
   "metadata": {},
   "outputs": [
    {
     "name": "stdout",
     "output_type": "stream",
     "text": [
      "Number Of Student Who Live In Hostel And Got Placed :  416\n"
     ]
    }
   ],
   "source": [
    "H_P = df[(df['Hostel'] == 1) & df['PlacedOrNot'] == 1].shape[0]\n",
    "\n",
    "print(\"Number Of Student Who Live In Hostel And Got Placed : \", H_P)"
   ]
  },
  {
   "cell_type": "code",
   "execution_count": 66,
   "id": "345407ec",
   "metadata": {},
   "outputs": [
    {
     "name": "stdout",
     "output_type": "stream",
     "text": [
      "Number Of Student Who Live In Hostel And Not Placed :  382\n"
     ]
    }
   ],
   "source": [
    "H_NP = df[(df['Hostel'] == 1) & (df['PlacedOrNot'] == 0)].shape[0]\n",
    "\n",
    "print(\"Number Of Student Who Live In Hostel And Not Placed : \", H_NP)"
   ]
  },
  {
   "cell_type": "code",
   "execution_count": 67,
   "id": "ded9781f",
   "metadata": {
    "scrolled": false
   },
   "outputs": [
    {
     "data": {
      "image/png": "[encoded data removed]",
      "text/plain": [
       "<Figure size 432x288 with 1 Axes>"
      ]
     },
     "metadata": {
      "needs_background": "light"
     },
     "output_type": "display_data"
    }
   ],
   "source": [
    "sns.barplot(x = df.Hostel, y = df.PlacedOrNot) \n",
    "plt.show()"
   ]
  },
  {
   "cell_type": "markdown",
   "id": "a4358024",
   "metadata": {},
   "source": [
    "### Number Of Student Who Don't Live In Hostel And Got Placed"
   ]
  },
  {
   "cell_type": "code",
   "execution_count": 68,
   "id": "e28aa8d8",
   "metadata": {},
   "outputs": [
    {
     "name": "stdout",
     "output_type": "stream",
     "text": [
      "Number Of Students Who Don't Live In Hostel :  2168\n"
     ]
    }
   ],
   "source": [
    "NH = df[df['Hostel'] == 0].shape[0]\n",
    "\n",
    "print(\"Number Of Students Who Don't Live In Hostel : \",NH)"
   ]
  },
  {
   "cell_type": "code",
   "execution_count": 69,
   "id": "897e5108",
   "metadata": {},
   "outputs": [
    {
     "name": "stdout",
     "output_type": "stream",
     "text": [
      "Number Of Student Who Don't Live In Hostel And Got Placed :  1223\n"
     ]
    }
   ],
   "source": [
    "NH_P = df[(df['Hostel'] == 0) & (df['PlacedOrNot'] == 1)].shape[0]\n",
    "\n",
    "print(\"Number Of Student Who Don't Live In Hostel And Got Placed : \",NH_P)"
   ]
  },
  {
   "cell_type": "code",
   "execution_count": 70,
   "id": "e9382fef",
   "metadata": {},
   "outputs": [
    {
     "name": "stdout",
     "output_type": "stream",
     "text": [
      "Number Of Student Who Don't Live In Hostel And Not Placed :  945\n"
     ]
    }
   ],
   "source": [
    "NH_NP = df[(df['Hostel'] == 0) & (df['PlacedOrNot'] == 0)].shape[0]\n",
    "\n",
    "print(\"Number Of Student Who Don't Live In Hostel And Not Placed : \",NH_NP)"
   ]
  },
  {
   "cell_type": "markdown",
   "id": "c663babd",
   "metadata": {},
   "source": [
    "### Number Of Student Who Had History Of Backlogs And Still Got Placed"
   ]
  },
  {
   "cell_type": "code",
   "execution_count": 71,
   "id": "aca42621",
   "metadata": {},
   "outputs": [
    {
     "name": "stdout",
     "output_type": "stream",
     "text": [
      "Number Of Students Who Had Backlogs :  570\n",
      "Number Of Students Who Had No Backlogs :  2396\n"
     ]
    }
   ],
   "source": [
    "B = df[df['HistoryOfBacklogs'] == 1].shape[0]\n",
    "\n",
    "print(\"Number Of Students Who Had Backlogs : \", B)\n",
    "print(\"Number Of Students Who Had No Backlogs : \", df[df['HistoryOfBacklogs'] == 0].shape[0])"
   ]
  },
  {
   "cell_type": "code",
   "execution_count": 72,
   "id": "7ce5e97d",
   "metadata": {},
   "outputs": [
    {
     "name": "stdout",
     "output_type": "stream",
     "text": [
      "Number Of Students Who Had Backlogs And Got Placed :  302\n"
     ]
    }
   ],
   "source": [
    "B_P = df[(df['HistoryOfBacklogs'] == 1) & (df['PlacedOrNot'] == 1)].shape[0]\n",
    "\n",
    "print(\"Number Of Students Who Had Backlogs And Got Placed : \",B_P)"
   ]
  },
  {
   "cell_type": "code",
   "execution_count": 73,
   "id": "79d28f7c",
   "metadata": {},
   "outputs": [
    {
     "name": "stdout",
     "output_type": "stream",
     "text": [
      "Number Of Students Who Had Backlogs And Didn't Get Placed :  268\n"
     ]
    }
   ],
   "source": [
    "B_NP = df[(df['HistoryOfBacklogs'] == 1) & (df['PlacedOrNot'] == 0)].shape[0]\n",
    "\n",
    "print(\"Number Of Students Who Had Backlogs And Didn't Get Placed : \",B_NP)"
   ]
  },
  {
   "cell_type": "code",
   "execution_count": 74,
   "id": "e3ca1ffa",
   "metadata": {},
   "outputs": [
    {
     "data": {
      "image/png": "[encoded data removed]",
      "text/plain": [
       "<Figure size 432x288 with 1 Axes>"
      ]
     },
     "metadata": {
      "needs_background": "light"
     },
     "output_type": "display_data"
    }
   ],
   "source": [
    "sns.barplot(x = df.HistoryOfBacklogs, y = df.PlacedOrNot) \n",
    "plt.show()"
   ]
  },
  {
   "cell_type": "markdown",
   "id": "e8fea95d",
   "metadata": {},
   "source": [
    "### Number Of Student Who Didn't Had History Of  Backlogs And Got Placed"
   ]
  },
  {
   "cell_type": "code",
   "execution_count": 75,
   "id": "4575b411",
   "metadata": {},
   "outputs": [
    {
     "name": "stdout",
     "output_type": "stream",
     "text": [
      "Number Of Student Who Had No Backlogs :  2396\n"
     ]
    }
   ],
   "source": [
    "NB = df[df['HistoryOfBacklogs'] == 0].shape[0]\n",
    "\n",
    "print(\"Number Of Student Who Had No Backlogs : \",NB)"
   ]
  },
  {
   "cell_type": "code",
   "execution_count": 76,
   "id": "85c62425",
   "metadata": {},
   "outputs": [
    {
     "name": "stdout",
     "output_type": "stream",
     "text": [
      "Number Of Student Who Had No Backlogs And Got Placed :  1337\n"
     ]
    }
   ],
   "source": [
    "NB_P = df[(df['HistoryOfBacklogs'] == 0) & (df['PlacedOrNot'] == 1)].shape[0]\n",
    "\n",
    "print(\"Number Of Student Who Had No Backlogs And Got Placed : \",NB_P)"
   ]
  },
  {
   "cell_type": "code",
   "execution_count": 77,
   "id": "5a2d2c9b",
   "metadata": {},
   "outputs": [
    {
     "name": "stdout",
     "output_type": "stream",
     "text": [
      "Number Of Student Who Had No Backlogs And Not Placed :  1059\n"
     ]
    }
   ],
   "source": [
    "NB_NP = df[(df['HistoryOfBacklogs'] == 0) & (df['PlacedOrNot'] == 0)].shape[0]\n",
    "\n",
    "print(\"Number Of Student Who Had No Backlogs And Not Placed : \",NB_NP)"
   ]
  },
  {
   "cell_type": "markdown",
   "id": "c7fbb170",
   "metadata": {},
   "source": [
    "### Encoding Categorical Data Into Numerical Values "
   ]
  },
  {
   "cell_type": "markdown",
   "id": "ad73c1ca",
   "metadata": {},
   "source": [
    "#### For Gender Column"
   ]
  },
  {
   "cell_type": "code",
   "execution_count": 78,
   "id": "50fe0cbc",
   "metadata": {},
   "outputs": [
    {
     "data": {
      "text/plain": [
       "array(['Male', 'Female'], dtype=object)"
      ]
     },
     "execution_count": 78,
     "metadata": {},
     "output_type": "execute_result"
    }
   ],
   "source": [
    "df['Gender'].unique()"
   ]
  },
  {
   "cell_type": "code",
   "execution_count": 79,
   "id": "557ca75b",
   "metadata": {
    "scrolled": true
   },
   "outputs": [
    {
     "data": {
      "text/plain": [
       "0       1\n",
       "1       0\n",
       "2       0\n",
       "3       1\n",
       "4       1\n",
       "       ..\n",
       "2961    1\n",
       "2962    1\n",
       "2963    1\n",
       "2964    1\n",
       "2965    1\n",
       "Name: Gender, Length: 2966, dtype: int64"
      ]
     },
     "execution_count": 79,
     "metadata": {},
     "output_type": "execute_result"
    }
   ],
   "source": [
    "df['Gender'].map({'Male' : 1 , 'Female' : 0})"
   ]
  },
  {
   "cell_type": "code",
   "execution_count": 80,
   "id": "ea8e7b11",
   "metadata": {},
   "outputs": [],
   "source": [
    "df['Gender'] = df['Gender'].map({'Male' : 1 , 'Female' : 0})"
   ]
  },
  {
   "cell_type": "code",
   "execution_count": 81,
   "id": "7002bdc3",
   "metadata": {},
   "outputs": [
    {
     "data": {
      "text/html": [
       "<div>\n",
       "<style scoped>\n",
       "    .dataframe tbody tr th:only-of-type {\n",
       "        vertical-align: middle;\n",
       "    }\n",
       "\n",
       "    .dataframe tbody tr th {\n",
       "        vertical-align: top;\n",
       "    }\n",
       "\n",
       "    .dataframe thead th {\n",
       "        text-align: right;\n",
       "    }\n",
       "</style>\n",
       "<table border=\"1\" class=\"dataframe\">\n",
       "  <thead>\n",
       "    <tr style=\"text-align: right;\">\n",
       "      <th></th>\n",
       "      <th>Age</th>\n",
       "      <th>Gender</th>\n",
       "      <th>Stream</th>\n",
       "      <th>Internships</th>\n",
       "      <th>CGPA</th>\n",
       "      <th>Hostel</th>\n",
       "      <th>HistoryOfBacklogs</th>\n",
       "      <th>PlacedOrNot</th>\n",
       "    </tr>\n",
       "  </thead>\n",
       "  <tbody>\n",
       "    <tr>\n",
       "      <th>0</th>\n",
       "      <td>22</td>\n",
       "      <td>1</td>\n",
       "      <td>Electronics And Communication</td>\n",
       "      <td>1</td>\n",
       "      <td>8</td>\n",
       "      <td>1</td>\n",
       "      <td>1</td>\n",
       "      <td>1</td>\n",
       "    </tr>\n",
       "    <tr>\n",
       "      <th>1</th>\n",
       "      <td>21</td>\n",
       "      <td>0</td>\n",
       "      <td>Computer Science</td>\n",
       "      <td>0</td>\n",
       "      <td>7</td>\n",
       "      <td>1</td>\n",
       "      <td>1</td>\n",
       "      <td>1</td>\n",
       "    </tr>\n",
       "    <tr>\n",
       "      <th>2</th>\n",
       "      <td>22</td>\n",
       "      <td>0</td>\n",
       "      <td>Information Technology</td>\n",
       "      <td>1</td>\n",
       "      <td>6</td>\n",
       "      <td>0</td>\n",
       "      <td>0</td>\n",
       "      <td>1</td>\n",
       "    </tr>\n",
       "    <tr>\n",
       "      <th>3</th>\n",
       "      <td>21</td>\n",
       "      <td>1</td>\n",
       "      <td>Information Technology</td>\n",
       "      <td>0</td>\n",
       "      <td>8</td>\n",
       "      <td>0</td>\n",
       "      <td>1</td>\n",
       "      <td>1</td>\n",
       "    </tr>\n",
       "    <tr>\n",
       "      <th>4</th>\n",
       "      <td>22</td>\n",
       "      <td>1</td>\n",
       "      <td>Mechanical</td>\n",
       "      <td>0</td>\n",
       "      <td>8</td>\n",
       "      <td>1</td>\n",
       "      <td>0</td>\n",
       "      <td>1</td>\n",
       "    </tr>\n",
       "  </tbody>\n",
       "</table>\n",
       "</div>"
      ],
      "text/plain": [
       "   Age  Gender                         Stream  Internships  CGPA  Hostel  \\\n",
       "0   22       1  Electronics And Communication            1     8       1   \n",
       "1   21       0               Computer Science            0     7       1   \n",
       "2   22       0         Information Technology            1     6       0   \n",
       "3   21       1         Information Technology            0     8       0   \n",
       "4   22       1                     Mechanical            0     8       1   \n",
       "\n",
       "   HistoryOfBacklogs  PlacedOrNot  \n",
       "0                  1            1  \n",
       "1                  1            1  \n",
       "2                  0            1  \n",
       "3                  1            1  \n",
       "4                  0            1  "
      ]
     },
     "execution_count": 81,
     "metadata": {},
     "output_type": "execute_result"
    }
   ],
   "source": [
    "df.head()"
   ]
  },
  {
   "cell_type": "markdown",
   "id": "35d92483",
   "metadata": {},
   "source": [
    "#### For Stream Column"
   ]
  },
  {
   "cell_type": "code",
   "execution_count": 82,
   "id": "799e1ed9",
   "metadata": {},
   "outputs": [
    {
     "data": {
      "text/plain": [
       "array(['Electronics And Communication', 'Computer Science',\n",
       "       'Information Technology', 'Mechanical', 'Electrical', 'Civil'],\n",
       "      dtype=object)"
      ]
     },
     "execution_count": 82,
     "metadata": {},
     "output_type": "execute_result"
    }
   ],
   "source": [
    "df['Stream'].unique()"
   ]
  },
  {
   "cell_type": "code",
   "execution_count": 83,
   "id": "366df12b",
   "metadata": {},
   "outputs": [
    {
     "data": {
      "text/plain": [
       "0       1\n",
       "1       2\n",
       "2       3\n",
       "3       3\n",
       "4       4\n",
       "       ..\n",
       "2961    3\n",
       "2962    4\n",
       "2963    3\n",
       "2964    2\n",
       "2965    6\n",
       "Name: Stream, Length: 2966, dtype: int64"
      ]
     },
     "execution_count": 83,
     "metadata": {},
     "output_type": "execute_result"
    }
   ],
   "source": [
    "df['Stream'].map({'Electronics And Communication' : 1,\n",
    "                  'Computer Science' : 2,\n",
    "                  'Information Technology' : 3,\n",
    "                  'Mechanical' : 4,\n",
    "                  'Electrical' : 5,\n",
    "                  'Civil' : 6\n",
    "                 })"
   ]
  },
  {
   "cell_type": "code",
   "execution_count": 84,
   "id": "2e48753a",
   "metadata": {},
   "outputs": [],
   "source": [
    "df['Stream'] = df['Stream'].map({'Electronics And Communication' : 1,\n",
    "                  'Computer Science' : 2,\n",
    "                  'Information Technology' : 3,\n",
    "                  'Mechanical' : 4,\n",
    "                  'Electrical' : 5,\n",
    "                  'Civil' : 6\n",
    "                 })"
   ]
  },
  {
   "cell_type": "code",
   "execution_count": 85,
   "id": "8ce13ff9",
   "metadata": {},
   "outputs": [
    {
     "data": {
      "text/html": [
       "<div>\n",
       "<style scoped>\n",
       "    .dataframe tbody tr th:only-of-type {\n",
       "        vertical-align: middle;\n",
       "    }\n",
       "\n",
       "    .dataframe tbody tr th {\n",
       "        vertical-align: top;\n",
       "    }\n",
       "\n",
       "    .dataframe thead th {\n",
       "        text-align: right;\n",
       "    }\n",
       "</style>\n",
       "<table border=\"1\" class=\"dataframe\">\n",
       "  <thead>\n",
       "    <tr style=\"text-align: right;\">\n",
       "      <th></th>\n",
       "      <th>Age</th>\n",
       "      <th>Gender</th>\n",
       "      <th>Stream</th>\n",
       "      <th>Internships</th>\n",
       "      <th>CGPA</th>\n",
       "      <th>Hostel</th>\n",
       "      <th>HistoryOfBacklogs</th>\n",
       "      <th>PlacedOrNot</th>\n",
       "    </tr>\n",
       "  </thead>\n",
       "  <tbody>\n",
       "    <tr>\n",
       "      <th>0</th>\n",
       "      <td>22</td>\n",
       "      <td>1</td>\n",
       "      <td>1</td>\n",
       "      <td>1</td>\n",
       "      <td>8</td>\n",
       "      <td>1</td>\n",
       "      <td>1</td>\n",
       "      <td>1</td>\n",
       "    </tr>\n",
       "    <tr>\n",
       "      <th>1</th>\n",
       "      <td>21</td>\n",
       "      <td>0</td>\n",
       "      <td>2</td>\n",
       "      <td>0</td>\n",
       "      <td>7</td>\n",
       "      <td>1</td>\n",
       "      <td>1</td>\n",
       "      <td>1</td>\n",
       "    </tr>\n",
       "    <tr>\n",
       "      <th>2</th>\n",
       "      <td>22</td>\n",
       "      <td>0</td>\n",
       "      <td>3</td>\n",
       "      <td>1</td>\n",
       "      <td>6</td>\n",
       "      <td>0</td>\n",
       "      <td>0</td>\n",
       "      <td>1</td>\n",
       "    </tr>\n",
       "    <tr>\n",
       "      <th>3</th>\n",
       "      <td>21</td>\n",
       "      <td>1</td>\n",
       "      <td>3</td>\n",
       "      <td>0</td>\n",
       "      <td>8</td>\n",
       "      <td>0</td>\n",
       "      <td>1</td>\n",
       "      <td>1</td>\n",
       "    </tr>\n",
       "    <tr>\n",
       "      <th>4</th>\n",
       "      <td>22</td>\n",
       "      <td>1</td>\n",
       "      <td>4</td>\n",
       "      <td>0</td>\n",
       "      <td>8</td>\n",
       "      <td>1</td>\n",
       "      <td>0</td>\n",
       "      <td>1</td>\n",
       "    </tr>\n",
       "  </tbody>\n",
       "</table>\n",
       "</div>"
      ],
      "text/plain": [
       "   Age  Gender  Stream  Internships  CGPA  Hostel  HistoryOfBacklogs  \\\n",
       "0   22       1       1            1     8       1                  1   \n",
       "1   21       0       2            0     7       1                  1   \n",
       "2   22       0       3            1     6       0                  0   \n",
       "3   21       1       3            0     8       0                  1   \n",
       "4   22       1       4            0     8       1                  0   \n",
       "\n",
       "   PlacedOrNot  \n",
       "0            1  \n",
       "1            1  \n",
       "2            1  \n",
       "3            1  \n",
       "4            1  "
      ]
     },
     "execution_count": 85,
     "metadata": {},
     "output_type": "execute_result"
    }
   ],
   "source": [
    "df.head()"
   ]
  },
  {
   "cell_type": "code",
   "execution_count": 86,
   "id": "3f74a9be",
   "metadata": {},
   "outputs": [
    {
     "data": {
      "text/plain": [
       "Age                  int64\n",
       "Gender               int64\n",
       "Stream               int64\n",
       "Internships          int64\n",
       "CGPA                 int64\n",
       "Hostel               int64\n",
       "HistoryOfBacklogs    int64\n",
       "PlacedOrNot          int64\n",
       "dtype: object"
      ]
     },
     "execution_count": 86,
     "metadata": {},
     "output_type": "execute_result"
    }
   ],
   "source": [
    "df.dtypes"
   ]
  },
  {
   "cell_type": "markdown",
   "id": "d2c2f04d",
   "metadata": {},
   "source": [
    "### PairPlot To ShowCase RelationShip Between Each Feature In The Dataset"
   ]
  },
  {
   "cell_type": "code",
   "execution_count": 87,
   "id": "8e467197",
   "metadata": {},
   "outputs": [
    {
     "data": {
      "image/png": "[encoded data removed]",
      "text/plain": [
       "<Figure size 1330.25x1260 with 56 Axes>"
      ]
     },
     "metadata": {
      "needs_background": "light"
     },
     "output_type": "display_data"
    }
   ],
   "source": [
    "sns.pairplot(df,hue=\"PlacedOrNot\")\n",
    "plt.show()"
   ]
  },
  {
   "cell_type": "markdown",
   "id": "e6793163",
   "metadata": {},
   "source": [
    "### Correlation Matrix And HeatMap Between Each Feature Of Dataset"
   ]
  },
  {
   "cell_type": "code",
   "execution_count": 88,
   "id": "06802e06",
   "metadata": {},
   "outputs": [
    {
     "data": {
      "image/png": "[encoded data removed]",
      "text/plain": [
       "<Figure size 720x360 with 2 Axes>"
      ]
     },
     "metadata": {
      "needs_background": "light"
     },
     "output_type": "display_data"
    }
   ],
   "source": [
    "corr = df.corr()\n",
    "\n",
    "plt.figure(figsize = (10,5))\n",
    "sns.heatmap(corr, annot = True , linewidth = 0.5)\n",
    "plt.show()"
   ]
  },
  {
   "cell_type": "markdown",
   "id": "ac6b28d3",
   "metadata": {},
   "source": [
    "### Store Feature Matrix In X and Response(Target) In Vector y\n",
    "### X = Independent Variables\n",
    "### y = Dependent Variable"
   ]
  },
  {
   "cell_type": "code",
   "execution_count": 89,
   "id": "be42fa14",
   "metadata": {},
   "outputs": [
    {
     "data": {
      "text/plain": [
       "Index(['Age', 'Gender', 'Stream', 'Internships', 'CGPA', 'Hostel',\n",
       "       'HistoryOfBacklogs', 'PlacedOrNot'],\n",
       "      dtype='object')"
      ]
     },
     "execution_count": 89,
     "metadata": {},
     "output_type": "execute_result"
    }
   ],
   "source": [
    "df.columns"
   ]
  },
  {
   "cell_type": "code",
   "execution_count": 90,
   "id": "31a779f6",
   "metadata": {},
   "outputs": [],
   "source": [
    "X = df.drop('PlacedOrNot', axis = 1)"
   ]
  },
  {
   "cell_type": "code",
   "execution_count": 91,
   "id": "42c28bc3",
   "metadata": {},
   "outputs": [
    {
     "data": {
      "text/html": [
       "<div>\n",
       "<style scoped>\n",
       "    .dataframe tbody tr th:only-of-type {\n",
       "        vertical-align: middle;\n",
       "    }\n",
       "\n",
       "    .dataframe tbody tr th {\n",
       "        vertical-align: top;\n",
       "    }\n",
       "\n",
       "    .dataframe thead th {\n",
       "        text-align: right;\n",
       "    }\n",
       "</style>\n",
       "<table border=\"1\" class=\"dataframe\">\n",
       "  <thead>\n",
       "    <tr style=\"text-align: right;\">\n",
       "      <th></th>\n",
       "      <th>Age</th>\n",
       "      <th>Gender</th>\n",
       "      <th>Stream</th>\n",
       "      <th>Internships</th>\n",
       "      <th>CGPA</th>\n",
       "      <th>Hostel</th>\n",
       "      <th>HistoryOfBacklogs</th>\n",
       "    </tr>\n",
       "  </thead>\n",
       "  <tbody>\n",
       "    <tr>\n",
       "      <th>0</th>\n",
       "      <td>22</td>\n",
       "      <td>1</td>\n",
       "      <td>1</td>\n",
       "      <td>1</td>\n",
       "      <td>8</td>\n",
       "      <td>1</td>\n",
       "      <td>1</td>\n",
       "    </tr>\n",
       "    <tr>\n",
       "      <th>1</th>\n",
       "      <td>21</td>\n",
       "      <td>0</td>\n",
       "      <td>2</td>\n",
       "      <td>0</td>\n",
       "      <td>7</td>\n",
       "      <td>1</td>\n",
       "      <td>1</td>\n",
       "    </tr>\n",
       "    <tr>\n",
       "      <th>2</th>\n",
       "      <td>22</td>\n",
       "      <td>0</td>\n",
       "      <td>3</td>\n",
       "      <td>1</td>\n",
       "      <td>6</td>\n",
       "      <td>0</td>\n",
       "      <td>0</td>\n",
       "    </tr>\n",
       "    <tr>\n",
       "      <th>3</th>\n",
       "      <td>21</td>\n",
       "      <td>1</td>\n",
       "      <td>3</td>\n",
       "      <td>0</td>\n",
       "      <td>8</td>\n",
       "      <td>0</td>\n",
       "      <td>1</td>\n",
       "    </tr>\n",
       "    <tr>\n",
       "      <th>4</th>\n",
       "      <td>22</td>\n",
       "      <td>1</td>\n",
       "      <td>4</td>\n",
       "      <td>0</td>\n",
       "      <td>8</td>\n",
       "      <td>1</td>\n",
       "      <td>0</td>\n",
       "    </tr>\n",
       "    <tr>\n",
       "      <th>...</th>\n",
       "      <td>...</td>\n",
       "      <td>...</td>\n",
       "      <td>...</td>\n",
       "      <td>...</td>\n",
       "      <td>...</td>\n",
       "      <td>...</td>\n",
       "      <td>...</td>\n",
       "    </tr>\n",
       "    <tr>\n",
       "      <th>2961</th>\n",
       "      <td>23</td>\n",
       "      <td>1</td>\n",
       "      <td>3</td>\n",
       "      <td>0</td>\n",
       "      <td>7</td>\n",
       "      <td>0</td>\n",
       "      <td>0</td>\n",
       "    </tr>\n",
       "    <tr>\n",
       "      <th>2962</th>\n",
       "      <td>23</td>\n",
       "      <td>1</td>\n",
       "      <td>4</td>\n",
       "      <td>1</td>\n",
       "      <td>7</td>\n",
       "      <td>1</td>\n",
       "      <td>0</td>\n",
       "    </tr>\n",
       "    <tr>\n",
       "      <th>2963</th>\n",
       "      <td>22</td>\n",
       "      <td>1</td>\n",
       "      <td>3</td>\n",
       "      <td>1</td>\n",
       "      <td>7</td>\n",
       "      <td>0</td>\n",
       "      <td>0</td>\n",
       "    </tr>\n",
       "    <tr>\n",
       "      <th>2964</th>\n",
       "      <td>22</td>\n",
       "      <td>1</td>\n",
       "      <td>2</td>\n",
       "      <td>1</td>\n",
       "      <td>7</td>\n",
       "      <td>0</td>\n",
       "      <td>0</td>\n",
       "    </tr>\n",
       "    <tr>\n",
       "      <th>2965</th>\n",
       "      <td>23</td>\n",
       "      <td>1</td>\n",
       "      <td>6</td>\n",
       "      <td>0</td>\n",
       "      <td>8</td>\n",
       "      <td>0</td>\n",
       "      <td>0</td>\n",
       "    </tr>\n",
       "  </tbody>\n",
       "</table>\n",
       "<p>2966 rows × 7 columns</p>\n",
       "</div>"
      ],
      "text/plain": [
       "      Age  Gender  Stream  Internships  CGPA  Hostel  HistoryOfBacklogs\n",
       "0      22       1       1            1     8       1                  1\n",
       "1      21       0       2            0     7       1                  1\n",
       "2      22       0       3            1     6       0                  0\n",
       "3      21       1       3            0     8       0                  1\n",
       "4      22       1       4            0     8       1                  0\n",
       "...   ...     ...     ...          ...   ...     ...                ...\n",
       "2961   23       1       3            0     7       0                  0\n",
       "2962   23       1       4            1     7       1                  0\n",
       "2963   22       1       3            1     7       0                  0\n",
       "2964   22       1       2            1     7       0                  0\n",
       "2965   23       1       6            0     8       0                  0\n",
       "\n",
       "[2966 rows x 7 columns]"
      ]
     },
     "execution_count": 91,
     "metadata": {},
     "output_type": "execute_result"
    }
   ],
   "source": [
    "X"
   ]
  },
  {
   "cell_type": "code",
   "execution_count": 92,
   "id": "3b829fbc",
   "metadata": {},
   "outputs": [],
   "source": [
    "y = df['PlacedOrNot']"
   ]
  },
  {
   "cell_type": "code",
   "execution_count": 93,
   "id": "51e6125a",
   "metadata": {},
   "outputs": [
    {
     "data": {
      "text/plain": [
       "0       1\n",
       "1       1\n",
       "2       1\n",
       "3       1\n",
       "4       1\n",
       "       ..\n",
       "2961    0\n",
       "2962    0\n",
       "2963    0\n",
       "2964    0\n",
       "2965    1\n",
       "Name: PlacedOrNot, Length: 2966, dtype: int64"
      ]
     },
     "execution_count": 93,
     "metadata": {},
     "output_type": "execute_result"
    }
   ],
   "source": [
    "y"
   ]
  },
  {
   "cell_type": "code",
   "execution_count": 94,
   "id": "51dd3f6e",
   "metadata": {},
   "outputs": [
    {
     "data": {
      "text/plain": [
       "(2966, 7)"
      ]
     },
     "execution_count": 94,
     "metadata": {},
     "output_type": "execute_result"
    }
   ],
   "source": [
    "X.shape"
   ]
  },
  {
   "cell_type": "code",
   "execution_count": 95,
   "id": "1773a117",
   "metadata": {},
   "outputs": [
    {
     "data": {
      "text/plain": [
       "(2966,)"
      ]
     },
     "execution_count": 95,
     "metadata": {},
     "output_type": "execute_result"
    }
   ],
   "source": [
    "y.shape"
   ]
  },
  {
   "cell_type": "markdown",
   "id": "be613ce3",
   "metadata": {},
   "source": [
    "### Splitting The Dataset Into The Training Set And Test Set "
   ]
  },
  {
   "cell_type": "code",
   "execution_count": 96,
   "id": "8d4296b0",
   "metadata": {},
   "outputs": [],
   "source": [
    "X_train,X_test,y_train,y_test = train_test_split(X,y,test_size=0.33,random_state=42)"
   ]
  },
  {
   "cell_type": "code",
   "execution_count": 97,
   "id": "2681e688",
   "metadata": {},
   "outputs": [
    {
     "data": {
      "text/plain": [
       "(1987, 7)"
      ]
     },
     "execution_count": 97,
     "metadata": {},
     "output_type": "execute_result"
    }
   ],
   "source": [
    "X_train.shape "
   ]
  },
  {
   "cell_type": "code",
   "execution_count": 98,
   "id": "19daee67",
   "metadata": {},
   "outputs": [
    {
     "data": {
      "text/plain": [
       "(979, 7)"
      ]
     },
     "execution_count": 98,
     "metadata": {},
     "output_type": "execute_result"
    }
   ],
   "source": [
    "X_test.shape"
   ]
  },
  {
   "cell_type": "code",
   "execution_count": 99,
   "id": "2d62cc92",
   "metadata": {},
   "outputs": [
    {
     "data": {
      "text/plain": [
       "(1987,)"
      ]
     },
     "execution_count": 99,
     "metadata": {},
     "output_type": "execute_result"
    }
   ],
   "source": [
    "y_train.shape  "
   ]
  },
  {
   "cell_type": "code",
   "execution_count": 100,
   "id": "6e515d0d",
   "metadata": {},
   "outputs": [
    {
     "data": {
      "text/plain": [
       "(979,)"
      ]
     },
     "execution_count": 100,
     "metadata": {},
     "output_type": "execute_result"
    }
   ],
   "source": [
    "y_test.shape"
   ]
  },
  {
   "cell_type": "markdown",
   "id": "a76664c1",
   "metadata": {},
   "source": [
    "### Training The Models"
   ]
  },
  {
   "cell_type": "code",
   "execution_count": 101,
   "id": "b48abedd",
   "metadata": {},
   "outputs": [
    {
     "data": {
      "text/plain": [
       "GradientBoostingClassifier()"
      ]
     },
     "execution_count": 101,
     "metadata": {},
     "output_type": "execute_result"
    }
   ],
   "source": [
    "lr = LogisticRegression()\n",
    "lr.fit(X_train,y_train)\n",
    "\n",
    "svc = SVC()\n",
    "svc.fit(X_train,y_train)\n",
    "\n",
    "knn = KNeighborsClassifier()\n",
    "knn.fit(X_train,y_train)\n",
    "\n",
    "dt = DecisionTreeClassifier()\n",
    "dt.fit(X_train,y_train)\n",
    "\n",
    "rf = RandomForestClassifier()\n",
    "rf.fit(X_train,y_train)\n",
    "\n",
    "gb = GradientBoostingClassifier()\n",
    "gb.fit(X_train,y_train)"
   ]
  },
  {
   "cell_type": "markdown",
   "id": "10061f7f",
   "metadata": {},
   "source": [
    "### Prediction On Data"
   ]
  },
  {
   "cell_type": "code",
   "execution_count": 102,
   "id": "8984e027",
   "metadata": {},
   "outputs": [],
   "source": [
    "y_pred1 = lr.predict(X_test)\n",
    "y_pred2 = svc.predict(X_test)\n",
    "y_pred3 = knn.predict(X_test)\n",
    "y_pred4 = dt.predict(X_test)\n",
    "y_pred5 = rf.predict(X_test)\n",
    "y_pred6 = gb.predict(X_test)"
   ]
  },
  {
   "cell_type": "markdown",
   "id": "bed809d9",
   "metadata": {},
   "source": [
    "### Evaluating The Models"
   ]
  },
  {
   "cell_type": "code",
   "execution_count": 103,
   "id": "09058da5",
   "metadata": {},
   "outputs": [],
   "source": [
    "acc1 = accuracy_score(y_test,y_pred1)\n",
    "acc2 = accuracy_score(y_test,y_pred2)\n",
    "acc3 = accuracy_score(y_test,y_pred3)\n",
    "acc4 = accuracy_score(y_test,y_pred4)\n",
    "acc5 = accuracy_score(y_test,y_pred5)\n",
    "acc6 = accuracy_score(y_test,y_pred6)"
   ]
  },
  {
   "cell_type": "code",
   "execution_count": 104,
   "id": "275f69f5",
   "metadata": {},
   "outputs": [],
   "source": [
    "prec1 = precision_score(y_test,y_pred1)\n",
    "prec2 = precision_score(y_test,y_pred2)\n",
    "prec3 = precision_score(y_test,y_pred3)\n",
    "prec4 = precision_score(y_test,y_pred4)\n",
    "prec5 = precision_score(y_test,y_pred5)\n",
    "prec6 = precision_score(y_test,y_pred6)"
   ]
  },
  {
   "cell_type": "code",
   "execution_count": 105,
   "id": "7b36bac5",
   "metadata": {},
   "outputs": [],
   "source": [
    "r1 = recall_score(y_test,y_pred1)\n",
    "r2 = recall_score(y_test,y_pred2)\n",
    "r3 = recall_score(y_test,y_pred3)\n",
    "r4 = recall_score(y_test,y_pred4)\n",
    "r5 = recall_score(y_test,y_pred5)\n",
    "r6 = recall_score(y_test,y_pred6)"
   ]
  },
  {
   "cell_type": "code",
   "execution_count": 106,
   "id": "7fcc947f",
   "metadata": {},
   "outputs": [],
   "source": [
    "f1 = f1_score(y_test,y_pred1)\n",
    "f2 = f1_score(y_test,y_pred2)\n",
    "f3 = f1_score(y_test,y_pred3)\n",
    "f4 = f1_score(y_test,y_pred4)\n",
    "f5 = f1_score(y_test,y_pred5)\n",
    "f6 = f1_score(y_test,y_pred6)"
   ]
  },
  {
   "cell_type": "code",
   "execution_count": 107,
   "id": "07068d20",
   "metadata": {},
   "outputs": [],
   "source": [
    "final_data = pd.DataFrame({'Models':['LR','SVC','KNN','DT','RF','GB'],\n",
    "            'ACCURACY':[acc1*100,acc2*100,acc3*100,acc4*100,acc5*100,acc6*100],\n",
    "            'PRECISION':[prec1*100,prec2*100,prec3*100,prec4*100,prec5*100,prec6*100],\n",
    "            'RECALL' :[r1*100 , r2*100 , r3 * 100 , r4 * 100 , r5 * 100 , r6 * 100],\n",
    "            'F1_SCORE':[f1*100 , f2*100 , f3 * 100 , f4 * 100 , f5 * 100 , f6 * 100]})"
   ]
  },
  {
   "cell_type": "code",
   "execution_count": 108,
   "id": "1496d013",
   "metadata": {
    "scrolled": true
   },
   "outputs": [
    {
     "data": {
      "text/html": [
       "<div>\n",
       "<style scoped>\n",
       "    .dataframe tbody tr th:only-of-type {\n",
       "        vertical-align: middle;\n",
       "    }\n",
       "\n",
       "    .dataframe tbody tr th {\n",
       "        vertical-align: top;\n",
       "    }\n",
       "\n",
       "    .dataframe thead th {\n",
       "        text-align: right;\n",
       "    }\n",
       "</style>\n",
       "<table border=\"1\" class=\"dataframe\">\n",
       "  <thead>\n",
       "    <tr style=\"text-align: right;\">\n",
       "      <th></th>\n",
       "      <th>Models</th>\n",
       "      <th>ACCURACY</th>\n",
       "      <th>PRECISION</th>\n",
       "      <th>RECALL</th>\n",
       "      <th>F1_SCORE</th>\n",
       "    </tr>\n",
       "  </thead>\n",
       "  <tbody>\n",
       "    <tr>\n",
       "      <th>0</th>\n",
       "      <td>LR</td>\n",
       "      <td>74.974464</td>\n",
       "      <td>78.171642</td>\n",
       "      <td>76.599634</td>\n",
       "      <td>77.377655</td>\n",
       "    </tr>\n",
       "    <tr>\n",
       "      <th>1</th>\n",
       "      <td>SVC</td>\n",
       "      <td>76.608784</td>\n",
       "      <td>82.056452</td>\n",
       "      <td>74.405850</td>\n",
       "      <td>78.044104</td>\n",
       "    </tr>\n",
       "    <tr>\n",
       "      <th>2</th>\n",
       "      <td>KNN</td>\n",
       "      <td>83.861083</td>\n",
       "      <td>91.471215</td>\n",
       "      <td>78.427788</td>\n",
       "      <td>84.448819</td>\n",
       "    </tr>\n",
       "    <tr>\n",
       "      <th>3</th>\n",
       "      <td>DT</td>\n",
       "      <td>88.049030</td>\n",
       "      <td>94.057377</td>\n",
       "      <td>83.912249</td>\n",
       "      <td>88.695652</td>\n",
       "    </tr>\n",
       "    <tr>\n",
       "      <th>4</th>\n",
       "      <td>RF</td>\n",
       "      <td>88.253320</td>\n",
       "      <td>93.902439</td>\n",
       "      <td>84.460695</td>\n",
       "      <td>88.931665</td>\n",
       "    </tr>\n",
       "    <tr>\n",
       "      <th>5</th>\n",
       "      <td>GB</td>\n",
       "      <td>88.151175</td>\n",
       "      <td>95.948827</td>\n",
       "      <td>82.266910</td>\n",
       "      <td>88.582677</td>\n",
       "    </tr>\n",
       "  </tbody>\n",
       "</table>\n",
       "</div>"
      ],
      "text/plain": [
       "  Models   ACCURACY  PRECISION     RECALL   F1_SCORE\n",
       "0     LR  74.974464  78.171642  76.599634  77.377655\n",
       "1    SVC  76.608784  82.056452  74.405850  78.044104\n",
       "2    KNN  83.861083  91.471215  78.427788  84.448819\n",
       "3     DT  88.049030  94.057377  83.912249  88.695652\n",
       "4     RF  88.253320  93.902439  84.460695  88.931665\n",
       "5     GB  88.151175  95.948827  82.266910  88.582677"
      ]
     },
     "execution_count": 108,
     "metadata": {},
     "output_type": "execute_result"
    }
   ],
   "source": [
    "final_data"
   ]
  },
  {
   "cell_type": "code",
   "execution_count": 109,
   "id": "bbeb8b70",
   "metadata": {
    "scrolled": false
   },
   "outputs": [
    {
     "data": {
      "text/html": [
       "<div>\n",
       "<style scoped>\n",
       "    .dataframe tbody tr th:only-of-type {\n",
       "        vertical-align: middle;\n",
       "    }\n",
       "\n",
       "    .dataframe tbody tr th {\n",
       "        vertical-align: top;\n",
       "    }\n",
       "\n",
       "    .dataframe thead th {\n",
       "        text-align: right;\n",
       "    }\n",
       "</style>\n",
       "<table border=\"1\" class=\"dataframe\">\n",
       "  <thead>\n",
       "    <tr style=\"text-align: right;\">\n",
       "      <th></th>\n",
       "      <th>Models</th>\n",
       "      <th>ACCURACY</th>\n",
       "      <th>PRECISION</th>\n",
       "      <th>RECALL</th>\n",
       "      <th>F1_SCORE</th>\n",
       "    </tr>\n",
       "  </thead>\n",
       "  <tbody>\n",
       "    <tr>\n",
       "      <th>4</th>\n",
       "      <td>RF</td>\n",
       "      <td>88.25332</td>\n",
       "      <td>93.902439</td>\n",
       "      <td>84.460695</td>\n",
       "      <td>88.931665</td>\n",
       "    </tr>\n",
       "  </tbody>\n",
       "</table>\n",
       "</div>"
      ],
      "text/plain": [
       "  Models  ACCURACY  PRECISION     RECALL   F1_SCORE\n",
       "4     RF  88.25332  93.902439  84.460695  88.931665"
      ]
     },
     "execution_count": 109,
     "metadata": {},
     "output_type": "execute_result"
    }
   ],
   "source": [
    "final_data[final_data['ACCURACY'] == final_data['ACCURACY'].max()]"
   ]
  },
  {
   "cell_type": "code",
   "execution_count": 110,
   "id": "a4cd52f8",
   "metadata": {
    "scrolled": true
   },
   "outputs": [
    {
     "data": {
      "text/html": [
       "<div>\n",
       "<style scoped>\n",
       "    .dataframe tbody tr th:only-of-type {\n",
       "        vertical-align: middle;\n",
       "    }\n",
       "\n",
       "    .dataframe tbody tr th {\n",
       "        vertical-align: top;\n",
       "    }\n",
       "\n",
       "    .dataframe thead th {\n",
       "        text-align: right;\n",
       "    }\n",
       "</style>\n",
       "<table border=\"1\" class=\"dataframe\">\n",
       "  <thead>\n",
       "    <tr style=\"text-align: right;\">\n",
       "      <th></th>\n",
       "      <th>Models</th>\n",
       "      <th>ACCURACY</th>\n",
       "      <th>PRECISION</th>\n",
       "      <th>RECALL</th>\n",
       "      <th>F1_SCORE</th>\n",
       "    </tr>\n",
       "  </thead>\n",
       "  <tbody>\n",
       "    <tr>\n",
       "      <th>5</th>\n",
       "      <td>GB</td>\n",
       "      <td>88.151175</td>\n",
       "      <td>95.948827</td>\n",
       "      <td>82.26691</td>\n",
       "      <td>88.582677</td>\n",
       "    </tr>\n",
       "  </tbody>\n",
       "</table>\n",
       "</div>"
      ],
      "text/plain": [
       "  Models   ACCURACY  PRECISION    RECALL   F1_SCORE\n",
       "5     GB  88.151175  95.948827  82.26691  88.582677"
      ]
     },
     "execution_count": 110,
     "metadata": {},
     "output_type": "execute_result"
    }
   ],
   "source": [
    "final_data[final_data['PRECISION'] == final_data['PRECISION'].max()]"
   ]
  },
  {
   "cell_type": "code",
   "execution_count": 111,
   "id": "a9f1f96b",
   "metadata": {},
   "outputs": [
    {
     "data": {
      "text/html": [
       "<div>\n",
       "<style scoped>\n",
       "    .dataframe tbody tr th:only-of-type {\n",
       "        vertical-align: middle;\n",
       "    }\n",
       "\n",
       "    .dataframe tbody tr th {\n",
       "        vertical-align: top;\n",
       "    }\n",
       "\n",
       "    .dataframe thead th {\n",
       "        text-align: right;\n",
       "    }\n",
       "</style>\n",
       "<table border=\"1\" class=\"dataframe\">\n",
       "  <thead>\n",
       "    <tr style=\"text-align: right;\">\n",
       "      <th></th>\n",
       "      <th>Models</th>\n",
       "      <th>ACCURACY</th>\n",
       "      <th>PRECISION</th>\n",
       "      <th>RECALL</th>\n",
       "      <th>F1_SCORE</th>\n",
       "    </tr>\n",
       "  </thead>\n",
       "  <tbody>\n",
       "    <tr>\n",
       "      <th>4</th>\n",
       "      <td>RF</td>\n",
       "      <td>88.25332</td>\n",
       "      <td>93.902439</td>\n",
       "      <td>84.460695</td>\n",
       "      <td>88.931665</td>\n",
       "    </tr>\n",
       "  </tbody>\n",
       "</table>\n",
       "</div>"
      ],
      "text/plain": [
       "  Models  ACCURACY  PRECISION     RECALL   F1_SCORE\n",
       "4     RF  88.25332  93.902439  84.460695  88.931665"
      ]
     },
     "execution_count": 111,
     "metadata": {},
     "output_type": "execute_result"
    }
   ],
   "source": [
    "final_data[final_data['RECALL'] == final_data['RECALL'].max()]"
   ]
  },
  {
   "cell_type": "code",
   "execution_count": 112,
   "id": "5ce715f5",
   "metadata": {},
   "outputs": [
    {
     "data": {
      "text/html": [
       "<div>\n",
       "<style scoped>\n",
       "    .dataframe tbody tr th:only-of-type {\n",
       "        vertical-align: middle;\n",
       "    }\n",
       "\n",
       "    .dataframe tbody tr th {\n",
       "        vertical-align: top;\n",
       "    }\n",
       "\n",
       "    .dataframe thead th {\n",
       "        text-align: right;\n",
       "    }\n",
       "</style>\n",
       "<table border=\"1\" class=\"dataframe\">\n",
       "  <thead>\n",
       "    <tr style=\"text-align: right;\">\n",
       "      <th></th>\n",
       "      <th>Models</th>\n",
       "      <th>ACCURACY</th>\n",
       "      <th>PRECISION</th>\n",
       "      <th>RECALL</th>\n",
       "      <th>F1_SCORE</th>\n",
       "    </tr>\n",
       "  </thead>\n",
       "  <tbody>\n",
       "    <tr>\n",
       "      <th>4</th>\n",
       "      <td>RF</td>\n",
       "      <td>88.25332</td>\n",
       "      <td>93.902439</td>\n",
       "      <td>84.460695</td>\n",
       "      <td>88.931665</td>\n",
       "    </tr>\n",
       "  </tbody>\n",
       "</table>\n",
       "</div>"
      ],
      "text/plain": [
       "  Models  ACCURACY  PRECISION     RECALL   F1_SCORE\n",
       "4     RF  88.25332  93.902439  84.460695  88.931665"
      ]
     },
     "execution_count": 112,
     "metadata": {},
     "output_type": "execute_result"
    }
   ],
   "source": [
    "final_data[final_data['F1_SCORE'] == final_data['F1_SCORE'].max()]"
   ]
  },
  {
   "cell_type": "code",
   "execution_count": 113,
   "id": "ee6051d6",
   "metadata": {
    "scrolled": true
   },
   "outputs": [
    {
     "data": {
      "text/plain": [
       "<AxesSubplot:xlabel='Models', ylabel='ACCURACY'>"
      ]
     },
     "execution_count": 113,
     "metadata": {},
     "output_type": "execute_result"
    },
    {
     "data": {
      "image/png": "[encoded data removed]",
      "text/plain": [
       "<Figure size 432x288 with 1 Axes>"
      ]
     },
     "metadata": {
      "needs_background": "light"
     },
     "output_type": "display_data"
    }
   ],
   "source": [
    "sns.barplot(final_data['Models'],final_data['ACCURACY'])"
   ]
  },
  {
   "cell_type": "code",
   "execution_count": 114,
   "id": "749c8efb",
   "metadata": {},
   "outputs": [
    {
     "data": {
      "text/plain": [
       "<AxesSubplot:xlabel='Models', ylabel='PRECISION'>"
      ]
     },
     "execution_count": 114,
     "metadata": {},
     "output_type": "execute_result"
    },
    {
     "data": {
      "image/png": "[encoded data removed]",
      "text/plain": [
       "<Figure size 432x288 with 1 Axes>"
      ]
     },
     "metadata": {
      "needs_background": "light"
     },
     "output_type": "display_data"
    }
   ],
   "source": [
    "sns.barplot(final_data['Models'],final_data['PRECISION'])"
   ]
  },
  {
   "cell_type": "code",
   "execution_count": 115,
   "id": "a9301a28",
   "metadata": {
    "scrolled": true
   },
   "outputs": [
    {
     "data": {
      "text/plain": [
       "<AxesSubplot:xlabel='Models', ylabel='RECALL'>"
      ]
     },
     "execution_count": 115,
     "metadata": {},
     "output_type": "execute_result"
    },
    {
     "data": {
      "image/png": "[encoded data removed]",
      "text/plain": [
       "<Figure size 432x288 with 1 Axes>"
      ]
     },
     "metadata": {
      "needs_background": "light"
     },
     "output_type": "display_data"
    }
   ],
   "source": [
    "sns.barplot(final_data['Models'],final_data['RECALL'])"
   ]
  },
  {
   "cell_type": "code",
   "execution_count": 116,
   "id": "85407839",
   "metadata": {},
   "outputs": [
    {
     "data": {
      "text/plain": [
       "<AxesSubplot:xlabel='Models', ylabel='F1_SCORE'>"
      ]
     },
     "execution_count": 116,
     "metadata": {},
     "output_type": "execute_result"
    },
    {
     "data": {
      "image/png": "[encoded data removed]",
      "text/plain": [
       "<Figure size 432x288 with 1 Axes>"
      ]
     },
     "metadata": {
      "needs_background": "light"
     },
     "output_type": "display_data"
    }
   ],
   "source": [
    "sns.barplot(final_data['Models'],final_data['F1_SCORE'])"
   ]
  },
  {
   "cell_type": "markdown",
   "id": "e45d899b",
   "metadata": {},
   "source": [
    "#  Random Forest Model Is Selected For Prediction"
   ]
  },
  {
   "cell_type": "markdown",
   "id": "828734ff",
   "metadata": {},
   "source": [
    "### Training The Best Model On Whole Dataset"
   ]
  },
  {
   "cell_type": "code",
   "execution_count": 117,
   "id": "1c47528c",
   "metadata": {},
   "outputs": [
    {
     "data": {
      "text/plain": [
       "RandomForestClassifier()"
      ]
     },
     "execution_count": 117,
     "metadata": {},
     "output_type": "execute_result"
    }
   ],
   "source": [
    "rf = RandomForestClassifier()\n",
    "rf.fit(X,y)"
   ]
  },
  {
   "cell_type": "markdown",
   "id": "6905a5f8",
   "metadata": {},
   "source": [
    "### Prediction On New Data"
   ]
  },
  {
   "cell_type": "code",
   "execution_count": 118,
   "id": "4a213b8e",
   "metadata": {},
   "outputs": [
    {
     "data": {
      "text/html": [
       "<div>\n",
       "<style scoped>\n",
       "    .dataframe tbody tr th:only-of-type {\n",
       "        vertical-align: middle;\n",
       "    }\n",
       "\n",
       "    .dataframe tbody tr th {\n",
       "        vertical-align: top;\n",
       "    }\n",
       "\n",
       "    .dataframe thead th {\n",
       "        text-align: right;\n",
       "    }\n",
       "</style>\n",
       "<table border=\"1\" class=\"dataframe\">\n",
       "  <thead>\n",
       "    <tr style=\"text-align: right;\">\n",
       "      <th></th>\n",
       "      <th>Age</th>\n",
       "      <th>Gender</th>\n",
       "      <th>Stream</th>\n",
       "      <th>Internships</th>\n",
       "      <th>CGPA</th>\n",
       "      <th>Hostel</th>\n",
       "      <th>HistoryOfBacklogs</th>\n",
       "    </tr>\n",
       "  </thead>\n",
       "  <tbody>\n",
       "    <tr>\n",
       "      <th>0</th>\n",
       "      <td>20</td>\n",
       "      <td>1</td>\n",
       "      <td>2</td>\n",
       "      <td>0</td>\n",
       "      <td>9</td>\n",
       "      <td>0</td>\n",
       "      <td>0</td>\n",
       "    </tr>\n",
       "  </tbody>\n",
       "</table>\n",
       "</div>"
      ],
      "text/plain": [
       "   Age  Gender  Stream  Internships  CGPA  Hostel  HistoryOfBacklogs\n",
       "0   20       1       2            0     9       0                  0"
      ]
     },
     "execution_count": 118,
     "metadata": {},
     "output_type": "execute_result"
    }
   ],
   "source": [
    "new_data = pd.DataFrame({'Age' : 20,\n",
    "                         'Gender' : 1,\n",
    "                         'Stream' : 2,\n",
    "                         'Internships' : 0,\n",
    "                         'CGPA' : 9,\n",
    "                         'Hostel' : 0,\n",
    "                         'HistoryOfBacklogs' : 0},index = [0])\n",
    "new_data"
   ]
  },
  {
   "cell_type": "code",
   "execution_count": 119,
   "id": "f715bd25",
   "metadata": {},
   "outputs": [
    {
     "name": "stdout",
     "output_type": "stream",
     "text": [
      "Placed\n"
     ]
    }
   ],
   "source": [
    "p = rf.predict(new_data)\n",
    "if p == 1:\n",
    "    print('Placed')\n",
    "else:\n",
    "    print(\"Not-placed\")"
   ]
  },
  {
   "cell_type": "code",
   "execution_count": 120,
   "id": "00bfecc2",
   "metadata": {},
   "outputs": [
    {
     "data": {
      "text/plain": [
       "array([[0., 1.]])"
      ]
     },
     "execution_count": 120,
     "metadata": {},
     "output_type": "execute_result"
    }
   ],
   "source": [
    "prob = rf.predict_proba(new_data)\n",
    "\n",
    "prob"
   ]
  },
  {
   "cell_type": "code",
   "execution_count": 121,
   "id": "c9e6e1fe",
   "metadata": {},
   "outputs": [
    {
     "name": "stdout",
     "output_type": "stream",
     "text": [
      "You will be placed with probability of 1.000\n"
     ]
    }
   ],
   "source": [
    "print(f\"You will be placed with probability of {prob[0][1]:.3f}\")"
   ]
  },
  {
   "cell_type": "markdown",
   "id": "a55c22fc",
   "metadata": {},
   "source": [
    "### Save Model Using Pickle Library"
   ]
  },
  {
   "cell_type": "code",
   "execution_count": 122,
   "id": "6bd448d1",
   "metadata": {},
   "outputs": [],
   "source": [
    "pickle.dump(rf, open('model.pkl','wb'))"
   ]
  },
  {
   "cell_type": "code",
   "execution_count": 123,
   "id": "df9baaf4",
   "metadata": {},
   "outputs": [],
   "source": [
    "model = pickle.load(open('model.pkl','rb'))"
   ]
  },
  {
   "cell_type": "code",
   "execution_count": 124,
   "id": "a2afa63f",
   "metadata": {},
   "outputs": [
    {
     "data": {
      "text/plain": [
       "array([1], dtype=int64)"
      ]
     },
     "execution_count": 124,
     "metadata": {},
     "output_type": "execute_result"
    }
   ],
   "source": [
    "model.predict(new_data)"
   ]
  },
  {
   "cell_type": "code",
   "execution_count": 125,
   "id": "7ff1914d",
   "metadata": {},
   "outputs": [
    {
     "name": "stdout",
     "output_type": "stream",
     "text": [
      "Placed\n"
     ]
    }
   ],
   "source": [
    "if(model.predict(new_data) == 1):\n",
    "    print('Placed')\n",
    "else:\n",
    "    print('Not Placed')"
   ]
  },
  {
   "cell_type": "code",
   "execution_count": 126,
   "id": "1f32e92d",
   "metadata": {},
   "outputs": [
    {
     "data": {
      "text/html": [
       "<div>\n",
       "<style scoped>\n",
       "    .dataframe tbody tr th:only-of-type {\n",
       "        vertical-align: middle;\n",
       "    }\n",
       "\n",
       "    .dataframe tbody tr th {\n",
       "        vertical-align: top;\n",
       "    }\n",
       "\n",
       "    .dataframe thead th {\n",
       "        text-align: right;\n",
       "    }\n",
       "</style>\n",
       "<table border=\"1\" class=\"dataframe\">\n",
       "  <thead>\n",
       "    <tr style=\"text-align: right;\">\n",
       "      <th></th>\n",
       "      <th>Age</th>\n",
       "      <th>Gender</th>\n",
       "      <th>Stream</th>\n",
       "      <th>Internships</th>\n",
       "      <th>CGPA</th>\n",
       "      <th>Hostel</th>\n",
       "      <th>HistoryOfBacklogs</th>\n",
       "    </tr>\n",
       "  </thead>\n",
       "  <tbody>\n",
       "    <tr>\n",
       "      <th>0</th>\n",
       "      <td>22</td>\n",
       "      <td>1</td>\n",
       "      <td>2</td>\n",
       "      <td>0</td>\n",
       "      <td>7</td>\n",
       "      <td>0</td>\n",
       "      <td>0</td>\n",
       "    </tr>\n",
       "  </tbody>\n",
       "</table>\n",
       "</div>"
      ],
      "text/plain": [
       "   Age  Gender  Stream  Internships  CGPA  Hostel  HistoryOfBacklogs\n",
       "0   22       1       2            0     7       0                  0"
      ]
     },
     "execution_count": 126,
     "metadata": {},
     "output_type": "execute_result"
    }
   ],
   "source": [
    "new_data = pd.DataFrame({'Age' : 22,\n",
    "                         'Gender' : 1,\n",
    "                         'Stream' : 2,\n",
    "                         'Internships' : 0,\n",
    "                         'CGPA' : 7,\n",
    "                         'Hostel' : 0,\n",
    "                         'HistoryOfBacklogs' : 0},index = [0])\n",
    "new_data"
   ]
  },
  {
   "cell_type": "code",
   "execution_count": 127,
   "id": "fd36a7f2",
   "metadata": {},
   "outputs": [
    {
     "name": "stdout",
     "output_type": "stream",
     "text": [
      "Not Placed\n"
     ]
    }
   ],
   "source": [
    "if(model.predict(new_data) == 1):\n",
    "    print('Placed')\n",
    "else:\n",
    "    print('Not Placed')"
   ]
  },
  {
   "cell_type": "code",
   "execution_count": 128,
   "id": "3f1629fc",
   "metadata": {},
   "outputs": [
    {
     "data": {
      "text/plain": [
       "array([[0.84101818, 0.15898182]])"
      ]
     },
     "execution_count": 128,
     "metadata": {},
     "output_type": "execute_result"
    }
   ],
   "source": [
    "prob = rf.predict_proba(new_data)\n",
    "\n",
    "prob"
   ]
  }
 ],
 "metadata": {
  "kernelspec": {
   "display_name": "Python 3 (ipykernel)",
   "language": "python",
   "name": "python3"
  },
  "language_info": {
   "codemirror_mode": {
    "name": "ipython",
    "version": 3
   },
   "file_extension": ".py",
   "mimetype": "text/x-python",
   "name": "python",
   "nbconvert_exporter": "python",
   "pygments_lexer": "ipython3",
   "version": "3.9.7"
  }
 },
 "nbformat": 4,
 "nbformat_minor": 5
}
